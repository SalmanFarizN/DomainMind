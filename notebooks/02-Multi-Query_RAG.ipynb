{
 "cells": [
  {
   "cell_type": "code",
   "execution_count": 1,
   "id": "7c2706bd",
   "metadata": {},
   "outputs": [],
   "source": [
    "# from dotenv import load_dotenv\n",
    "\n",
    "# Load environment variables from .env file\n",
    "# load_dotenv()\n",
    "\n",
    "# Import required modules\n",
    "import os\n",
    "from langchain_community.document_loaders import PyMuPDFLoader\n",
    "from langchain.text_splitter import RecursiveCharacterTextSplitter\n",
    "from langchain_community.embeddings import HuggingFaceEmbeddings\n",
    "from tqdm import tqdm\n",
    "import torch\n",
    "from langchain_community.vectorstores import Chroma"
   ]
  },
  {
   "cell_type": "markdown",
   "id": "6386b614",
   "metadata": {},
   "source": [
    "# Embedding the PDF files"
   ]
  },
  {
   "cell_type": "markdown",
   "id": "46866d9d",
   "metadata": {},
   "source": [
    "Testing the output after loading of a single PDF file using PyMuPDFLoader()."
   ]
  },
  {
   "cell_type": "code",
   "execution_count": 2,
   "id": "d448f785",
   "metadata": {},
   "outputs": [
    {
     "name": "stdout",
     "output_type": "stream",
     "text": [
      "page_content='Induced-Charge Electrophoresis of Metallodielectric Particles\n",
      "Sumit Gangwal,1 Olivier J. Cayre,1 Martin Z. Bazant,2 and Orlin D. Velev1,*\n",
      "1Department of Chemical and Biomolecular Engineering, North Carolina State University, Raleigh, North Carolina, 27695, USA\n",
      "2Department of Mathematics and Institute for Soldier Nanotechnologies, Massachusetts Institute of Technology,\n",
      "Cambridge, Massachusetts, 02139, USA\n",
      "(Received 27 April 2007; published 4 February 2008)\n",
      "The application of ac electric ﬁelds in aqueous suspensions of anisotropic particles leads to unbalanced\n",
      "liquid ﬂows and nonlinear, induced-charge electrophoretic motion. We report experimental observations\n",
      "of the motion of Janus microparticles with one dielectric and one metal-coated hemisphere induced by\n",
      "uniform ﬁelds of frequency 100 Hz–10 kHz in NaCl solutions. The motion is perpendicular to the ﬁeld\n",
      "axis and persists after particles are attracted to a glass wall. This phenomenon may ﬁnd applications in\n",
      "microactuators, microsensors, and microﬂuidic devices.\n",
      "DOI: 10.1103/PhysRevLett.100.058302\n",
      "PACS numbers: 47.57.jd, 47.57.J\u0001, 81.05.Zx\n",
      "Nonlinear electrokinetic phenomena are widely used to\n",
      "manipulate colloids and drive ﬂows in microﬂuidic de-\n",
      "vices. The liquid and particle velocities typically depend\n",
      "on the strength of the applied ﬁeld squared and are com-\n",
      "monly driven by alternating current (ac) to avoid Faradaic\n",
      "reactions. The classical example is dielectrophoresis\n",
      "(DEP), where a net electrostatic force causes particle mo-\n",
      "tion in a nonuniform ac ﬁeld. Polarization of the ionic\n",
      "double layers can also lead to nonlinear electro-osmotic\n",
      "ﬂows at low frequencies (kHz), as ﬁrst described by\n",
      "Murtsovkin and co-workers [1,2]. Bazant and Squires\n",
      "[3,4] conceptually uniﬁed this phenomenon with ac\n",
      "electro-osmosis at electrodes, ﬁrst described by Ramos\n",
      "et al. [5] and Ajdari [6], and suggested the term\n",
      "‘‘induced-charge electro-osmosis’’ (ICEO) to describe all\n",
      "ﬂows resulting from the action of an applied electric ﬁeld\n",
      "on its own induced diffuse charge near a polarizable sur-\n",
      "face. They also predicted how broken symmetries could\n",
      "cause polarizable particles to move in electric ﬁelds by\n",
      "‘‘induced-charge electrophoresis’’ (ICEP) [3,7].\n",
      "Although ICEO ﬂows have been observed in diverse\n",
      "settings [1,5,8,9], ICEP motion of colloids is largely unex-\n",
      "plored. In what may be the only prior experimental work,\n",
      "Murtsovkin and Mantrov [10] observed that the motion of\n",
      "quartz particles of irregular shapes varies with the square of\n",
      "the applied ﬁeld, but did not provide a theory. General\n",
      "mobility relations for homogenous nonspherical conduct-\n",
      "ing particles have been derived [11] and ICEP motion has\n",
      "been calculated for arbitrary shape perturbations [7], as\n",
      "well as rodlike spheroidal shapes [12].\n",
      "The synthesis of ‘‘Janus’’ particles (whose halves are\n",
      "physically or chemically different) and their application in\n",
      "novel materials is a relatively new but rapidly expanding\n",
      "research ﬁeld [13–17]. Anisotropic particles with two\n",
      "hemispheres of different polarizabily or conductance\n",
      "have been produced by thermal evaporation [18] or gold\n",
      "sputtering [19]. The mobility of such particles in external\n",
      "ﬁelds, however, has not been investigated systematically.\n",
      "In this Letter, we report how metallodielectric Janus\n",
      "particles suspended in water perform ICEP motion in\n",
      "directions perpendicular to a uniform ac ﬁeld. This unusual\n",
      "phenomenon, which cannot be attributed to DEP, is the ﬁrst\n",
      "experimental observation of an effect predicted theoreti-\n",
      "cally by Squires and Bazant [7], although we ﬁnd impor-\n",
      "tant differences as well. Using the standard low-voltage\n",
      "model for thin double layers, Squires and Bazant predicted\n",
      "that a metallic sphere with a hemispherical dielectric coat-\n",
      "ing oriented perpendicular to the ﬁeld will move by ICEP\n",
      "in the direction of its dielectric end at a velocity,\n",
      " UICEP \u0002 9\n",
      "64\n",
      "\"RE2\n",
      "0\n",
      "\u0001\u00031 \u0004 \u0002\u0005 ;\n",
      "(1)\n",
      "where \" is the permittivity and \u0001 the viscosity of the bulk\n",
      "solvent, R is the radius of the sphere, E0 is the ﬁeld\n",
      "amplitude, and \u0002 is the ratio of the differential capacitances\n",
      "of the compact and diffuse layers. Equation (1) also de-\n",
      "scribes the time-averaged velocity in a square-wave ac\n",
      "ﬁeld at low frequency, as in our experiments.\n",
      "The Janus particles studied were prepared by partially\n",
      "coating dielectric microspheres with a conductive layer of\n",
      "gold. Aqueous suspensions of surfactant-free sulfate-\n",
      "stabilized polystyrene latex spheres (diameter, D \u0002 4:0,\n",
      "5.7, and 8:7 \u0003m) were purchased from Interfacial Dynam-\n",
      "ics Corporation (OR). After centrifuging and washing with\n",
      "ultrapure milli-Q water the particles were concentrated and\n",
      "deposited in monolayers on precleaned glass slides by our\n",
      "convective assembly method [20]. The top sides of the\n",
      "dried particle monolayers were coated with 10 nm of\n",
      "chromium followed by 20 nm of gold in a metal evaporator.\n",
      "The Janus particles formed [Fig. 1(a)] were then redis-\n",
      "persed in milli-Q water by mild sonication.\n",
      "Diluted particle suspensions (approximately \u00060:01%\n",
      "solids) were injected in the thin chamber of an experimen-\n",
      "tal cell facing two electrodes [Fig. 1(b)]. The ﬁeld-driven\n",
      "motion of the particles in the chamber was recorded with a\n",
      "digital camera from above using an Olympus BX-61 opti-\n",
      "PRL 100, 058302 (2008)\n",
      "P H Y S I C A L\n",
      "R E V I E W\n",
      "L E T T E R S\n",
      "week ending\n",
      "8 FEBRUARY 2008\n",
      "0031-9007=08=100(5)=058302(4)\n",
      "058302-1\n",
      "© 2008 The American Physical Society' metadata={'producer': 'Acrobat Distiller 6.0.1 (Windows)', 'creator': '3B2 Total Publishing System 8.07g/W', 'creationdate': '2008-01-31T15:53:54-05:00', 'source': '../data/raw/files/417/Gangwal et al. - 2008 - Induced-Charge Electrophoresis of Metallodielectri.pdf', 'file_path': '../data/raw/files/417/Gangwal et al. - 2008 - Induced-Charge Electrophoresis of Metallodielectri.pdf', 'total_pages': 4, 'format': 'PDF 1.4', 'title': 'untitled', 'author': '', 'subject': '', 'keywords': '', 'moddate': '2008-01-31T15:53:54-05:00', 'trapped': '', 'modDate': \"D:20080131155354-05'00'\", 'creationDate': \"D:20080131155354-05'00'\", 'page': 0}\n",
      "page_content='cal microscope. The average particle velocities were cal-\n",
      "culated for 15–25 particles for each experimental condi-\n",
      "tion. The standard error of each average is reported in all\n",
      "plots.\n",
      "The Janus particles were subjected to ac ﬁelds between\n",
      "100–320 V=cm at a frequency between 0.1–10 kHz. When\n",
      "the electric ﬁeld in the cell was turned on, the particles\n",
      "oriented such that the plane between their hemispheres\n",
      "(gold-coated or conductive hemisphere appearing dark\n",
      "and bare or dielectric hemisphere appearing light) aligned\n",
      "in the direction of the electric ﬁeld. The rotation of the\n",
      "particles to this stable orientation can be caused at least\n",
      "partly by DEP, since it results in the largest induced dipole\n",
      "moment, aligned with the electric ﬁeld direction. ICEO\n",
      "ﬂows may also contribute, however, since the associated\n",
      "hydrodynamic torque is predicted to rotate the particle to\n",
      "the same orientation as DEP [7]. The particles then moved\n",
      "normal to the applied electric ﬁeld with their polystyrene\n",
      "hemisphere forward [Fig. 2(a)]. This motion cannot be\n",
      "attributed to DEP. The larger particles moved at a higher\n",
      "velocity than the smaller ones [Fig. 2(a)]. The phenomenon\n",
      "is nicely illustrated in the movies provided as supplemen-\n",
      "tary material [21].\n",
      "These observations of a new mode of particle mobility\n",
      "are qualitatively consistent with ICEP [7]. At low ac fre-\n",
      "quency, there is ample time for double-layer charging to\n",
      "screen the electric ﬁeld, leading to the induced-charge\n",
      "distribution sketched in Fig. 2(b). In each half cycle of\n",
      "the ac ﬁeld, all of the induced charges change sign in phase\n",
      "with the ﬁeld, thus yielding the same ICEO ﬂow, varying as\n",
      "E2. For a homogeneous particle, the ﬂow proﬁle is quad-\n",
      "rupolar, drawing ﬂuid in along the ﬁeld axis and ejecting it\n",
      "FIG. 2.\n",
      "(a) Optical micrographs from different frames of a\n",
      "recording of the position and orientation of Janus particles of\n",
      "three different diameters (4.0, 5.7 and 8:7 \u0003m) in an ac ﬁeld of\n",
      "amplitude 140 V=cm and frequency 1 kHz. The two particles on\n",
      "the right side in the top image have moved out of the ﬁeld of\n",
      "view and another particle has moved into view in the bottom\n",
      "image approximately 5 s later. (b) Schematic of a particle in one-\n",
      "half cycle of ac electric ﬁeld in the stable conﬁguration. The\n",
      "electric double layer on the gold side (black hemisphere) is more\n",
      "strongly polarized and thus drives a stronger ICEO slip (arrows)\n",
      "than the polystyrene side, resulting in ICEP motion in the\n",
      "direction of the dielectric side.\n",
      "FIG. 1.\n",
      "(a) SEM image of 4:0 \u0003m polystyrene particles par-\n",
      "tially coated with gold. The gold-coated hemispheres appear\n",
      "brighter due to their higher conductance. (b) Schematic of the\n",
      "experimental set-up (not drawn to scale). Two gold electrodes\n",
      "are deposited on the bottom plate. A Teﬂon spacer sustains a\n",
      "60–80 \u0003m gap between the bottom and the top microscope\n",
      "cover slip. The particle suspension is surrounded by a hydro-\n",
      "phobic ring and conﬁned in this thin chamber by capillarity.\n",
      "PRL 100, 058302 (2008)\n",
      "P H Y S I C A L\n",
      "R E V I E W\n",
      "L E T T E R S\n",
      "week ending\n",
      "8 FEBRUARY 2008\n",
      "058302-2' metadata={'producer': 'Acrobat Distiller 6.0.1 (Windows)', 'creator': '3B2 Total Publishing System 8.07g/W', 'creationdate': '2008-01-31T15:53:54-05:00', 'source': '../data/raw/files/417/Gangwal et al. - 2008 - Induced-Charge Electrophoresis of Metallodielectri.pdf', 'file_path': '../data/raw/files/417/Gangwal et al. - 2008 - Induced-Charge Electrophoresis of Metallodielectri.pdf', 'total_pages': 4, 'format': 'PDF 1.4', 'title': 'untitled', 'author': '', 'subject': '', 'keywords': '', 'moddate': '2008-01-31T15:53:54-05:00', 'trapped': '', 'modDate': \"D:20080131155354-05'00'\", 'creationDate': \"D:20080131155354-05'00'\", 'page': 1}\n",
      "page_content='radially from the equator [3]. For our Janus particles in the\n",
      "stable orientation, however, the induced charge, and hence\n",
      "the ICEO ﬂow, are much stronger around the metal-coated\n",
      "hemisphere, driving the particle to move by ICEP in the\n",
      "direction of the dielectric hemisphere, normal to the elec-\n",
      "tric ﬁeld.\n",
      "Surprisingly, the moving Janus spheres appear to be\n",
      "dynamically attracted to the glass walls. While the parti-\n",
      "cles performed transverse motion they remained in stable\n",
      "trajectories, apparently within a few particle diameters of\n",
      "the top or bottom walls. The experimentally observed\n",
      "behavior is likely due to the asymmetry of the Janus\n",
      "particles, since homogenous particles are expected to\n",
      "push away from insulating walls due to ICEO ﬂows [22].\n",
      "The near-wall trajectories allowed convenient experimen-\n",
      "tal measurements of the velocity of particles moving along\n",
      "the top wall of the cell. Since Eq. (1) was derived for a\n",
      "particle in an inﬁnite ﬂuid, we mainly test the velocity\n",
      "scaling with E0, R, and electrolyte concentration, c0. We\n",
      "were not able to measure precisely the velocity of particles\n",
      "moving freely in the liquid (before encountering either\n",
      "wall) because of experimental difﬁculties with keeping\n",
      "the particles in focus and estimating the vertical compo-\n",
      "nent of their velocity.\n",
      "The data for the dependence of the particle velocity on\n",
      "the ﬁeld strength and salt concentration are plotted in\n",
      "Fig. 3. In ultrapure water and in 0.1 mM NaCl, the particle\n",
      "velocity scales as UICEP \u0002 k\u00039\"R\n",
      "64\u0001\u0005E0\n",
      "2, in accordance with\n",
      "Eq. (1). The ﬁtted coefﬁcient k \u0002 0:090 \u0007 0:002 for c0 \u0002\n",
      "0:1 mM implies \u0002 10. This value is somewhat larger\n",
      "than in prior work on ICEO ﬂow in KCl [9], but the ﬁt must\n",
      "be corrected for wall interactions, which reduce the ICEP\n",
      "velocity (see below). With increasing NaCl concentration,\n",
      "the ﬁeld scaling displays an apparent offset for a critical\n",
      "ﬁeld required to drive the motion, which is not predicted by\n",
      "the theory. More importantly, the ICEP velocity decreases\n",
      "rapidly as the electrolyte concentration is gradually in-\n",
      "creased from 0.1 to 3 mM, extrapolating to zero velocity\n",
      "at approximately 10 mM. The weak concentration depen-\n",
      "dence in (1) through \u0002 /\n",
      "\u0001\u0001\u0001\u0001c0\n",
      "p\n",
      "(via the Debye length)\n",
      "cannot explain this dramatic ﬂow suppression.\n",
      "The existing ICEO theory can only be justiﬁed for dilute\n",
      "solutions at ‘‘small’’ applied voltages [4], where the in-\n",
      "duced potential drop across the diffuse layer is less than the\n",
      "thermal voltage kT=e \u0002 25 mV. It assumes that the veloc-\n",
      "ity will follow Smoluchowski’s formula for electro-\n",
      "osmotic slip mobility,\n",
      " us \u0002 \u0001 \"\u0004\u0003E\u0005E\n",
      "\u0001\n",
      ";\n",
      "(2)\n",
      "where \u0004\u0003E\u0005 is the (induced) potential drop  at the no-slip\n",
      "plane, relative to the neutral bulk solution just outside the\n",
      "double layer. For the 5:7 \u0003m particles, the background\n",
      "voltage Vb \u0002 ER across each hemisphere varies from\n",
      "1.33 to 3:55 kT=e, so our experiments probe the transition\n",
      "to ‘‘large’’ applied voltages. The functional dependence of\n",
      "such ICEO ﬂows on the induced double-layer voltage has\n",
      "been recently expressed by Bazant et al. considering steric\n",
      "effects of counterion crowding [23]. The ICEP velocity of\n",
      "the 5:7 \u0003m Janus particles decayed at NaCl concentrations\n",
      "above 0.1 mM (Fig. 3). The critical concentration where\n",
      "the velocity extrapolates to zero is remarkably small,\n",
      "cmax 10 mM. Similar strong concentration dependence\n",
      "FIG. 3.\n",
      "Velocity of 5:7 \u0003m Janus particles as a function of\n",
      "electric ﬁeld intensity squared (E0\n",
      "2) for various NaCl concen-\n",
      "trations at 1 kHz. The linear ﬁts generally agree with the\n",
      "experimental values for low intensities and start deviating for\n",
      "E0 > 280 V=cm.\n",
      "FIG. 4.\n",
      "Average velocity of different size particles as a func-\n",
      "tion of their average diameter at 300 V=cm in 0.1 mM NaCl at a\n",
      "ﬁeld frequency of 1 kHz. The data points were obtained by\n",
      "determining the velocity of 286 particles grouped by diameters\n",
      "within a 1:5 \u0003m range. The line is a ﬁt to Eq. (1) described in the\n",
      "main text.\n",
      "PRL 100, 058302 (2008)\n",
      "P H Y S I C A L\n",
      "R E V I E W\n",
      "L E T T E R S\n",
      "week ending\n",
      "8 FEBRUARY 2008\n",
      "058302-3' metadata={'producer': 'Acrobat Distiller 6.0.1 (Windows)', 'creator': '3B2 Total Publishing System 8.07g/W', 'creationdate': '2008-01-31T15:53:54-05:00', 'source': '../data/raw/files/417/Gangwal et al. - 2008 - Induced-Charge Electrophoresis of Metallodielectri.pdf', 'file_path': '../data/raw/files/417/Gangwal et al. - 2008 - Induced-Charge Electrophoresis of Metallodielectri.pdf', 'total_pages': 4, 'format': 'PDF 1.4', 'title': 'untitled', 'author': '', 'subject': '', 'keywords': '', 'moddate': '2008-01-31T15:53:54-05:00', 'trapped': '', 'modDate': \"D:20080131155354-05'00'\", 'creationDate': \"D:20080131155354-05'00'\", 'page': 2}\n",
      "page_content='has been observed in microﬂuidic pumping by ac electro-\n",
      "osmosis [24], but we are not aware of any prior observation\n",
      "in colloids. It might be a universal feature of ICEO ﬂows\n",
      "[23].\n",
      "We also investigated the dependence of the ICEP veloc-\n",
      "ity on the ac ﬁeld frequency. ICEO ﬂows around polar-\n",
      "izable objects persist only in a certain band of driving\n",
      "frequencies, \u0005\u00011\n",
      "e\n",
      "\t ! \t \u0005\u00011\n",
      "p\n",
      "[4]. The upper limit is set\n",
      "by the characteristic ‘‘RC time’’ \u0005p \u0002 \u0006R\n",
      "D for the formation\n",
      "of the induced screening cloud on the particle, where \u0006 is\n",
      "the Debye length and D is the ion diffusion coefﬁcient. The\n",
      "lower limit is set by the analogous charging time of the\n",
      "electrodes, \u0005e \u0002 \u0006L\n",
      "D , where 2L is the electrode separation.\n",
      "The estimated upper and lower characteristic frequencies\n",
      "for this experiment are \u0005\u00011\n",
      "e\n",
      "\b 20 Hz and \u0005\u00011\n",
      "p\n",
      "\b 12 kHz.\n",
      "The particle velocities measured indeed decreased when\n",
      "approaching both characteristic frequencies (supplemen-\n",
      "tary Fig. 1 [21]). Finally, we characterized the dependence\n",
      "of the ICEP velocity on particle size. At E0 \u0002 300 V=cm,\n",
      "c0 \u0002 0:1 mM, and !\u0005p \n",
      " 1 the average velocity in-\n",
      "creases roughly linearly with particle diameter at small\n",
      "sizes but seems to reach a constant value around 8 \u0003m\n",
      "(Fig. 4), which corresponds to an induced voltage E0R \u0002\n",
      "0:24 V 10 kT=e, well into the nonlinear regime. The\n",
      "linear ﬁt from Eq. (1) yields k \u0002 0:073 \u0007 0:002 or \u0002\n",
      "12, which is consistent with the ﬁt of \u0002 10 obtained from\n",
      "the E0\n",
      "2 scaling in Fig. 3.\n",
      "The strong ICEP effect observed here is in semiquanti-\n",
      "tative agreement with the theory. The results for velocity\n",
      "for low electrolyte concentrations are consistent with the\n",
      "scalings of Eq. (1), though smaller by up to an order of\n",
      "magnitude k\u00011 \u0002 11–13 (for \u0002 \u0002 0). The smaller veloc-\n",
      "ities are likely a result of wall-particle interactions. The\n",
      "Janus particles motion in stable near-wall trajectories may\n",
      "be due to tilting of the dielectric hemisphere to face the\n",
      "wall, caused by asymmetric ICEO ﬂow [25]. If double-\n",
      "layer repulsion between latex and glass is present, the\n",
      "model yielding Eq. (1) can predict ICEP translation at tilt\n",
      "angles up to 45\u000b and at velocities30% smaller than in the\n",
      "bulk, in which case the experimental data can be ﬁt with\n",
      "\u0002 \u0002 7. Indications of tilting can be seen in the experiment,\n",
      "but detecting and measuring small tilt angles from the\n",
      "images is not possible. Other effects may be present as\n",
      "well. Complex ICEO (electrohydrodynamic) ﬂows on elec-\n",
      "trodes are known to attract particles and drive their self-\n",
      "assembly [26,27], but their importance in this different\n",
      "geometry is yet to be evaluated.\n",
      "In summary, we demonstrated that metallodielectric\n",
      "Janus particles move perpendicular to a uniform ac electric\n",
      "ﬁeld as a result of induced-charge electrophoretic force.\n",
      "This is, to our knowledge, the ﬁrst report of this fascinating\n",
      "phenomenon that can now guide further development of\n",
      "the theory. The propelling metallodielectric particles could\n",
      "eventually be used as microscopic mixers, ‘‘shuttles,’’ self-\n",
      "propelling on-chip sensors, microactuators and microsen-\n",
      "sors in MEMS devices, optoelectronic devices or for sep-\n",
      "arations in microﬂuidic devices.\n",
      "This research was supported by an NSF-NIRT grant and\n",
      "Camille\n",
      "and\n",
      "Henry\n",
      "Dreyfus\n",
      "Teacher-Scholar\n",
      "grant\n",
      "(NCSU) and by the U.S. Army through the Institute for\n",
      "Soldier Nanotechnologies (ARO contract No. DAAD-19-\n",
      "02-0002, MIT).\n",
      "*odvelev@unity.ncsu.edu\n",
      "[1] V. A. Murtsovkin, Colloid J. 58, 341 (1996).\n",
      "[2] N. I. Gamayunov, V. A. Murtsovkin, and A. S. Dukhin,\n",
      "Colloid J. USSR 48, 197 (1986).\n",
      "[3] M. Z. Bazant and T. M. Squires, Phys. Rev. Lett. 92,\n",
      "066101 (2004).\n",
      "[4] T. M. Squires and M. Z. Bazant, J. Fluid Mech. 509, 217\n",
      "(2004).\n",
      "[5] A. Ramos, H. Morgan, N. G. Green, and A. Castellanos,\n",
      "J. Phys. D 31, 2338 (1998).\n",
      "[6] A. Ajdari, Phys. Rev. E 61, R45 (2000).\n",
      "[7] T. M. Squires and M. Z. Bazant, J. Fluid Mech. 560, 65\n",
      "(2006).\n",
      "[8] A. Ramos, H. Morgan, N. G. Green, and A. Castellanos,\n",
      "J. Colloid Interface Sci. 217, 420 (1999).\n",
      "[9] J. A. Levitan, S. Devasenathipathy, V. Studer, Y. Ben,\n",
      "T. Thorsen, T. M. Squires, and M. Z. Bazant, Colloids\n",
      "Surf. A, 267, 122 (2005).\n",
      "[10] V. A. Murtsovkin and G. I. Mantrov, Colloid J. USSR 52,\n",
      "933 (1990).\n",
      "[11] E. Yariv, Phys. Fluids 17, 051702 (2005).\n",
      "[12] D. E. Saintillan, E. Darve, and E. S. G. Shaqfeh, J. Fluid\n",
      "Mech. 563, 223 (2006).\n",
      "[13] O. D. Velev, A. M. Lenhoff, and E. W. Kaler, Science 287,\n",
      "2240 (2000).\n",
      "[14] O. Cayre, V. N. Paunov, and O. D. Velev, J. Mater. Chem.\n",
      "13, 2445 (2003).\n",
      "[15] Z. Nie, W. Li, M. Seo, S. Xu, and E. J. Kumacheva, J. Am.\n",
      "Chem. Soc. 128, 9408 (2006).\n",
      "[16] K. Roh, D. C. Martin, and J. Lahann, Nat. Mater. 4, 759\n",
      "(2005).\n",
      "[17] S. C. Glotzer and M. J. Soloman, Nat. Mater. 6, 557\n",
      "(2007).\n",
      "[18] H. Takei and N. Shimizu, Langmuir 13, 1865 (1997).\n",
      "[19] V. N. Paunov and O. J. Cayre, Adv. Mater. 16, 788 (2004).\n",
      "[20] B. G. Prevo and O. D. Velev, Langmuir 20, 2099 (2004).\n",
      "[21] See EPAPS Document No. E-PRLTAO-100-007806 for\n",
      "supplementary movies and ﬁgures. For more information\n",
      "on EPAPS, see http://www.aip.org/pubservs/epaps.html.\n",
      "[22] H. Zhao and H. H. Bau, Langmuir 23, 4053 (2007).\n",
      "[23] M. Z. Bazant, M. S. Kilic, B. Storey, and A. Ajdari,\n",
      "arXiv:cond-mat/0703035.\n",
      "[24] V. Studer, A. Pe´pin, Y. Chen, and A. Ajdari, Analyst 129,\n",
      "944 (2004).\n",
      "[25] M. S. Kilic and M. Z. Bazant, arXiv:0712.0453.\n",
      "[26] M. Trau, D. A. Saville, and I. A. Aksay, Science 272, 706\n",
      "(1996).\n",
      "[27] W. D. Ristenpart, I. A. Aksay, and D. A. Saville, J. Fluid\n",
      "Mech. 575, 83 (2007).\n",
      "PRL 100, 058302 (2008)\n",
      "P H Y S I C A L\n",
      "R E V I E W\n",
      "L E T T E R S\n",
      "week ending\n",
      "8 FEBRUARY 2008\n",
      "058302-4' metadata={'producer': 'Acrobat Distiller 6.0.1 (Windows)', 'creator': '3B2 Total Publishing System 8.07g/W', 'creationdate': '2008-01-31T15:53:54-05:00', 'source': '../data/raw/files/417/Gangwal et al. - 2008 - Induced-Charge Electrophoresis of Metallodielectri.pdf', 'file_path': '../data/raw/files/417/Gangwal et al. - 2008 - Induced-Charge Electrophoresis of Metallodielectri.pdf', 'total_pages': 4, 'format': 'PDF 1.4', 'title': 'untitled', 'author': '', 'subject': '', 'keywords': '', 'moddate': '2008-01-31T15:53:54-05:00', 'trapped': '', 'modDate': \"D:20080131155354-05'00'\", 'creationDate': \"D:20080131155354-05'00'\", 'page': 3}\n"
     ]
    }
   ],
   "source": [
    "loader = PyMuPDFLoader(\n",
    "    \"../data/raw/files/417/Gangwal et al. - 2008 - Induced-Charge Electrophoresis of Metallodielectri.pdf\"\n",
    ")\n",
    "doc = loader.load()\n",
    "# Display the entire PDF\n",
    "for page in doc:\n",
    "    print(page)"
   ]
  },
  {
   "cell_type": "code",
   "execution_count": 12,
   "id": "06ec8574",
   "metadata": {},
   "outputs": [
    {
     "data": {
      "text/plain": [
       "{'producer': 'Acrobat Distiller 6.0.1 (Windows)',\n",
       " 'creator': '3B2 Total Publishing System 8.07g/W',\n",
       " 'creationdate': '2008-01-31T15:53:54-05:00',\n",
       " 'source': '../data/raw/files/417/Gangwal et al. - 2008 - Induced-Charge Electrophoresis of Metallodielectri.pdf',\n",
       " 'file_path': '../data/raw/files/417/Gangwal et al. - 2008 - Induced-Charge Electrophoresis of Metallodielectri.pdf',\n",
       " 'total_pages': 4,\n",
       " 'format': 'PDF 1.4',\n",
       " 'title': 'untitled',\n",
       " 'author': '',\n",
       " 'subject': '',\n",
       " 'keywords': '',\n",
       " 'moddate': '2008-01-31T15:53:54-05:00',\n",
       " 'trapped': '',\n",
       " 'modDate': \"D:20080131155354-05'00'\",\n",
       " 'creationDate': \"D:20080131155354-05'00'\",\n",
       " 'page': 0}"
      ]
     },
     "execution_count": 12,
     "metadata": {},
     "output_type": "execute_result"
    }
   ],
   "source": [
    "doc[0].metadata"
   ]
  },
  {
   "cell_type": "markdown",
   "id": "8d5b1b02",
   "metadata": {},
   "source": [
    "Loading all the PDF files in a directory and splitting each of them into chunks. "
   ]
  },
  {
   "cell_type": "code",
   "execution_count": 2,
   "id": "09790a06",
   "metadata": {},
   "outputs": [
    {
     "name": "stdout",
     "output_type": "stream",
     "text": [
      "Total PDF files found: 286\n"
     ]
    }
   ],
   "source": [
    "# Loop through all folders in the specified directory\n",
    "root_dir = \"../data/raw/files\"  # Change to your target directory\n",
    "file_count = 0\n",
    "\n",
    "# Initialize the text splitter\n",
    "text_splitter = RecursiveCharacterTextSplitter(\n",
    "    chunk_size=1500, chunk_overlap=50  # or 1000 depending on your LLM\n",
    ")\n",
    "\n",
    "split_docs = []\n",
    "\n",
    "for dirpath, dirnames, filenames in os.walk(root_dir):\n",
    "    for filename in filenames:\n",
    "        if filename.lower().endswith(\".pdf\"):\n",
    "            pdf_path = os.path.join(dirpath, filename)\n",
    "            loader = PyMuPDFLoader(pdf_path)\n",
    "            doc = loader.load()\n",
    "            chunks = text_splitter.split_documents(doc)\n",
    "            split_docs.extend(chunks)\n",
    "            file_count += 1\n",
    "\n",
    "print(f\"Total PDF files found: {file_count}\")"
   ]
  },
  {
   "cell_type": "markdown",
   "id": "ab18115d",
   "metadata": {},
   "source": [
    "Configuring the Embedding model e5-base-v2.  "
   ]
  },
  {
   "cell_type": "code",
   "execution_count": 3,
   "id": "b888f852",
   "metadata": {},
   "outputs": [
    {
     "name": "stderr",
     "output_type": "stream",
     "text": [
      "/tmp/ipykernel_1406457/542832890.py:2: LangChainDeprecationWarning: The class `HuggingFaceEmbeddings` was deprecated in LangChain 0.2.2 and will be removed in 1.0. An updated version of the class exists in the :class:`~langchain-huggingface package and should be used instead. To use it run `pip install -U :class:`~langchain-huggingface` and import as `from :class:`~langchain_huggingface import HuggingFaceEmbeddings``.\n",
      "  embedding_model = HuggingFaceEmbeddings(\n",
      "/home/sfnavas-f/Projects/DomainMind/.venv/lib/python3.13/site-packages/tqdm/auto.py:21: TqdmWarning: IProgress not found. Please update jupyter and ipywidgets. See https://ipywidgets.readthedocs.io/en/stable/user_install.html\n",
      "  from .autonotebook import tqdm as notebook_tqdm\n",
      "/home/sfnavas-f/Projects/DomainMind/.venv/lib/python3.13/site-packages/transformers/utils/hub.py:111: FutureWarning: Using `TRANSFORMERS_CACHE` is deprecated and will be removed in v5 of Transformers. Use `HF_HOME` instead.\n",
      "  warnings.warn(\n"
     ]
    }
   ],
   "source": [
    "# Embed the text content in split_docs\n",
    "embedding_model = HuggingFaceEmbeddings(\n",
    "    model_name=\"intfloat/e5-base-v2\",\n",
    "    model_kwargs={\"device\": \"cuda\" if torch.cuda.is_available() else \"cpu\"},\n",
    "    encode_kwargs={\"normalize_embeddings\": True},\n",
    ")"
   ]
  },
  {
   "cell_type": "markdown",
   "id": "68bc3d75",
   "metadata": {},
   "source": [
    "Compute the embeddings in memory. "
   ]
  },
  {
   "cell_type": "code",
   "execution_count": null,
   "id": "39010197",
   "metadata": {},
   "outputs": [],
   "source": [
    "embeddings = []\n",
    "for doc in tqdm(split_docs, desc=\"Embedding documents\"):\n",
    "    emb = embedding_model.embed_documents([doc.page_content])\n",
    "    embeddings.append(emb)"
   ]
  },
  {
   "cell_type": "markdown",
   "id": "2e2b5e8f",
   "metadata": {},
   "source": [
    "Compute the embeddings as a ChromaDB and store them as a Chroma VectorDB locally. "
   ]
  },
  {
   "cell_type": "code",
   "execution_count": null,
   "id": "4cf6f5a9",
   "metadata": {},
   "outputs": [],
   "source": [
    "# Compute the embeddings and store it into a FAISS vector store\n",
    "vectorstore = Chroma.from_documents(\n",
    "    split_docs,\n",
    "    embedding_model,\n",
    "    persist_directory=\"../data/doc_vectordb\",\n",
    ")"
   ]
  },
  {
   "cell_type": "markdown",
   "id": "69854bd0",
   "metadata": {},
   "source": [
    "Load an existing, local Chroma Vector DB."
   ]
  },
  {
   "cell_type": "code",
   "execution_count": 4,
   "id": "0a2f9618",
   "metadata": {},
   "outputs": [
    {
     "name": "stderr",
     "output_type": "stream",
     "text": [
      "/tmp/ipykernel_1406457/360242083.py:2: LangChainDeprecationWarning: The class `Chroma` was deprecated in LangChain 0.2.9 and will be removed in 1.0. An updated version of the class exists in the :class:`~langchain-chroma package and should be used instead. To use it run `pip install -U :class:`~langchain-chroma` and import as `from :class:`~langchain_chroma import Chroma``.\n",
      "  vectorstore = Chroma(\n"
     ]
    }
   ],
   "source": [
    "# Load the vector store\n",
    "vectorstore = Chroma(\n",
    "    persist_directory=\"../data/doc_vectordb\",\n",
    "    embedding_function=embedding_model,\n",
    ")"
   ]
  },
  {
   "cell_type": "markdown",
   "id": "50b3c92c",
   "metadata": {},
   "source": [
    "## Retrieval "
   ]
  },
  {
   "cell_type": "markdown",
   "id": "02ae8f38",
   "metadata": {},
   "source": [
    "Configuring the retriever on the vectorstore object. "
   ]
  },
  {
   "cell_type": "code",
   "execution_count": 5,
   "id": "80437db1",
   "metadata": {},
   "outputs": [],
   "source": [
    "retriever = vectorstore.as_retriever(search_kwargs={\"k\": 3})"
   ]
  },
  {
   "cell_type": "markdown",
   "id": "61ca4323",
   "metadata": {},
   "source": [
    "Checking the retriver. "
   ]
  },
  {
   "cell_type": "code",
   "execution_count": 21,
   "id": "b112c87f",
   "metadata": {},
   "outputs": [
    {
     "name": "stderr",
     "output_type": "stream",
     "text": [
      "/home/sfnavas-f/Projects/doc_chat/.venv/lib/python3.13/site-packages/torch/nn/modules/module.py:1762: FutureWarning: `encoder_attention_mask` is deprecated and will be removed in version 4.55.0 for `BertSdpaSelfAttention.forward`.\n",
      "  return forward_call(*args, **kwargs)\n"
     ]
    },
    {
     "data": {
      "text/plain": [
       "'self-assembly are one-dimensional (1D) chains,9–13 2D- and 3D-\\ncrystals9,12–15 as well as sheet- and membrane-like structures16,17\\nformed by polarizable (superparamagnetic) particles in electric\\n(magnetic) \\ue103elds. Microscopically, all of these structures origi-\\nnate from the \\ue103eld-induced, anisotropic dipole–dipole interac-\\ntions and their interplay with the external \\ue103eld. The resulting\\nstructural eﬀects have been extensively studied by theory (see\\ne.g., ref. 18–21) and simulations (see e.g., ref. 10, 22 and 23).\\nCompared to the structures formed by “simple” particles\\nwith permanent or induced dipole moments, our theoretical\\nunderstanding of (\\ue103eld-driven) assembly of particles with\\nmultipolar interactions is in its infancy.24 This is in contrast to\\nthe signi\\ue103cant experimental progress that has been made in\\nsynthesizing novel colloidal particles with tunable directional\\ninteractions. If such systems are, in addition, susceptible to an\\nexternal \\ue103eld, new and unexpected structures can be formed. A\\nprime\\nexample\\nis\\nthe\\nassembly\\nof\\nJanus\\nand\\npatchy\\nmetallodielectric particles25 recently characterized by one of us\\nusing optical microscopy.26 Due to induced multipolar (rather\\nthan dipolar) interactions which are frequency-dependent, such\\nmetallodielectric particles can form not only \\ue103eld-aligned\\nchains but also chains and long clusters perpendicular to the\\n\\ue103eld.26 In other words, a uniaxial electric \\ue103eld induces here a 2D'"
      ]
     },
     "execution_count": 21,
     "metadata": {},
     "output_type": "execute_result"
    }
   ],
   "source": [
    "docs = retriever.get_relevant_documents(\n",
    "    \"What are some explaes of anisotropic self-assembly?\"\n",
    ")\n",
    "docs[0].page_content"
   ]
  },
  {
   "cell_type": "markdown",
   "id": "b1c27d23",
   "metadata": {},
   "source": [
    "# LangChain"
   ]
  },
  {
   "cell_type": "markdown",
   "id": "5a58a15b",
   "metadata": {},
   "source": [
    "Configuring a prompt template using LangChain"
   ]
  },
  {
   "cell_type": "code",
   "execution_count": 5,
   "id": "14fdcdcd",
   "metadata": {},
   "outputs": [
    {
     "data": {
      "text/plain": [
       "ChatPromptTemplate(input_variables=['context', 'question'], input_types={}, partial_variables={}, messages=[HumanMessagePromptTemplate(prompt=PromptTemplate(input_variables=['context', 'question'], input_types={}, partial_variables={}, template='Answer the question based only on the following context:\\n{context}\\n\\nQuestion: {question}\\n'), additional_kwargs={})])"
      ]
     },
     "execution_count": 5,
     "metadata": {},
     "output_type": "execute_result"
    }
   ],
   "source": [
    "from langchain.prompts import ChatPromptTemplate\n",
    "\n",
    "# Prompt\n",
    "template = \"\"\"Answer the question based only on the following context:\n",
    "{context}\n",
    "\n",
    "Question: {question}\n",
    "\"\"\"\n",
    "\n",
    "prompt = ChatPromptTemplate.from_template(template)\n",
    "prompt"
   ]
  },
  {
   "cell_type": "markdown",
   "id": "5d1ecbdb",
   "metadata": {},
   "source": [
    "Setting up a locally running LLM using Ollama."
   ]
  },
  {
   "cell_type": "code",
   "execution_count": 8,
   "id": "5e224a1e",
   "metadata": {},
   "outputs": [
    {
     "name": "stderr",
     "output_type": "stream",
     "text": [
      "/tmp/ipykernel_1406457/3711433035.py:6: LangChainDeprecationWarning: The class `ChatOllama` was deprecated in LangChain 0.3.1 and will be removed in 1.0.0. An updated version of the class exists in the :class:`~langchain-ollama package and should be used instead. To use it run `pip install -U :class:`~langchain-ollama` and import as `from :class:`~langchain_ollama import ChatOllama``.\n",
      "  llm = ChatOllama(model=\"qwen3:8b\", base_url=\"http://localhost:11434\", streaming=True)\n"
     ]
    }
   ],
   "source": [
    "# LLM\n",
    "from langchain_community.chat_models import ChatOllama\n",
    "from fastapi.responses import StreamingResponse\n",
    "\n",
    "\n",
    "llm = ChatOllama(model=\"qwen3:8b\", base_url=\"http://localhost:11434\", streaming=True)"
   ]
  },
  {
   "cell_type": "markdown",
   "id": "6995ced3",
   "metadata": {},
   "source": [
    "A basic LangChain combining a prompt to an LLM. Retrieval is performed above (separately). "
   ]
  },
  {
   "cell_type": "code",
   "execution_count": null,
   "id": "ba259df0",
   "metadata": {},
   "outputs": [],
   "source": [
    "# Chain\n",
    "chain = prompt | llm\n",
    "\n",
    "# Run\n",
    "chain.invoke(\n",
    "    {\n",
    "        \"context\": docs,\n",
    "        \"question\": \"What are some examples of anisotropic self-assembly?\",\n",
    "    }\n",
    ")"
   ]
  },
  {
   "cell_type": "markdown",
   "id": "2e833de0",
   "metadata": {},
   "source": [
    "Sample RAG prompts can also be imported from LangChain hub. "
   ]
  },
  {
   "cell_type": "code",
   "execution_count": null,
   "id": "3f6817b6",
   "metadata": {},
   "outputs": [],
   "source": [
    "# Sample RAG prompt from LangChain Hub\n",
    "from langchain import hub\n",
    "\n",
    "prompt_hub_rag = hub.pull(\"rlm/rag-prompt\")\n",
    "prompt_hub_rag"
   ]
  },
  {
   "cell_type": "markdown",
   "id": "68c211fb",
   "metadata": {},
   "source": [
    "Chain combining Retrieval (happening internally now) and the generation. "
   ]
  },
  {
   "cell_type": "code",
   "execution_count": 8,
   "id": "afd8dd27",
   "metadata": {},
   "outputs": [
    {
     "name": "stderr",
     "output_type": "stream",
     "text": [
      "/home/sfnavas-f/Projects/doc_chat/.venv/lib/python3.13/site-packages/torch/nn/modules/module.py:1762: FutureWarning: `encoder_attention_mask` is deprecated and will be removed in version 4.55.0 for `BertSdpaSelfAttention.forward`.\n",
      "  return forward_call(*args, **kwargs)\n"
     ]
    },
    {
     "data": {
      "text/plain": [
       "'<think>\\nOkay, let\\'s try to figure out what the answer is. The user is asking, \"What are colloidal particles?\" and they want me to answer based only on the provided context.\\n\\nFirst, I need to look through the given documents to find relevant information. Let me start by scanning each document\\'s page content.\\n\\nThe first document mentions colloidal particles in the context of their interactions. It talks about particles coated with polymers, like spherical silica particles. It also discusses hydrodynamic interactions and direct interactions between colloidal particles. However, it doesn\\'t give a clear definition of what colloidal particles are, just their properties and interactions.\\n\\nThe second document is about colloidal self-assembly and mentions colloidal particles in various contexts, like Janus particles and their behavior under light. Again, it\\'s more about their interactions and applications rather than defining them.\\n\\nThe third document refers to colloidal particles in the context of structures formed with water fractions, like micelles and emulsion droplets. It also mentions colloidosomes of Pickering emulsions. But again, it\\'s about the structures they form, not their definition.\\n\\nLooking through all the provided text, none of the documents explicitly define colloidal particles. They discuss interactions, behaviors, and applications but not the fundamental definition. However, there\\'s a mention in the first document that colloidal particles are \"large in comparison to the size of the solvent molecules,\" which is a key characteristic. Also, the context talks about their motion being affected by hydrodynamic interactions, implying they are suspended in a fluid.\\n\\nPutting that together, even though the documents don\\'t directly state the definition, they do mention that colloidal particles are larger than solvent molecules and interact with the fluid, which is a common characteristic. Since the user wants the answer based only on the context provided, I can infer that colloidal particles are particles suspended in a fluid, larger than the solvent molecules, and their motion is influenced by hydrodynamic interactions. However, the exact definition isn\\'t directly given, so I need to make sure I don\\'t add external knowledge. The answer should be based strictly on the context provided.\\n</think>\\n\\nThe provided context does not explicitly define colloidal particles. However, it describes their characteristics and interactions, such as:  \\n- Being **larger than solvent molecules** (e.g., \"colloidal particles are large in comparison to the size of the solvent molecules\").  \\n- Exhibiting **hydrodynamic interactions** with the surrounding fluid, which influence their Brownian motion.  \\n- Forming structures like micelles, emulsion droplets, or colloidosomes under specific conditions (e.g., varying water fractions).  \\n\\nWhile the documents focus on interactions and behaviors rather than a formal definition, colloidal particles are implicitly described as **suspended particles in a fluid** with distinct size and dynamic properties.'"
      ]
     },
     "execution_count": 8,
     "metadata": {},
     "output_type": "execute_result"
    }
   ],
   "source": [
    "from langchain_core.output_parsers import StrOutputParser\n",
    "from langchain_core.runnables import RunnablePassthrough, RunnableLambda\n",
    "\n",
    "rag_chain = (\n",
    "    {\"context\": retriever, \"question\": RunnablePassthrough()}\n",
    "    | prompt\n",
    "    | llm\n",
    "    | StrOutputParser()  # Parse the LLM output into a string\n",
    ")\n",
    "\n",
    "rag_chain.invoke(\"What are colloidal particles?\")"
   ]
  },
  {
   "cell_type": "markdown",
   "id": "dfa17126",
   "metadata": {},
   "source": [
    "Text output streaming. "
   ]
  },
  {
   "cell_type": "code",
   "execution_count": null,
   "id": "087aa4c4",
   "metadata": {},
   "outputs": [],
   "source": [
    "question = \"\"\n",
    "\n",
    "response = \"\"\n",
    "for chunk in rag_chain.stream(question):\n",
    "    text = chunk.content if hasattr(chunk, \"content\") else str(chunk)\n",
    "    print(text, end=\"\", flush=True)  # ✅ Print as it streams\n",
    "    response += text"
   ]
  },
  {
   "cell_type": "markdown",
   "id": "3918a458",
   "metadata": {},
   "source": [
    "Basic gradio interface implementation."
   ]
  },
  {
   "cell_type": "code",
   "execution_count": null,
   "id": "43a39c74",
   "metadata": {},
   "outputs": [],
   "source": [
    "import gradio as gr\n",
    "\n",
    "\n",
    "def rag_qa(user_question):\n",
    "    try:\n",
    "        answer = rag_chain.invoke(user_question)\n",
    "        return answer\n",
    "    except Exception as e:\n",
    "        return f\"❌ Error: {str(e)}\"\n",
    "\n",
    "\n",
    "demo = gr.Interface(\n",
    "    fn=rag_qa,\n",
    "    inputs=gr.Textbox(label=\"Ask a question about your PDFs\"),\n",
    "    outputs=gr.Textbox(label=\"LLM Answer\"),\n",
    "    title=\"📄 Scientific PDF Chatbot\",\n",
    "    description=\"Ask any question based on your local documents. Powered by RAG + Qwen3:8B\",\n",
    ")\n",
    "\n",
    "demo.launch(share=True, inline=False, inbrowser=False)"
   ]
  },
  {
   "cell_type": "markdown",
   "id": "121eb917",
   "metadata": {},
   "source": [
    "Complicated prompt for continued chats. "
   ]
  },
  {
   "cell_type": "code",
   "execution_count": 6,
   "id": "758e6059",
   "metadata": {},
   "outputs": [],
   "source": [
    "from langchain.schema import SystemMessage, HumanMessage, AIMessage\n",
    "from langchain.prompts import ChatPromptTemplate, MessagesPlaceholder\n",
    "from langchain.prompts.chat import HumanMessagePromptTemplate\n",
    "\n",
    "messages = [\n",
    "    MessagesPlaceholder(variable_name=\"history\"),\n",
    "    SystemMessage(\n",
    "        content=\"You are a helpful scientific assistant. Answer using only the context provided.\"\n",
    "    ),\n",
    "    HumanMessagePromptTemplate.from_template(\n",
    "        \"Context:\\n{context}\\n\\nQuestion: {question}\"\n",
    "    ),\n",
    "]\n",
    "\n",
    "prompt = ChatPromptTemplate.from_messages(messages)"
   ]
  },
  {
   "cell_type": "code",
   "execution_count": 10,
   "id": "4cbe4792",
   "metadata": {},
   "outputs": [
    {
     "name": "stderr",
     "output_type": "stream",
     "text": [
      "/tmp/ipykernel_1406457/1252969698.py:10: LangChainDeprecationWarning: The method `BaseRetriever.get_relevant_documents` was deprecated in langchain-core 0.1.46 and will be removed in 1.0. Use :meth:`~invoke` instead.\n",
      "  lambda x: retriever.get_relevant_documents(x[\"question\"])\n",
      "/home/sfnavas-f/Projects/DomainMind/.venv/lib/python3.13/site-packages/torch/nn/modules/module.py:1762: FutureWarning: `encoder_attention_mask` is deprecated and will be removed in version 4.55.0 for `BertSdpaSelfAttention.forward`.\n",
      "  return forward_call(*args, **kwargs)\n"
     ]
    }
   ],
   "source": [
    "from langchain_core.runnables import RunnableLambda, RunnableMap\n",
    "from langchain_core.output_parsers import StrOutputParser\n",
    "\n",
    "\n",
    "# Update the RAG chain\n",
    "rag_chain = (\n",
    "    {\n",
    "        \"history\": RunnableLambda(lambda x: (x[\"history\"])),\n",
    "        \"context\": RunnableLambda(\n",
    "            lambda x: retriever.get_relevant_documents(x[\"question\"])\n",
    "        ),\n",
    "        \"question\": RunnableLambda(lambda x: (x[\"question\"])),\n",
    "    }\n",
    "    | prompt\n",
    "    | llm\n",
    "    | StrOutputParser()\n",
    ")\n",
    "\n",
    "\n",
    "response = rag_chain.invoke(\n",
    "    {\n",
    "        \"question\": \"What are colloidal particles?\",\n",
    "        \"history\": [],  # or previous conversation as LangChain messages\n",
    "    }\n",
    ")"
   ]
  },
  {
   "cell_type": "code",
   "execution_count": 48,
   "id": "7ed14700",
   "metadata": {},
   "outputs": [
    {
     "data": {
      "text/plain": [
       "'<think>\\nOkay, the user is asking, \"What are colloidal particles?\" Let me check the provided context to find the answer.\\n\\nLooking at the first document, there\\'s a mention of colloidal particles in the context of dynamics. It says, \"colloidal particles are large in comparison to the size of the solvent molecules,\" which implies they\\'re larger than solvent molecules but still small enough to be suspended. The text also talks about hydrodynamic interactions, which are interactions mediated through the solvent. \\n\\nIn the second document, there\\'s a reference to colloidal particles in the context of self-assembly, mentioning Janus particles and their behavior. The third document discusses colloidosomes and structures formed with colloidal particles, like micelles and emulsion droplets. \\n\\nPutting this together, colloidal particles are small particles suspended in a fluid, larger than molecules but small enough to remain dispersed. They interact via direct potential interactions and hydrodynamic interactions. The examples given include things like silica particles, Janus particles, and colloidosomes. The key points are their size relative to the solvent, their suspension in a medium, and the types of interactions they undergo.\\n</think>\\n\\nColloidal particles are small particles suspended in a fluid medium, typically larger than individual molecules but small enough to remain dispersed and not settle under gravity. They are characterized by their size (much larger than solvent molecules) and their ability to interact via **direct potential interactions** (e.g., electrostatic, van der Waals forces) and **hydrodynamic interactions** (mediated through the surrounding fluid). These particles can form complex structures, such as micelles, worm-like micelles, or colloidosomes, and exhibit unique dynamic behaviors, including Brownian motion and self-assembly. Examples include spherical silica particles, Janus particles (asymmetric particles with distinct surface properties), and colloidal systems in emulsions. Their interactions with the solvent and other particles are critical in determining their collective dynamics and phase behavior.'"
      ]
     },
     "execution_count": 48,
     "metadata": {},
     "output_type": "execute_result"
    }
   ],
   "source": [
    "response"
   ]
  },
  {
   "cell_type": "code",
   "execution_count": 64,
   "id": "62e8bd2e",
   "metadata": {},
   "outputs": [
    {
     "name": "stdout",
     "output_type": "stream",
     "text": [
      "* Running on local URL:  http://127.0.0.1:7877\n",
      "* Running on public URL: https://0cd97ed4c2e84c7b11.gradio.live\n",
      "\n",
      "This share link expires in 1 week. For free permanent hosting and GPU upgrades, run `gradio deploy` from the terminal in the working directory to deploy to Hugging Face Spaces (https://huggingface.co/spaces)\n"
     ]
    },
    {
     "data": {
      "text/plain": []
     },
     "execution_count": 64,
     "metadata": {},
     "output_type": "execute_result"
    },
    {
     "name": "stdout",
     "output_type": "stream",
     "text": [
      "Gradio history: []\n"
     ]
    },
    {
     "name": "stderr",
     "output_type": "stream",
     "text": [
      "/home/sfnavas-f/Projects/doc_chat/.venv/lib/python3.13/site-packages/torch/nn/modules/module.py:1762: FutureWarning: `encoder_attention_mask` is deprecated and will be removed in version 4.55.0 for `BertSdpaSelfAttention.forward`.\n",
      "  return forward_call(*args, **kwargs)\n"
     ]
    },
    {
     "name": "stdout",
     "output_type": "stream",
     "text": [
      "Gradio history: [{'role': 'user', 'metadata': None, 'content': 'List some works by Sabine Klapp', 'options': None}, {'role': 'assistant', 'metadata': None, 'content': \"<details><summary><b>🤔 Thinking</b></summary><pre>Okay, let's see. The user is asking for works by Sabine Klapp. I need to check the provided context to find any mentions of her. The context includes several documents. Let me go through each one.\\n\\nFirst document: It's about the Fokker-Planck equation, authored by someone else, no mention of Sabine Klapp. Second document is from Bungartz, discussing molecular dynamics simulation. The third document is another entry from Bungartz, same as the second. None of these documents mention Sabine Klapp. \\n\\nWait, maybe I missed something. Let me check again. The first document's page content lists the book title and publishers, but no author. The other two are about algorithms and molecular dynamics, authored by Bungartz. There's no mention of Sabine Klapp in any of the metadata or page content. \\n\\nSo, based on the given context, there are no works by Sabine Klapp listed. The user might have a different context in mind, but with the provided documents, I can't find any references to her. I should inform them that none of the listed works are by Sabine Klapp.</pre></details>\\n\\nBased on the provided context, there are no works listed by Sabine Klapp. The documents referenced in the context are authored by others, such as Hans-Joachim Bungartz and mention topics like the Fokker-Planck equation and molecular dynamics simulations, but none attribute works to Sabine Klapp.\", 'options': None}]\n"
     ]
    },
    {
     "name": "stderr",
     "output_type": "stream",
     "text": [
      "/home/sfnavas-f/Projects/doc_chat/.venv/lib/python3.13/site-packages/torch/nn/modules/module.py:1762: FutureWarning: `encoder_attention_mask` is deprecated and will be removed in version 4.55.0 for `BertSdpaSelfAttention.forward`.\n",
      "  return forward_call(*args, **kwargs)\n"
     ]
    },
    {
     "name": "stdout",
     "output_type": "stream",
     "text": [
      "Gradio history: [{'role': 'user', 'metadata': None, 'content': 'List some works by Sabine Klapp', 'options': None}, {'role': 'assistant', 'metadata': None, 'content': \"<details><summary><b>🤔 Thinking</b></summary><pre>Okay, let's see. The user is asking for works by Sabine Klapp. I need to check the provided context to find any mentions of her. The context includes several documents. Let me go through each one.\\n\\nFirst document: It's about the Fokker-Planck equation, authored by someone else, no mention of Sabine Klapp. Second document is from Bungartz, discussing molecular dynamics simulation. The third document is another entry from Bungartz, same as the second. None of these documents mention Sabine Klapp. \\n\\nWait, maybe I missed something. Let me check again. The first document's page content lists the book title and publishers, but no author. The other two are about algorithms and molecular dynamics, authored by Bungartz. There's no mention of Sabine Klapp in any of the metadata or page content. \\n\\nSo, based on the given context, there are no works by Sabine Klapp listed. The user might have a different context in mind, but with the provided documents, I can't find any references to her. I should inform them that none of the listed works are by Sabine Klapp.</pre></details>\\n\\nBased on the provided context, there are no works listed by Sabine Klapp. The documents referenced in the context are authored by others, such as Hans-Joachim Bungartz and mention topics like the Fokker-Planck equation and molecular dynamics simulations, but none attribute works to Sabine Klapp.\", 'options': None}, {'role': 'user', 'metadata': None, 'content': 'What about Sabine H. L. Klapp', 'options': None}, {'role': 'assistant', 'metadata': None, 'content': '<details><summary><b>🤔 Thinking</b></summary><pre>Okay, the user is asking about Sabine H. L. Klapp. Let me check the provided context again. \\n\\nLooking at the first document, the page_content mentions \"Sabine H. L. Klapp, Orlin D. Velev et al.\" in the context of a paper titled \"Multidirectional colloidal assembly in concurrent electric and magnetic fields\" published in Soft Matter in 2016. The metadata for that document lists the author as Bhuvnesh Bharti, but the page content includes Sabine H. L. Klapp as a co-author. \\n\\nThe other documents don\\'t mention Sabine H. L. Klapp. The second document has references to other authors and papers but not her. The third document is about Gaussian processes and doesn\\'t relate to her. \\n\\nSo, based on the context, Sabine H. L. Klapp is a co-author on the 2016 paper in Soft Matter. The user might be looking for more works by her, but the provided context only lists that one paper. I should mention that specific work and note that no other works are listed in the given context.</pre></details>\\n\\nBased on the provided context, **Sabine H. L. Klapp** is mentioned as a co-author in the paper **\"Multidirectional colloidal assembly in concurrent electric and magnetic fields\"** (2016), published in *Soft Matter* (volume 12, pages 7701–7874). The document lists her alongside Orlin D. Velev and others as contributors to this work. \\n\\nNo other works by Sabine H. L. Klapp are explicitly referenced in the provided context.', 'options': None}]\n"
     ]
    },
    {
     "name": "stderr",
     "output_type": "stream",
     "text": [
      "/home/sfnavas-f/Projects/doc_chat/.venv/lib/python3.13/site-packages/torch/nn/modules/module.py:1762: FutureWarning: `encoder_attention_mask` is deprecated and will be removed in version 4.55.0 for `BertSdpaSelfAttention.forward`.\n",
      "  return forward_call(*args, **kwargs)\n"
     ]
    }
   ],
   "source": [
    "import gradio as gr\n",
    "\n",
    "import re\n",
    "\n",
    "\n",
    "def split_think_and_answer(response):\n",
    "    \"\"\"Extracts text after </think>.\"\"\"\n",
    "    match = re.search(r\"</think>\\s*(.*)\", response, re.DOTALL)\n",
    "    if match:\n",
    "        return match.group(1).strip()\n",
    "    return response.strip()\n",
    "\n",
    "\n",
    "def get_thought(response):\n",
    "    \"\"\"Extracts text inside <think>...</think>.\"\"\"\n",
    "    match = re.search(r\"<think>(.*?)</think>\", response, re.DOTALL)\n",
    "    if match:\n",
    "        return match.group(1).strip()\n",
    "    return None\n",
    "\n",
    "\n",
    "def rag_qa(message, history):\n",
    "    # Convert Gradio history format to LangChain message format\n",
    "    history_langchain_format = []\n",
    "    print(\"Gradio history:\", history)\n",
    "    # Convert Gradio history (list of {\"role\": ..., \"content\": ...}) to LangChain format\n",
    "    for turn in history:\n",
    "        if turn[\"role\"] == \"user\":\n",
    "            history_langchain_format.append(HumanMessage(content=turn[\"content\"]))\n",
    "        elif turn[\"role\"] == \"assistant\":\n",
    "            history_langchain_format.append(AIMessage(content=turn[\"content\"]))\n",
    "\n",
    "    history_langchain_format.append(HumanMessage(content=message))\n",
    "\n",
    "    try:\n",
    "        # Pass both current message and history to the chain\n",
    "        response = rag_chain.invoke(\n",
    "            {\"history\": history_langchain_format, \"question\": message}\n",
    "        )\n",
    "        thought = get_thought(response)\n",
    "        final_answer = split_think_and_answer(response)\n",
    "\n",
    "        if thought:\n",
    "            # Add collapsible section with the <think> content\n",
    "            final_answer = f\"<details><summary><b>🤔 Thinking</b></summary><pre>{thought}</pre></details>\\n\\n{final_answer}\"\n",
    "        return {\"role\": \"assistant\", \"content\": final_answer}\n",
    "    except Exception as e:\n",
    "        return {\"role\": \"assistant\", \"content\": f\"❌ Error: {str(e)}\"}\n",
    "\n",
    "\n",
    "# Create and launch the chat interface with memory\n",
    "demo = gr.ChatInterface(\n",
    "    fn=rag_qa,\n",
    "    type=\"messages\",\n",
    "    title=\"📄 Scientific PDF Chatbot\",\n",
    "    description=\"Ask questions about your scientific PDFs. Powered by RAG + Qwen3:8B\",\n",
    "    examples=[\"What are colloidal particles?\", \"Tell me more about that\"],\n",
    ")\n",
    "\n",
    "demo.launch(share=True, inline=False, inbrowser=False)"
   ]
  },
  {
   "cell_type": "markdown",
   "id": "a9901370",
   "metadata": {},
   "source": [
    "## MultiQuery Generating prompts "
   ]
  },
  {
   "cell_type": "markdown",
   "id": "6a0ef2c1",
   "metadata": {},
   "source": [
    "Prompt template for retrieval multi-query generation from the users question. The question is first passed to the LLM to generate different versions of the question, which are then used to retrieve relevant documents."
   ]
  },
  {
   "cell_type": "code",
   "execution_count": 12,
   "id": "7c314a47",
   "metadata": {},
   "outputs": [],
   "source": [
    "template = \"\"\"You are an AI language model assistant. Your task is to generate five \n",
    "different versions of the given user question to retrieve relevant documents from a vector \n",
    "database. By generating multiple perspectives on the user question, your goal is to help\n",
    "the user overcome some of the limitations of the distance-based similarity search. \n",
    "Provide these alternative questions separated by newlines. Original question: {question}\"\"\"\n",
    "\n",
    "multi_prompt = ChatPromptTemplate.from_template(template)\n",
    "\n",
    "generate_query_chain = (\n",
    "    multi_prompt | llm | StrOutputParser() | (lambda x: x.split(\"\\n\"))\n",
    ")"
   ]
  },
  {
   "cell_type": "code",
   "execution_count": 13,
   "id": "1e851a4a",
   "metadata": {},
   "outputs": [
    {
     "data": {
      "text/plain": [
       "['<think>',\n",
       " \"Okay, the user wants me to generate five different versions of their original question about Brownian motion. The goal is to retrieve more relevant documents from a vector database by exploring different perspectives. Let me start by understanding what Brownian motion is. It's the random movement of particles suspended in a fluid, right? So the original question is pretty straightforward.\",\n",
       " '',\n",
       " 'Now, I need to think of alternative ways to phrase this. Maybe different angles like historical context, scientific explanations, applications, or related concepts. Let me brainstorm:',\n",
       " '',\n",
       " '1. **Historical context**: Maybe asking about when it was discovered or who first described it. That could bring up historical documents or biographies of scientists like Einstein or Smoluchowski.',\n",
       " '',\n",
       " '2. **Scientific explanation**: Instead of just defining it, perhaps asking about the mechanisms or theories behind it. This might lead to more detailed scientific papers or explanations.',\n",
       " '',\n",
       " \"3. **Applications**: What are the practical uses of Brownian motion? This could relate to fields like chemistry, physics, or even finance where it's used in models.\",\n",
       " '',\n",
       " '4. **Related concepts**: Maybe comparing Brownian motion to other phenomena like diffusion or molecular dynamics. This could help find documents that discuss related topics.',\n",
       " '',\n",
       " '5. **Mathematical models**: Since Brownian motion is also a stochastic process, asking about the mathematical models or equations (like the Langevin equation) might yield different resources.',\n",
       " '',\n",
       " 'Wait, I should make sure each version is distinct and covers a different aspect. Let me check if these angles are covered. The first one is historical, the second is scientific explanation, third is applications, fourth is related concepts, and fifth is mathematical models. That seems good. Now, phrasing each question clearly. Let me make sure they are varied and not overlapping too much. Also, avoid using technical jargon where possible to keep the questions accessible but still specific enough for the vector database to find relevant documents. Alright, I think these five versions should cover different perspectives and help retrieve a broader range of relevant information.',\n",
       " '</think>',\n",
       " '',\n",
       " 'What are the key characteristics of Brownian motion?  ',\n",
       " 'How did scientists historically describe and explain Brownian motion?  ',\n",
       " 'What are the practical applications of Brownian motion in science and technology?  ',\n",
       " 'How does Brownian motion relate to concepts like diffusion and molecular dynamics?  ',\n",
       " 'What mathematical models are used to describe Brownian motion in physics and finance?']"
      ]
     },
     "execution_count": 13,
     "metadata": {},
     "output_type": "execute_result"
    }
   ],
   "source": [
    "generate_query_chain.invoke({\"question\": \"What is Brownian motion?\"})"
   ]
  },
  {
   "cell_type": "markdown",
   "id": "949cd754",
   "metadata": {},
   "source": [
    "Since I use Qwen:3, which is a thinking model, it also generates < think >...< /think > tags in its output to indicate the parts of the response that are generated by the model's reasoning process. This should be removed to only obtain the multi-queries. "
   ]
  },
  {
   "cell_type": "code",
   "execution_count": 19,
   "id": "66e54a15",
   "metadata": {},
   "outputs": [
    {
     "data": {
      "text/plain": [
       "['What is the historical context of Brownian motion?  ',\n",
       " 'How is Brownian motion mathematically modeled?  ',\n",
       " 'What are the real-world applications of Brownian motion?  ',\n",
       " 'How does Brownian motion differ from other types of random motion?  ',\n",
       " 'What experiments confirmed the existence of Brownian motion?']"
      ]
     },
     "execution_count": 19,
     "metadata": {},
     "output_type": "execute_result"
    }
   ],
   "source": [
    "import re\n",
    "\n",
    "\n",
    "def remove_think_blocks(text):\n",
    "    # Remove all <think>...</think> blocks from the text\n",
    "    return re.sub(r\"<think>.*?</think>\", \"\", text, flags=re.DOTALL).strip()\n",
    "\n",
    "\n",
    "generate_query_chain = (\n",
    "    multi_prompt\n",
    "    | llm\n",
    "    | StrOutputParser()\n",
    "    | remove_think_blocks\n",
    "    | (lambda x: x.split(\"\\n\"))\n",
    ")\n",
    "\n",
    "generate_query_chain.invoke({\"question\": \"What is Brownian motion?\"})"
   ]
  },
  {
   "cell_type": "markdown",
   "id": "26f6f89e",
   "metadata": {},
   "source": [
    "Pass these multi-queries to the retriever. This will retireve 3 (pre-defined above) documents per each of the 5 queries. "
   ]
  },
  {
   "cell_type": "code",
   "execution_count": null,
   "id": "8c858b33",
   "metadata": {},
   "outputs": [],
   "source": [
    "# The .map() function applies a transformation to each item in the list containing the different queries.\n",
    "retrieval_chain = generate_query_chain | retriever.map()"
   ]
  },
  {
   "cell_type": "code",
   "execution_count": 21,
   "id": "1b5b0b45",
   "metadata": {},
   "outputs": [
    {
     "name": "stderr",
     "output_type": "stream",
     "text": [
      "/home/sfnavas-f/Projects/DomainMind/.venv/lib/python3.13/site-packages/torch/nn/modules/module.py:1762: FutureWarning: `encoder_attention_mask` is deprecated and will be removed in version 4.55.0 for `BertSdpaSelfAttention.forward`.\n",
      "  return forward_call(*args, **kwargs)\n"
     ]
    },
    {
     "data": {
      "text/plain": [
       "[[Document(metadata={'format': 'PDF 1.5', 'trapped': '', 'creator': 'Acrobat Capture 3.0', 'total_pages': 11, 'title': 'einstein_brownian.pdf', 'creationdate': '2010-01-14T06:57:12+00:00', 'creationDate': 'D:20100114065712Z', 'source': '../data/raw/files/464/Einstein - -INVESTIGATIONS O N THE THEORY ,THE BROWNIAN MOVEM.pdf', 'modDate': 'D:20100114065712Z', 'producer': 'Acrobat Distiller 9.2.0 (Windows)', 'page': 1, 'subject': '', 'keywords': '', 'file_path': '../data/raw/files/464/Einstein - -INVESTIGATIONS O N THE THEORY ,THE BROWNIAN MOVEM.pdf', 'author': 'Ray Goldstein', 'moddate': '2010-01-14T06:57:12+00:00'}, page_content='INVESTIGATIONS ON THE THEORY\\nOF THE BROWNIAN MOVEMENT\\nON THE MOVEMENT OF SMALL PARTICLES\\nSUSPENDED IN A STATIONARY LIQUID\\nKINETIC THEORY OF HEAT\\nDEMANDED\\nBY\\nTHE\\nN this paper it will be shown that according\\nto the molecular-kinetic theory of heat, bodies\\nof microscopically-visible size\\nin a\\nliquid will perform movements of such magnitude\\nthat they can be easily observed in a microscope,\\non account of the molecular motions of heat.\\nIt is possible that the movements to be discussed\\nhere are identical with the so-called\\nBrownian\\nmolecular motion\\nhowever, the information\\navailable to me regarding the latter is so lacking\\nin precision, that I can form no judgment in the\\nmatter\\nIf the movement discussed here can actually\\nbe observed (together with the laws relating to'),\n",
       "  Document(metadata={'creationDate': \"D:20240225011849+05'30'\", 'page': 3, 'file_path': '../data/raw/files/491/Jonas et al. - 2024 - Activity affects the stability, deformation and br.pdf', 'modDate': \"D:20241001142837+01'00'\", 'creator': '', 'source': '../data/raw/files/491/Jonas et al. - 2024 - Activity affects the stability, deformation and br.pdf', 'moddate': '2024-10-01T14:28:37+01:00', 'total_pages': 16, 'producer': 'iTextSharp™ 5.5.11 ©2000-2017 iText Group NV (AGPL-version)', 'creationdate': '2024-02-25T01:18:49+05:30', 'trapped': '', 'format': 'PDF 1.3', 'title': 'Activity affects the stability, deformation and breakage dynamics of colloidal architectures', 'keywords': '', 'subject': 'Soft Matter (2024), 20, 2162-2177, doi:10.1039/D3SM01255G', 'author': 'H. J. Jonas'}, page_content='This journal is © The Royal Society of Chemistry 2024\\nSoft Matter, 2024, 20, 2162–2177 |  2165\\nnoise ~x is a vector where each element is i.i.d., with a zero mean\\nand unit variance over time.\\nThe rotational equation of motion is given by\\n~Oðt þ DtÞ \\x03 ~OðtÞ ¼ mR~tADt þ mR~tDt þ\\nﬃﬃﬃﬃﬃﬃﬃﬃﬃﬃﬃﬃﬃﬃﬃﬃﬃﬃﬃﬃﬃ\\n2mRkBTDt\\np\\n~x;\\n(5)\\nwhere ~t is the torque acting on the particle coming from V\\n(eqn (3)), and mR ¼ bDRI is the rotational mobility tensor with\\nDR = 0.05 rad2 s\\x031.35 We integrate the equations of motion\\nnumerically.34\\nA widely used model to simulate self-propelling colloidal\\nparticles is the active Brownian particle (ABP). It consists of\\na self-propulsion force acting on the center of mass of the\\ncolloidal particle\\n-FA = FAeˆA\\n(6)\\nwhere FA is the magnitude of the active force, and eˆA is a\\nparticle fixed unit vector that expresses the direction of\\nthe force.\\nIn an experimental setup, the Janus particle aligns its\\nmotion parallel to the wall, due to the applied AC field.\\nFurthermore, the continuous presence of gravity prevents the\\nactive particles to self-propel against the gravitational field\\naway from the wall.36 As the exact response of the Janus\\nparticles to the AC field is quite complex,37 we mimic this\\nbehavior by including an eﬀective alignment torque with\\nmagnitude38–40\\n~tAð^eA;zÞ\\n\\x05\\x05\\n\\x05\\x05 ¼\\n0\\nwithout gravity\\n500kBT arcsin ^eA;z\\n\\x02\\n\\x03\\n\\x05\\x05\\n\\x05\\x05\\nwith gravity;\\n(\\n(7)\\nwhere eˆA,z denotes the z-component of the active force direction'),\n",
       "  Document(metadata={'keywords': '', 'creator': 'TeX', 'file_path': '../data/raw/files/347/TANG-DISSERTATION-2016.pdf', 'creationdate': '2016-09-27T13:45:32-04:00', 'modDate': \"D:20160927134532-04'00'\", 'trapped': '', 'author': '', 'page': 21, 'source': '../data/raw/files/347/TANG-DISSERTATION-2016.pdf', 'creationDate': \"D:20160927134532-04'00'\", 'format': 'PDF 1.5', 'subject': '', 'title': '', 'total_pages': 136, 'producer': 'MiKTeX pdfTeX-1.40.13', 'moddate': '2016-09-27T13:45:32-04:00'}, page_content='2.1.1\\nBrownian Dynamics Simulation\\nMicron-sized colloidal particles are subjected to Brownian motion. The random move-\\nment of each particle is the result of the collision between the particles and the\\nsurrounding molecules. In other words, the motion of the particle is subjected to\\nstochastic forces on the system. Therefore, using Newton’s second law to analyze\\nthe forces each particle experiences in the system enables the simulation of particle\\nmovements. One such an example is the Brownian dynamics simulation.\\nThe Brownian dynamics simulation framework is usually built on a diﬀerential\\nequation, such as the Langevin equation, which is integrated forward in time to\\ndescribe the motion of the Brownian particles.\\nThe general form of a Langevin equation to describe a particle with mass M that\\nundergoes stochastic forces is given as [31]:\\nM¨r = −(r) −ζM ˙r + ζMκ(r) + F(b)\\n(1)\\nwhere r is the particle position, e.g. Cartesian coordinates, ζ is the speciﬁc friction\\ncoeﬃcient, U is the net particle interaction potential, κ is the homogeneous velocity\\ngradient, and F(b) is the Brownian force experienced by the particle. Assuming a\\nGaussian process behavior, F(b) can be further deﬁned as:\\nFt\\n(b) =\\np\\n2kBTζM d(W)t\\ndt\\n(2)\\nwith kB being the Boltzmann’s constant, T being the absolute temperature, and (W)t\\na Wiener process at time instant t.\\nNeglecting the inertia eﬀects on the particle, the Brownian dynamics equation of\\na Brownian particle is then described as:\\n0 = −(r) −ζM ˙r + ζMκ(r) +')],\n",
       " [Document(metadata={'file_path': '../data/raw/files/539/Shiraishi - 2023 - An Introduction to Stochastic Thermodynamics From.pdf', 'keywords': '', 'title': '', 'format': 'PDF 1.4', 'creator': '', 'author': '', 'total_pages': 437, 'subject': '', 'source': '../data/raw/files/539/Shiraishi - 2023 - An Introduction to Stochastic Thermodynamics From.pdf', 'creationDate': \"D:20230503183520+05'30'\", 'producer': 'Springer-i', 'trapped': '', 'creationdate': '2023-05-03T18:35:20+05:30', 'modDate': \"D:20230506150312+05'30'\", 'page': 422, 'moddate': '2023-05-06T15:03:12+05:30'}, page_content='Brownian particle. Science. 2010;328(5986):1673–5.\\n42. Wong E, Zakai M. On the convergence of ordinary integrals to stochastic integrals. Ann Math\\nStat. 1965;36(5):1560–4.\\n43. Sekimoto Ken. Kinetic characterization of heat bath and the energetics of thermal ratchet\\nmodels. J Phys Soc Jpn. 1997;66(5):1234–7.\\n44. Sekimoto K. Langevin equation and thermodynamics. Progr Theor Phys Suppl. 1998;130:17–\\n27.\\n45. Wang GM, Sevick EM, Mittag E, Searles DJ, Evans DJ. Experimental demonstration of\\nviolations of the second law of thermodynamics for small systems and short time scales. Phys\\nRev Lett. 2002;89(5): 050601.'),\n",
       "  Document(metadata={'title': '', 'author': 'Chimanalyt', 'trapped': '', 'creationDate': \"D:20061122100934-05'00'\", 'producer': 'Adobe Acrobat 7.05 Paper Capture Plug-in', 'modDate': \"D:20090721195357+03'00'\", 'subject': '', 'creator': 'Adobe Acrobat 7.05', 'page': 58, 'format': 'PDF 1.4', 'total_pages': 327, 'source': '../data/raw/files/445/Dhont - An Introduction to Dynamics of Colloids.pdf', 'file_path': '../data/raw/files/445/Dhont - An Introduction to Dynamics of Colloids.pdf', 'creationdate': '2006-11-22T10:09:34-05:00', 'keywords': '', 'moddate': '2009-07-21T19:53:57+03:00'}, page_content='Further Reading \\n105 \\nFurther Reading and References \\nEarly papers on Brownian motion of non-interacting particles are, \\na A. Einstein, Investigations on the Theory of the Brownian Motion, Dover \\nPublications, 1956. \\na M. von Smoluchowski, Ann. Phys. 21 (1906) 756. \\na M.P. Langevin, C.R. Acad. Sci. Paris 146 (1908) 530. \\na S. Chandrasekhar, Rev. Mod. Phys. 15 (1943) 1. \\nThe book of Wax contains several interesting early papers on Brownian mo- \\ntion, including the above mentioned paper by Chandrasekhar, \\na N. Wax (ed.), Selected Papers on Noise and Stochastic Processes, Dover \\nPublications, New York, 1954. \\nThe theory of stochastic differential equations, of which the Langevin equa- \\ntions discussed here are simple examples, is a separate discipline of mathe- \\nmatics. More about stochastic differential equations can be found in, \\na M. Lax, Rev. Mod. Phys., 38 (1966) 541. \\na N.G. van Kampen, Stochastic Processes in Physics and Chemistry, North \\nHolland, Amsterdam, 1983. \\na C.W. Gardiner, Handbook of Stochastic Methods, Springer-Verlag, \\nBerlin, 1983. \\nHere, x, y and z are the three components of the position coordinate of the \\ncenter of mass. \\n(Hint : Since Q is now fixed along the z-direction, the different components \\nof the displacement in eq.(2.123) can be analysed separately.)'),\n",
       "  Document(metadata={'subject': '', 'source': '../data/raw/files/606/Zwanzig - 2010 - Nonequilibrium statistical mechanics.pdf', 'total_pages': 230, 'modDate': \"D:20080324132319+01'00'\", 'creationdate': '2008-03-24T13:23:19+01:00', 'title': '', 'producer': '', 'author': '', 'trapped': '', 'page': 4, 'file_path': '../data/raw/files/606/Zwanzig - 2010 - Nonequilibrium statistical mechanics.pdf', 'creationDate': \"D:20080324132319+01'00'\", 'moddate': '2008-03-24T13:23:19+01:00', 'keywords': '', 'creator': '', 'format': 'PDF 1.5'}, page_content='Contents\\n1. Brownian Motion and Langevin Equations 3\\n1.1 Langevin Equation and the Fluctuation-\\nDissipation Theorem 3\\n1.2 Time Correlation Functions 7\\n1.3 Correlation Functions and Brownian Motion 10\\n1.4 Brownian Motion of Other Variables 14\\n1.5 Generalizations of Langevin Equations 18\\n1.6 Brownian Motion in a Harmonic Oscillator\\nHeat Bath 21\\n1.7 Heavy Mass in a Harmonic Lattice 24\\n2. Fokker-Planck Equations 30\\n2.1 Liouville Equation in Classical Mechanics 30\\n2.2 Fokker-Planck Equations 36\\n2.3 About Fokker-Planck Equations 41\\n3. Master Equations 48\\n3.1 The Golden Rule 48\\n3.2 Optical Absorption Coefficient \\n53')],\n",
       " [Document(metadata={'moddate': '2016-09-27T13:45:32-04:00', 'source': '../data/raw/files/347/TANG-DISSERTATION-2016.pdf', 'modDate': \"D:20160927134532-04'00'\", 'creationdate': '2016-09-27T13:45:32-04:00', 'file_path': '../data/raw/files/347/TANG-DISSERTATION-2016.pdf', 'creationDate': \"D:20160927134532-04'00'\", 'format': 'PDF 1.5', 'keywords': '', 'author': '', 'total_pages': 136, 'subject': '', 'page': 21, 'creator': 'TeX', 'title': '', 'producer': 'MiKTeX pdfTeX-1.40.13', 'trapped': ''}, page_content='2.1.1\\nBrownian Dynamics Simulation\\nMicron-sized colloidal particles are subjected to Brownian motion. The random move-\\nment of each particle is the result of the collision between the particles and the\\nsurrounding molecules. In other words, the motion of the particle is subjected to\\nstochastic forces on the system. Therefore, using Newton’s second law to analyze\\nthe forces each particle experiences in the system enables the simulation of particle\\nmovements. One such an example is the Brownian dynamics simulation.\\nThe Brownian dynamics simulation framework is usually built on a diﬀerential\\nequation, such as the Langevin equation, which is integrated forward in time to\\ndescribe the motion of the Brownian particles.\\nThe general form of a Langevin equation to describe a particle with mass M that\\nundergoes stochastic forces is given as [31]:\\nM¨r = −(r) −ζM ˙r + ζMκ(r) + F(b)\\n(1)\\nwhere r is the particle position, e.g. Cartesian coordinates, ζ is the speciﬁc friction\\ncoeﬃcient, U is the net particle interaction potential, κ is the homogeneous velocity\\ngradient, and F(b) is the Brownian force experienced by the particle. Assuming a\\nGaussian process behavior, F(b) can be further deﬁned as:\\nFt\\n(b) =\\np\\n2kBTζM d(W)t\\ndt\\n(2)\\nwith kB being the Boltzmann’s constant, T being the absolute temperature, and (W)t\\na Wiener process at time instant t.\\nNeglecting the inertia eﬀects on the particle, the Brownian dynamics equation of\\na Brownian particle is then described as:\\n0 = −(r) −ζM ˙r + ζMκ(r) +'),\n",
       "  Document(metadata={'creator': 'Adobe Acrobat 7.05', 'subject': '', 'keywords': '', 'trapped': '', 'title': '', 'modDate': \"D:20090721195357+03'00'\", 'file_path': '../data/raw/files/445/Dhont - An Introduction to Dynamics of Colloids.pdf', 'source': '../data/raw/files/445/Dhont - An Introduction to Dynamics of Colloids.pdf', 'page': 92, 'creationdate': '2006-11-22T10:09:34-05:00', 'creationDate': \"D:20061122100934-05'00'\", 'moddate': '2009-07-21T19:53:57+03:00', 'producer': 'Adobe Acrobat 7.05 Paper Capture Plug-in', 'format': 'PDF 1.4', 'author': 'Chimanalyt', 'total_pages': 327}, page_content='matrix must be specified, just as for the fluctuating force in the Langevin equa- \\ntion. The resulting stochastic differential equations can then be analysed to \\nobtain the statistical properties of the Brownian particles (see Bedeaux (1974) \\nand Noetinger (1990)). \\nThe approach chosen here is a well known and rather direct method to \\nderive the fundamental equations of motion. The idea of this approach is as \\nfollows. Suppose one is interested in the equation of motion for the pdf of a \\nstochastic variable X ,  which is an m-dimensional vector. One can think of X \\nas the set of momentumand position coordinates of the Brownian particles (on \\nthe Fokker-Planck time scale) or as the set of position coordinates only (on the \\nBrownian time scale). The pdf of X  is denoted as P ( X ,  t ) ,  which is a function \\nof time in general. Consider an ensemble of (infinitely) many macroscopically \\nidentical systems, that is, systems of which the macroscopic parameters are \\nspecified (such as the temperature, pressure, volume, . . .), which are the same \\nfor each system. At each instant of time the microscopic variable X  has a \\ndifferent value for each of the systems in the ensemble, despite the fact that \\nthey are macroscopically identical. Think, for example, of two dispersions \\nwith identical temperature, pressure, concentration . . ., and of X as the set \\nof position coordinates of the Brownian particles. Photographs of the two'),\n",
       "  Document(metadata={'format': 'PDF 1.5', 'creationDate': \"D:20080324132319+01'00'\", 'creationdate': '2008-03-24T13:23:19+01:00', 'total_pages': 230, 'modDate': \"D:20080324132319+01'00'\", 'source': '../data/raw/files/606/Zwanzig - 2010 - Nonequilibrium statistical mechanics.pdf', 'trapped': '', 'producer': '', 'moddate': '2008-03-24T13:23:19+01:00', 'subject': '', 'author': '', 'page': 4, 'keywords': '', 'file_path': '../data/raw/files/606/Zwanzig - 2010 - Nonequilibrium statistical mechanics.pdf', 'creator': '', 'title': ''}, page_content='Contents\\n1. Brownian Motion and Langevin Equations 3\\n1.1 Langevin Equation and the Fluctuation-\\nDissipation Theorem 3\\n1.2 Time Correlation Functions 7\\n1.3 Correlation Functions and Brownian Motion 10\\n1.4 Brownian Motion of Other Variables 14\\n1.5 Generalizations of Langevin Equations 18\\n1.6 Brownian Motion in a Harmonic Oscillator\\nHeat Bath 21\\n1.7 Heavy Mass in a Harmonic Lattice 24\\n2. Fokker-Planck Equations 30\\n2.1 Liouville Equation in Classical Mechanics 30\\n2.2 Fokker-Planck Equations 36\\n2.3 About Fokker-Planck Equations 41\\n3. Master Equations 48\\n3.1 The Golden Rule 48\\n3.2 Optical Absorption Coefficient \\n53')],\n",
       " [Document(metadata={'moddate': '2017-06-30T13:04:54+02:00', 'keywords': '', 'format': 'PDF 1.6', 'trapped': '', 'total_pages': 50, 'title': 'Active Particles in Complex and Crowded Environments', 'page': 4, 'modDate': \"D:20170630130454+02'00'\", 'file_path': '../data/raw/files/452/Bechinger et al. - 2016 - Active Particles in Complex and Crowded Environmen.pdf', 'subject': '', 'author': 'Bechinger, Clemens', 'creationdate': '2016-11-30T23:22:23-05:00', 'producer': 'Acrobat Distiller 10.0.0 (Windows)', 'creator': 'Arbortext Advanced Print Publisher 9.1.405/W Unicode', 'source': '../data/raw/files/452/Bechinger et al. - 2016 - Active Particles in Complex and Crowded Environmen.pdf', 'creationDate': \"D:20161130232223-05'00'\"}, page_content='DR ¼ τ−1\\nR ¼ kBT\\n8πηR3 :\\nð2Þ\\nFrom the above formulas, it is clear that while the translational\\ndiffusion of a particle scales with its linear dimension, its\\nrotational diffusion scales with its volume. For example, for a\\nparticle with R ≈1 μm in water, DT ≈0.2 μm2 s−1 and DR ≈\\n0.17 rad2 s−1 (τR ≈6 s), while for a particle 10 times smaller\\n(R ≈100 nm), DT ≈2 μm2 s−1 is 1 order of magnitude larger\\nbut DR ≈170 rad2 s−1 is 3 orders of magnitude larger\\n(τR ≈6 ms).\\nIn a homogeneous environment, the translational and\\nrotational\\nmotions\\nare\\nindependent\\nfrom\\neach\\nother.\\nTherefore, the stochastic equations of motion for a passive\\nBrownian particle in a two-dimensional space are\\n_x ¼\\nﬃﬃﬃﬃﬃﬃﬃﬃ\\n2DT\\np\\nξx ;\\n_y ¼\\nﬃﬃﬃﬃﬃﬃﬃﬃ\\n2DT\\np\\nξy ;\\n_φ ¼\\nﬃﬃﬃﬃﬃﬃﬃﬃﬃ\\n2DR\\np\\nξφ ;\\nð3Þ\\nwhere ½x; y\\x02 is the particle position, φ is its orientation\\n[Fig. 2(a)], and ξx, ξy, and ξφ represent independent white\\nnoise stochastic processes with zero mean and correlation\\nδðtÞ. Interestingly, the equations for each degree of freedom\\n(i.e., x, y, and φ) are decoupled. Inertial effects are neglected\\nbecause microscopic particles are typically in a low-Reynolds-\\nnumber regime (Purcell, 1977). Some examples of the\\ncorresponding trajectories are illustrated in Fig. 2(b).\\nFor a self-propelled particle with velocity v instead, the\\ndirection of motion is itself subject to rotational diffusion,\\nwhich leads to a coupling between rotation and translation.\\nThe corresponding stochastic differential equations are\\n_x ¼ v cos φ þ\\nﬃﬃﬃﬃﬃﬃﬃﬃ\\n2DT'),\n",
       "  Document(metadata={'creationdate': '2006-11-22T10:09:34-05:00', 'keywords': '', 'format': 'PDF 1.4', 'producer': 'Adobe Acrobat 7.05 Paper Capture Plug-in', 'creationDate': \"D:20061122100934-05'00'\", 'subject': '', 'file_path': '../data/raw/files/445/Dhont - An Introduction to Dynamics of Colloids.pdf', 'source': '../data/raw/files/445/Dhont - An Introduction to Dynamics of Colloids.pdf', 'creator': 'Adobe Acrobat 7.05', 'trapped': '', 'moddate': '2009-07-21T19:53:57+03:00', 'author': 'Chimanalyt', 'total_pages': 327, 'title': '', 'modDate': \"D:20090721195357+03'00'\", 'page': 167}, page_content='single  article under consideration is commonly referred to as the tracerparti- \\ncle or the tagged particle, while the remaining Brownian particles are referred \\nto as host particles. \\n6.3. Self Diffusion \\n325 \\nThe simpIest quantity that characterizes the motion of a single Brownian \\n13urticle is its mean squared displacement W (t ) , defined as, \\nwhere r(t) is the position coordinate of the Brownian particle at time t. In \\nchapter 2 on the diffusion of non-interacting Brownian particles, we have seen \\nthat for times ~\\n~\\n~\\nl\\nu\\n~\\n~\\nt\\n \\n<< t << M/Y, with M the mass of the Brownian particle \\nund y  its friction coefficient, the mean squared displacement is equal to (see \\neq.(2.22)), \\nwith v(t = 0) the initial velocity of the particle. For these very small times, \\nthe Brownian particle did not yet change its initial velocity v due to friction \\nwith the solvent. On the Brownian time scale however, where t >> M / y ,  there \\nhave been many collisions of the Brownian particle with solvent molecules. \\nThis results in the typical linear dependence of W ( t )  on time (see eq.(2.21)), \\nwith Do = k B T / y  the Stokes-Einstein diffusion coefficient. For very small \\nLimes, W ( t )  - t2, while for larger times, W ( t )  - t. The cross-over between \\nthese two limiting forms occurs for times larger than the Fokker-Planck time \\nscale, but smaller than the Brownian time scale. The time dependence of the \\nmean squared displacement is sketched in fig.2.1.'),\n",
       "  Document(metadata={'moddate': '2017-06-30T13:04:54+02:00', 'total_pages': 50, 'subject': '', 'creator': 'Arbortext Advanced Print Publisher 9.1.405/W Unicode', 'keywords': '', 'trapped': '', 'author': 'Bechinger, Clemens', 'producer': 'Acrobat Distiller 10.0.0 (Windows)', 'creationDate': \"D:20161130232223-05'00'\", 'page': 4, 'title': 'Active Particles in Complex and Crowded Environments', 'creationdate': '2016-11-30T23:22:23-05:00', 'file_path': '../data/raw/files/452/Bechinger et al. - 2016 - Active Particles in Complex and Crowded Environmen.pdf', 'modDate': \"D:20170630130454+02'00'\", 'source': '../data/raw/files/452/Bechinger et al. - 2016 - Active Particles in Complex and Crowded Environmen.pdf', 'format': 'PDF 1.6'}, page_content='_x ¼ v cos φ þ\\nﬃﬃﬃﬃﬃﬃﬃﬃ\\n2DT\\np\\nξx ;\\n_y ¼ v sin φ þ\\nﬃﬃﬃﬃﬃﬃﬃﬃ\\n2DT\\np\\nξy ;\\n_φ ¼\\nﬃﬃﬃﬃﬃﬃﬃﬃﬃ\\n2DR\\np\\nξφ .\\nð4Þ\\nSome examples of trajectories for various v are shown in\\nFigs. 2(c)–2(e): as v increases, we obtain active trajectories\\nthat are characterized by directed motion at short time scales;\\nhowever, over long time scales the orientation and direction of\\nmotion of the particle are randomized by its rotational\\ndiffusion (Howse et al., 2007).\\nTo emphasize the difference between Brownian motion and\\nactive Brownian motion, it is instructive to consider the\\naverage particle trajectory given the initial position and\\norientation fixed at time t ¼ 0, i.e., xð0Þ ¼ yð0Þ ¼ 0 and\\nφð0Þ ¼ 0. In the case of passive Brownian motion, this\\naverage vanishes by symmetry, i.e., hxðtÞi ¼ hyðtÞi ≡0,\\nwhere h\\x03 \\x03 \\x03i represents the ensemble average. For an active\\nparticle instead, the average is a straight line along the\\nx direction (determined by the prescribed initial orientation),\\nhxðtÞi ¼ v\\nDR\\n½1 −expð−DRtÞ\\x02 ¼ vτR\\n\\x03\\n1 −exp\\n\\x04\\n−t\\nτR\\n\\x05\\x06\\n;\\nð5Þ\\nwhile hyðtÞi ≡0 because of symmetry. This implies that, on\\naverage, an active Brownian particle will move along the\\ndirection of its initial orientation for a finite persistence length\\nL ¼ v\\nDR\\n¼ vτR;\\nð6Þ\\nbefore its direction is randomized.\\nThe relative importance of directed motion versus diffusion\\nfor an active Brownian particle can be characterized by its\\nPéclet number\\nPe ∝\\nv\\nﬃﬃﬃﬃﬃﬃﬃﬃﬃﬃﬃﬃ\\nDTDR\\np\\n;\\nð7Þ\\nwhere the proportionality sign is used because the literature is')],\n",
       " [Document(metadata={'creationDate': \"D:20110921171053+08'00'\", 'producer': 'CVISION Technologies', 'modDate': \"D:20130717105229+01'00'\", 'moddate': '2013-07-17T10:52:29+01:00', 'format': 'PDF 1.4', 'subject': '', 'keywords': '', 'creationdate': '2011-09-21T17:10:53+08:00', 'page': 11, 'file_path': '../data/raw/files/725/Risken - 1996 - The Fokker-Planck equation methods of solution an.pdf', 'author': '', 'source': '../data/raw/files/725/Risken - 1996 - The Fokker-Planck equation methods of solution an.pdf', 'creator': 'PdfCompressor 3.1.34', 'title': '', 'total_pages': 485, 'trapped': ''}, page_content='10.4.4 Position-Dependent Friction ........................ 275 \\n11. Brownian Motion in Periodic Potentials ......................... 276 \\n11.1 Applications ............................................ 280 \\n11.1.1 Pendulum........................................ 280'),\n",
       "  Document(metadata={'format': 'PDF 1.4', 'total_pages': 485, 'keywords': '', 'title': '', 'file_path': '../data/raw/files/725/Risken - 1996 - The Fokker-Planck equation methods of solution an.pdf', 'producer': 'CVISION Technologies', 'creationdate': '2011-09-21T17:10:53+08:00', 'author': '', 'moddate': '2013-07-17T10:52:29+01:00', 'modDate': \"D:20130717105229+01'00'\", 'source': '../data/raw/files/725/Risken - 1996 - The Fokker-Planck equation methods of solution an.pdf', 'creator': 'PdfCompressor 3.1.34', 'page': 293, 'trapped': '', 'creationDate': \"D:20110921171053+08'00'\", 'subject': ''}, page_content='280 \\n11. Brownian Motion in Periodic Potentials \\n11.1 Applications \\nLet us discuss some of the main applications of Brownian motion in periodic \\npotentials. \\n11.1.1 Pendulum \\nThe equation of motion for the angle of a mathematical pendulum with mass m \\nin a viscous fluid and under the influence of an additional torque M (Fig. 11.3) is \\ngiven by \\nml rp+ myl,p+ mg sinrp = M + I r(t) . \\n(11.6) \\nThe effects of the fluid are described by the damping constant my and the fluc-\\ntuating Langevin force r(t). If we divide (11.6) by m I we recover the form (11.3) \\nwith rp = x where the periodic potential f(x) is given by the cosine potential \\nf(rp) = -(g/l)cosrp. \\n(11. 7) \\nAn important quantity is the average angular velocity as a function of the \\ntorque M \\n(,p) = Fct [M/(m I)] . \\n(11.8) \\nFor a small torque M the pendulum will oscillate around its stable downside \\nposition, i.e., (<p) will be zero. If the torque M is positive and large enough the \\npendulum will rotate clockwise, i.e., (,p) will be different from zero. In the pres-\\nence of the noise (,p) will be a continuous function of the torque M. \\n11.1.2 Superionic Conductor \\nA superionic conductor consists of a nearly fixed ion lattice in which some other \\nions are highly movable. As an example we consider silver iodide (AgI). Here the \\nM \\nr(t) \\nFig. 11.3. Mathematical pendulum with an additional torque M and \\nLangevin forces nt)'),\n",
       "  Document(metadata={'format': 'PDF 1.4', 'producer': 'pdfTeX-1.40.10', 'total_pages': 138, 'trapped': '', 'subject': '', 'moddate': '2011-01-17T14:16:49+01:00', 'creationDate': \"D:20110117141649+01'00'\", 'source': '../data/raw/files/622/Bungartz - Algorithms of Scientific Computing II - 1. Molecul.pdf', 'file_path': '../data/raw/files/622/Bungartz - Algorithms of Scientific Computing II - 1. Molecul.pdf', 'page': 7, 'modDate': \"D:20110117141649+01'00'\", 'author': 'Hans-Joachim Bungartz', 'keywords': '', 'creator': 'LaTeX with beamer class version 3.07', 'title': 'Algorithms of Scientific Computing II - 1. Molecular Dynamics Simulation', 'creationdate': '2011-01-17T14:16:49+01:00'}, page_content='Technische Universit¨at M¨unchen\\nApplications for Micro and Nano Simulations\\nFlow through a nanotube (where the assumptions of continuum mechanics\\nare no longer valid)\\nHans-Joachim Bungartz: Algorithms of Scientiﬁc Computing II\\n1. Molecular Dynamics Simulation\\n8')]]"
      ]
     },
     "execution_count": 21,
     "metadata": {},
     "output_type": "execute_result"
    }
   ],
   "source": [
    "retrieval_chain.invoke({\"question\": \"What is Brownian motion?\"})"
   ]
  },
  {
   "cell_type": "markdown",
   "id": "5ec60cb8",
   "metadata": {},
   "source": [
    "The above output is a list of 5 different lists of documents (3x), each corresponding to one of the queries. This needs to be flattened into a single list of documents."
   ]
  },
  {
   "cell_type": "code",
   "execution_count": 22,
   "id": "333d62c5",
   "metadata": {},
   "outputs": [],
   "source": [
    "from webbrowser import get\n",
    "from langchain.load import dumps, loads\n",
    "\n",
    "\n",
    "def get_unique_union(documents: list[list]):\n",
    "    \"\"\"Unique union of retrieved docs\"\"\"\n",
    "    # Flatten list of lists, and convert each Document to string\n",
    "    flattened_docs = [dumps(doc) for sublist in documents for doc in sublist]\n",
    "    # Get unique documents\n",
    "    unique_docs = list(set(flattened_docs))\n",
    "    # Return\n",
    "    return [loads(doc) for doc in unique_docs]\n",
    "\n",
    "\n",
    "retrieval_chain = generate_query_chain | retriever.map() | get_unique_union"
   ]
  },
  {
   "cell_type": "code",
   "execution_count": 23,
   "id": "be39636d",
   "metadata": {},
   "outputs": [
    {
     "name": "stderr",
     "output_type": "stream",
     "text": [
      "/home/sfnavas-f/Projects/DomainMind/.venv/lib/python3.13/site-packages/torch/nn/modules/module.py:1762: FutureWarning: `encoder_attention_mask` is deprecated and will be removed in version 4.55.0 for `BertSdpaSelfAttention.forward`.\n",
      "  return forward_call(*args, **kwargs)\n",
      "/tmp/ipykernel_1406457/2482378192.py:12: LangChainBetaWarning: The function `loads` is in beta. It is actively being worked on, so the API may change.\n",
      "  return [loads(doc) for doc in unique_docs]\n"
     ]
    },
    {
     "data": {
      "text/plain": [
       "[Document(metadata={'creationDate': \"D:20130603005612-04'00'\", 'creationdate': '2013-06-03T00:56:12-04:00', 'source': '../data/raw/files/564/Buttinoni et al. - 2013 - Dynamical Clustering and Phase Separation in Suspe.pdf', 'total_pages': 5, 'subject': '', 'file_path': '../data/raw/files/564/Buttinoni et al. - 2013 - Dynamical Clustering and Phase Separation in Suspe.pdf', 'creator': 'Arbortext Advanced Print Publisher 9.1.405/W Unicode', 'modDate': \"D:20130603005612-04'00'\", 'author': '', 'moddate': '2013-06-03T00:56:12-04:00', 'producer': 'Acrobat Distiller 6.0.1 (Windows)', 'page': 2, 'trapped': '', 'keywords': '', 'format': 'PDF 1.4', 'title': 'untitled'}, page_content='Brownian motion, particles are propelled along their ori-\\nentation with a constant speed. Moreover, we neglect\\nhydrodynamic interactions between colloidal particles.\\nThe coupled equations of motion are\\n_rk ¼ \\x03rkU þ Pe ek þ \\x01k\\n(2)\\nfor the particle positions frkg, where the Gaussian white\\nnoise \\x01k models the coupling to the solvent and U ¼\\nP\\nk<k0uðjrk \\x03 rk0jÞ is the potential energy due to pairwise\\ninteractions. Quantities are made dimensionless using 2R\\nas the unit of length and ð2RÞ2=D0 as the unit of time,\\nwhich implies the Pe´clet number Pe ¼ 2Rv=D0. The\\nequations of motion (2) are integrated with a (minimal)\\ntime step 10\\x035.\\nThe experiments are carried out in a quasi-two-\\ndimensional geometry. Particles may move out of plane\\nand slightly overlap in the recorded images. To account for\\nthis (apparent) softness in the simulations, for the pair\\ninteractions we choose\\nuðrÞ ¼\\n\\x01 \"uLJðrÞ þ uLJð2RÞð\\x03 \\x03 \"Þ\\nðr \\x02 2RÞ\\n\\x03uLJðrÞ\\nðr > 2RÞ\\n(3)\\nwith\\nLennard-Jones\\npotential\\nuLJðrÞ ¼ 4½ð\\x04=rÞ12 \\x03\\nð\\x04=rÞ6\\x04. That is, we use a repulsive core (the WCA poten-\\ntial) to which optionally we add an attractive tail of depth \\x03\\n[30]. For the passive equilibrium system (no illumination),\\nFig. 2(a) compares the experimentally measured radial\\ndistribution function gðrÞ with the simulation results,\\nboth at area fraction \\x02 ’ 0:37. We ﬁx \" ¼ 100kBT and\\n\\x04=ð2RÞ ¼ 2\\x031=6 ’ 0:891 such that the potential minimum\\ncoincides with the particle diameter, see Fig. 2(b). Good\\nagreement\\nbetween\\nexperiment\\nand\\nsimulations\\nis'),\n",
       " Document(metadata={'subject': '', 'modDate': \"D:20160927134532-04'00'\", 'keywords': '', 'creationDate': \"D:20160927134532-04'00'\", 'format': 'PDF 1.5', 'creator': 'TeX', 'creationdate': '2016-09-27T13:45:32-04:00', 'source': '../data/raw/files/347/TANG-DISSERTATION-2016.pdf', 'author': '', 'producer': 'MiKTeX pdfTeX-1.40.13', 'total_pages': 136, 'trapped': '', 'page': 21, 'title': '', 'file_path': '../data/raw/files/347/TANG-DISSERTATION-2016.pdf', 'moddate': '2016-09-27T13:45:32-04:00'}, page_content='2.1.1\\nBrownian Dynamics Simulation\\nMicron-sized colloidal particles are subjected to Brownian motion. The random move-\\nment of each particle is the result of the collision between the particles and the\\nsurrounding molecules. In other words, the motion of the particle is subjected to\\nstochastic forces on the system. Therefore, using Newton’s second law to analyze\\nthe forces each particle experiences in the system enables the simulation of particle\\nmovements. One such an example is the Brownian dynamics simulation.\\nThe Brownian dynamics simulation framework is usually built on a diﬀerential\\nequation, such as the Langevin equation, which is integrated forward in time to\\ndescribe the motion of the Brownian particles.\\nThe general form of a Langevin equation to describe a particle with mass M that\\nundergoes stochastic forces is given as [31]:\\nM¨r = −(r) −ζM ˙r + ζMκ(r) + F(b)\\n(1)\\nwhere r is the particle position, e.g. Cartesian coordinates, ζ is the speciﬁc friction\\ncoeﬃcient, U is the net particle interaction potential, κ is the homogeneous velocity\\ngradient, and F(b) is the Brownian force experienced by the particle. Assuming a\\nGaussian process behavior, F(b) can be further deﬁned as:\\nFt\\n(b) =\\np\\n2kBTζM d(W)t\\ndt\\n(2)\\nwith kB being the Boltzmann’s constant, T being the absolute temperature, and (W)t\\na Wiener process at time instant t.\\nNeglecting the inertia eﬀects on the particle, the Brownian dynamics equation of\\na Brownian particle is then described as:\\n0 = −(r) −ζM ˙r + ζMκ(r) +'),\n",
       " Document(metadata={'author': '', 'producer': 'pdfTeX-1.40.21', 'trapped': '', 'title': '', 'file_path': \"../data/raw/files/706/Bailey et al. - 2022 - Fitting an active Brownian particle's mean-squared.pdf\", 'format': 'PDF 1.5', 'moddate': '2022-08-04T00:45:38+00:00', 'total_pages': 20, 'keywords': '', 'creationdate': '2022-08-04T00:45:38+00:00', 'creator': 'LaTeX with hyperref', 'subject': '', 'page': 1, 'modDate': 'D:20220804004538Z', 'source': \"../data/raw/files/706/Bailey et al. - 2022 - Fitting an active Brownian particle's mean-squared.pdf\", 'creationDate': 'D:20220804004538Z'}, page_content='Overdamped active Brownian motion is often invoked to describe the physics of experi-\\nmental realisations of active matter (1, 2). The “active Brownian particle’s” (ABP) motion is\\ndescribed using Langevin dynamics in the overdamped (inertia-free) regime, and consists of\\nan object simultaneously subjected to thermal ﬂuctuations and directed self-propulsion. In this\\nmodel, the particle moves with a constant velocity V0 in the direction of its internal orientation\\naxis ˆu, which ﬂuctuates over time due to rotational Brownian motion (3). Particles therefore\\ntravel ballistically over times shorter than the characteristic time scale for rotational diffusion\\n(persistent motion), displaying diffusive motion (with a larger, effective diffusion coefﬁcient)\\nat longer times as their direction of motion is randomized (4). This model provides meaning-\\nful statistical quantities such as an analytical description for the mean-squared-displacement\\n(MSD) of spherical microswimmers, which often shows good agreement with experimental\\nﬁndings (5). Most analyses in the experimental literature on microswimmers are in fact based\\non parameters estimated by ﬁtting the sample MSD to the ABP model, extracting particle ve-\\nlocity V0, translational diffusivity DT, and rotational diffusivity DR. In two spatial dimensions,\\nthe ABP model prescribes the following expression for the MSD ⟨∆r2(τ)⟩as a function of lag\\ntime τ (1,6)\\n⟨∆r2(τ)⟩= 4DTτ + 2V 2\\n0\\nD2\\nR\\n\\x12\\nDRτ −1 + e−DRτ\\n\\x13\\n.\\n(1)'),\n",
       " Document(metadata={'author': '', 'format': 'PDF 1.2', 'moddate': 'D:19990902083433', 'creationdate': 'D:19990830145800', 'total_pages': 6, 'trapped': '', 'producer': 'Acrobat Distiller Daemon 3.02b for Solaris 2.3 and later (SPARC)', 'creator': 'Parlance Publisher 5.0/(Xyvision Postscript Formatter) 3.0 3', 'title': 'USING STANDARD SYSTE', 'modDate': 'D:19990902083433', 'keywords': '', 'page': 0, 'creationDate': 'D:19990830145800', 'file_path': '../data/raw/files/530/Crooks - 1999 - Entropy production fluctuation theorem and the non.pdf', 'source': '../data/raw/files/530/Crooks - 1999 - Entropy production fluctuation theorem and the non.pdf', 'subject': ''}, page_content='theorem is valid, consider a classical gas conﬁned in a cyl-\\ninder by a movable piston. The walls of this cylinder are\\ndiathermal so that the gas is in thermal contact with the sur-\\nroundings, which therefore act as the constant temperature\\nheat bath. The gas is initially in equilibrium with a ﬁxed\\npiston. The piston is then moved inwards at a uniform rate,\\ncompressing the gas to some new, smaller volume. In the\\ncorresponding time-reversed process, the gas starts in equi-\\nlibrium at the ﬁnal volume of the forward process, and is\\nthen expanded back to the original volume at the same rate\\nthat it was compressed by the forward process. The micro-\\nscopic dynamics of the system will differ for each repetition\\nof this process, as will the entropy production, the heat trans-\\nfer, and the work performed on the system. The probability\\ndistribution of the entropy production is measured over the\\nensemble of repetitions.\\nAnother\\nexpression\\nthat\\nis\\nvalid\\nin\\nthe\\nfar-from-\\nequilibrium regime is the recently discovered relationship\\nbetween the difference in free energies of two equilibrium\\nensembles, DF, and the amount of work, W, expended in\\nswitching between ensembles in a ﬁnite amount of time @15–\\n19#,\\n^e2bW&5e2bDF.\\n~3!\\nHere b51/kBT, kB is the Boltzmann constant, T is the tem-\\nperature of the heat bath that is coupled to the system, and ^ &\\nindicates an average over many repetitions of the switching\\nprocess. For the conﬁned gas considered above, the free en-'),\n",
       " Document(metadata={'modDate': \"D:20130717105229+01'00'\", 'moddate': '2013-07-17T10:52:29+01:00', 'creator': 'PdfCompressor 3.1.34', 'subject': '', 'creationdate': '2011-09-21T17:10:53+08:00', 'creationDate': \"D:20110921171053+08'00'\", 'producer': 'CVISION Technologies', 'format': 'PDF 1.4', 'total_pages': 485, 'trapped': '', 'title': '', 'file_path': '../data/raw/files/725/Risken - 1996 - The Fokker-Planck equation methods of solution an.pdf', 'keywords': '', 'page': 11, 'author': '', 'source': '../data/raw/files/725/Risken - 1996 - The Fokker-Planck equation methods of solution an.pdf'}, page_content='10.4.4 Position-Dependent Friction ........................ 275 \\n11. Brownian Motion in Periodic Potentials ......................... 276 \\n11.1 Applications ............................................ 280 \\n11.1.1 Pendulum........................................ 280'),\n",
       " Document(metadata={'creator': 'Adobe Acrobat 7.05', 'creationDate': \"D:20061122100934-05'00'\", 'modDate': \"D:20090721195357+03'00'\", 'moddate': '2009-07-21T19:53:57+03:00', 'source': '../data/raw/files/445/Dhont - An Introduction to Dynamics of Colloids.pdf', 'creationdate': '2006-11-22T10:09:34-05:00', 'total_pages': 327, 'subject': '', 'format': 'PDF 1.4', 'author': 'Chimanalyt', 'title': '', 'file_path': '../data/raw/files/445/Dhont - An Introduction to Dynamics of Colloids.pdf', 'page': 7, 'producer': 'Adobe Acrobat 7.05 Paper Capture Plug-in', 'trapped': '', 'keywords': ''}, page_content='motion (in the present context more commonly referred to as Brownian mo- \\ntion). Particles in solution are colloidal particles when \"they are large, but not \\ntoo large\". The lower and upper limits for the size of a particle to be classified \\nas a colloidal particle are not sharply defined. \\nI \\ni \\nThe minimum size of a colloidal particle is set by the requirement that the \\nstructure of the solvent on the molecular length scale enters the interaction \\nI \\nof the colloidal particle with the solvent molecules only in an averaged way. \\nMany solvent molecules are supposed to interact simultaneously with the sur- \\nface of a single colloidal particle. The interaction of the colloidal particle \\nand the solvent molecules can then be described by macroscopic equations of \\nmotion for the fluid, with boundary conditions for the solvent flow on the sur- \\nface of the colloidal particle. Brownian motion is then characterized through \\nmacroscopic properties of the solvent (such as its viscosity and temperature). \\nI'),\n",
       " Document(metadata={'trapped': '', 'keywords': '', 'file_path': '../data/raw/files/445/Dhont - An Introduction to Dynamics of Colloids.pdf', 'creationDate': \"D:20061122100934-05'00'\", 'creationdate': '2006-11-22T10:09:34-05:00', 'format': 'PDF 1.4', 'total_pages': 327, 'page': 58, 'title': '', 'source': '../data/raw/files/445/Dhont - An Introduction to Dynamics of Colloids.pdf', 'modDate': \"D:20090721195357+03'00'\", 'creator': 'Adobe Acrobat 7.05', 'producer': 'Adobe Acrobat 7.05 Paper Capture Plug-in', 'moddate': '2009-07-21T19:53:57+03:00', 'author': 'Chimanalyt', 'subject': ''}, page_content='Further Reading \\n105 \\nFurther Reading and References \\nEarly papers on Brownian motion of non-interacting particles are, \\na A. Einstein, Investigations on the Theory of the Brownian Motion, Dover \\nPublications, 1956. \\na M. von Smoluchowski, Ann. Phys. 21 (1906) 756. \\na M.P. Langevin, C.R. Acad. Sci. Paris 146 (1908) 530. \\na S. Chandrasekhar, Rev. Mod. Phys. 15 (1943) 1. \\nThe book of Wax contains several interesting early papers on Brownian mo- \\ntion, including the above mentioned paper by Chandrasekhar, \\na N. Wax (ed.), Selected Papers on Noise and Stochastic Processes, Dover \\nPublications, New York, 1954. \\nThe theory of stochastic differential equations, of which the Langevin equa- \\ntions discussed here are simple examples, is a separate discipline of mathe- \\nmatics. More about stochastic differential equations can be found in, \\na M. Lax, Rev. Mod. Phys., 38 (1966) 541. \\na N.G. van Kampen, Stochastic Processes in Physics and Chemistry, North \\nHolland, Amsterdam, 1983. \\na C.W. Gardiner, Handbook of Stochastic Methods, Springer-Verlag, \\nBerlin, 1983. \\nHere, x, y and z are the three components of the position coordinate of the \\ncenter of mass. \\n(Hint : Since Q is now fixed along the z-direction, the different components \\nof the displacement in eq.(2.123) can be analysed separately.)'),\n",
       " Document(metadata={'page': 293, 'creator': 'PdfCompressor 3.1.34', 'subject': '', 'producer': 'CVISION Technologies', 'title': '', 'trapped': '', 'file_path': '../data/raw/files/725/Risken - 1996 - The Fokker-Planck equation methods of solution an.pdf', 'creationDate': \"D:20110921171053+08'00'\", 'source': '../data/raw/files/725/Risken - 1996 - The Fokker-Planck equation methods of solution an.pdf', 'author': '', 'keywords': '', 'total_pages': 485, 'moddate': '2013-07-17T10:52:29+01:00', 'modDate': \"D:20130717105229+01'00'\", 'creationdate': '2011-09-21T17:10:53+08:00', 'format': 'PDF 1.4'}, page_content='280 \\n11. Brownian Motion in Periodic Potentials \\n11.1 Applications \\nLet us discuss some of the main applications of Brownian motion in periodic \\npotentials. \\n11.1.1 Pendulum \\nThe equation of motion for the angle of a mathematical pendulum with mass m \\nin a viscous fluid and under the influence of an additional torque M (Fig. 11.3) is \\ngiven by \\nml rp+ myl,p+ mg sinrp = M + I r(t) . \\n(11.6) \\nThe effects of the fluid are described by the damping constant my and the fluc-\\ntuating Langevin force r(t). If we divide (11.6) by m I we recover the form (11.3) \\nwith rp = x where the periodic potential f(x) is given by the cosine potential \\nf(rp) = -(g/l)cosrp. \\n(11. 7) \\nAn important quantity is the average angular velocity as a function of the \\ntorque M \\n(,p) = Fct [M/(m I)] . \\n(11.8) \\nFor a small torque M the pendulum will oscillate around its stable downside \\nposition, i.e., (<p) will be zero. If the torque M is positive and large enough the \\npendulum will rotate clockwise, i.e., (,p) will be different from zero. In the pres-\\nence of the noise (,p) will be a continuous function of the torque M. \\n11.1.2 Superionic Conductor \\nA superionic conductor consists of a nearly fixed ion lattice in which some other \\nions are highly movable. As an example we consider silver iodide (AgI). Here the \\nM \\nr(t) \\nFig. 11.3. Mathematical pendulum with an additional torque M and \\nLangevin forces nt)'),\n",
       " Document(metadata={'creationDate': \"D:20230503183520+05'30'\", 'creationdate': '2023-05-03T18:35:20+05:30', 'format': 'PDF 1.4', 'modDate': \"D:20230506150312+05'30'\", 'file_path': '../data/raw/files/539/Shiraishi - 2023 - An Introduction to Stochastic Thermodynamics From.pdf', 'total_pages': 437, 'moddate': '2023-05-06T15:03:12+05:30', 'trapped': '', 'page': 422, 'title': '', 'producer': 'Springer-i', 'keywords': '', 'subject': '', 'creator': '', 'author': '', 'source': '../data/raw/files/539/Shiraishi - 2023 - An Introduction to Stochastic Thermodynamics From.pdf'}, page_content='Brownian particle. Science. 2010;328(5986):1673–5.\\n42. Wong E, Zakai M. On the convergence of ordinary integrals to stochastic integrals. Ann Math\\nStat. 1965;36(5):1560–4.\\n43. Sekimoto Ken. Kinetic characterization of heat bath and the energetics of thermal ratchet\\nmodels. J Phys Soc Jpn. 1997;66(5):1234–7.\\n44. Sekimoto K. Langevin equation and thermodynamics. Progr Theor Phys Suppl. 1998;130:17–\\n27.\\n45. Wang GM, Sevick EM, Mittag E, Searles DJ, Evans DJ. Experimental demonstration of\\nviolations of the second law of thermodynamics for small systems and short time scales. Phys\\nRev Lett. 2002;89(5): 050601.'),\n",
       " Document(metadata={'title': '', 'producer': 'pdfTeX-1.40.21', 'page': 1, 'creationdate': '2023-01-24T02:21:48+00:00', 'subject': '', 'file_path': '../data/raw/files/610/Kopp and Klapp - 2023 - Persistent motion of a Brownian particle subject t.pdf', 'source': '../data/raw/files/610/Kopp and Klapp - 2023 - Persistent motion of a Brownian particle subject t.pdf', 'modDate': 'D:20230124022148Z', 'total_pages': 16, 'moddate': '2023-01-24T02:21:48+00:00', 'trapped': '', 'creationDate': 'D:20230124022148Z', 'format': 'PDF 1.5', 'author': '', 'keywords': '', 'creator': 'LaTeX with hyperref'}, page_content='In\\nparticular, we discuss relations to the prominent model\\nof active Brownian particles (ABP) [51]. For this model,\\nwhich is widely used also to explain experimental data\\n(see, e.g. [52, 53]), there exists a closed analytical expres-\\nsion for the mean-squared displacement which we utilize\\nto ﬁt and interpret our numerical data. Further, the ABP\\nmodel is one of the best studied systems concerning the\\ncollective behavior induced by activity [53, 54]. Thus, es-\\ntablishing a link to the ABP model will provide us with\\na basis for future investigation of the collective behavior\\nof our model. By investigating, in the present study, the\\nsingle-particle relations between the diﬀerent models we\\nmake a ﬁrst step to establishing a link between feed-back\\ncontrolled and active matter.\\nThe rest of the paper is organized as follows: In the\\nfollowing section II we introduce our model and the cor-\\nresponding overdamped Langevin equation governing the\\ndynamics of the system. Subsequently we study, ﬁrst, the\\ndeterministic limit in Sec. III, using a combination of\\nanalytical and numerical methods. We then present our\\nresults for the full, nonlinear stochastic system, based on\\nBrownian dynamics simulations, in Sec. IV. Our conclu-\\nsions are summarized in Sec. V.\\nII.\\nMODEL\\nWe consider the two-dimensional motion of a Brow-\\nnian particle in the x-y plane. In addition to thermal\\nﬂuctuations due to a coupled heat bath at temperature\\nT, the particle is subject to a time-delayed feedback'),\n",
       " Document(metadata={'creator': 'Adobe InDesign CC 14.0 (Windows)', 'total_pages': 313, 'keywords': '', 'modDate': \"D:20190911165643+05'30'\", 'creationdate': '2019-08-30T18:29:45+05:30', 'moddate': '2019-09-11T16:56:43+05:30', 'author': '', 'page': 223, 'producer': 'Adobe PDF Library 15.0', 'title': '', 'trapped': '', 'format': 'PDF 1.4', 'subject': '', 'creationDate': \"D:20190830182945+05'30'\", 'file_path': '../data/raw/files/708/Toschi und Sega - 2019 - Flowing Matter.pdf', 'source': '../data/raw/files/708/Toschi und Sega - 2019 - Flowing Matter.pdf'}, page_content='ones [19] to more complex ones [20].\\nIn the absence of the chemical substance to which the chemotactic organism\\nis responding, the reorientation events happen with a timing well-described by a\\nPoisson process, characterised by the probability distribution:\\nPλ(N = n) = e−λ λn\\nn! ,\\n(7.15)\\nwhere N is the number of events observed in the time interval \\x10t, λ is the average\\nnumber of events expected in \\x10t, and n is a natural number. In this framework, the\\nprobability that tumbling happens is\\nPtumble = 1 −Pλ(N = 0) = 1 −e−λ .\\n(7.16)\\nIf we want to describe the system dynamics in a ﬁnite-difference equations\\napproach, we have to add another variable to the set (x, y, θ), because we have\\nto know if the bacterium is running or tumbling. Therefore, we add then the discrete\\nvariable ϱ that keeps track of the status of the bacterium (1: run, 0: tumble), and each\\ntime step \\x10t has a probability Ptumble to be set to 0 and probability Prun = 1−Ptumble\\nto be set to 1. The set of ﬁnite-difference equations is then:'),\n",
       " Document(metadata={'trapped': '', 'producer': 'Acrobat Distiller 10.0.0 (Windows)', 'page': 4, 'file_path': '../data/raw/files/452/Bechinger et al. - 2016 - Active Particles in Complex and Crowded Environmen.pdf', 'title': 'Active Particles in Complex and Crowded Environments', 'source': '../data/raw/files/452/Bechinger et al. - 2016 - Active Particles in Complex and Crowded Environmen.pdf', 'creationDate': \"D:20161130232223-05'00'\", 'subject': '', 'creator': 'Arbortext Advanced Print Publisher 9.1.405/W Unicode', 'modDate': \"D:20170630130454+02'00'\", 'moddate': '2017-06-30T13:04:54+02:00', 'creationdate': '2016-11-30T23:22:23-05:00', 'format': 'PDF 1.6', 'author': 'Bechinger, Clemens', 'total_pages': 50, 'keywords': ''}, page_content='DR ¼ τ−1\\nR ¼ kBT\\n8πηR3 :\\nð2Þ\\nFrom the above formulas, it is clear that while the translational\\ndiffusion of a particle scales with its linear dimension, its\\nrotational diffusion scales with its volume. For example, for a\\nparticle with R ≈1 μm in water, DT ≈0.2 μm2 s−1 and DR ≈\\n0.17 rad2 s−1 (τR ≈6 s), while for a particle 10 times smaller\\n(R ≈100 nm), DT ≈2 μm2 s−1 is 1 order of magnitude larger\\nbut DR ≈170 rad2 s−1 is 3 orders of magnitude larger\\n(τR ≈6 ms).\\nIn a homogeneous environment, the translational and\\nrotational\\nmotions\\nare\\nindependent\\nfrom\\neach\\nother.\\nTherefore, the stochastic equations of motion for a passive\\nBrownian particle in a two-dimensional space are\\n_x ¼\\nﬃﬃﬃﬃﬃﬃﬃﬃ\\n2DT\\np\\nξx ;\\n_y ¼\\nﬃﬃﬃﬃﬃﬃﬃﬃ\\n2DT\\np\\nξy ;\\n_φ ¼\\nﬃﬃﬃﬃﬃﬃﬃﬃﬃ\\n2DR\\np\\nξφ ;\\nð3Þ\\nwhere ½x; y\\x02 is the particle position, φ is its orientation\\n[Fig. 2(a)], and ξx, ξy, and ξφ represent independent white\\nnoise stochastic processes with zero mean and correlation\\nδðtÞ. Interestingly, the equations for each degree of freedom\\n(i.e., x, y, and φ) are decoupled. Inertial effects are neglected\\nbecause microscopic particles are typically in a low-Reynolds-\\nnumber regime (Purcell, 1977). Some examples of the\\ncorresponding trajectories are illustrated in Fig. 2(b).\\nFor a self-propelled particle with velocity v instead, the\\ndirection of motion is itself subject to rotational diffusion,\\nwhich leads to a coupling between rotation and translation.\\nThe corresponding stochastic differential equations are\\n_x ¼ v cos φ þ\\nﬃﬃﬃﬃﬃﬃﬃﬃ\\n2DT'),\n",
       " Document(metadata={'producer': 'MiKTeX pdfTeX-1.40.13', 'trapped': '', 'total_pages': 136, 'page': 21, 'keywords': '', 'format': 'PDF 1.5', 'modDate': \"D:20160927134532-04'00'\", 'author': '', 'title': '', 'file_path': '../data/raw/files/347/TANG-DISSERTATION-2016.pdf', 'subject': '', 'source': '../data/raw/files/347/TANG-DISSERTATION-2016.pdf', 'creationDate': \"D:20160927134532-04'00'\", 'creationdate': '2016-09-27T13:45:32-04:00', 'moddate': '2016-09-27T13:45:32-04:00', 'creator': 'TeX'}, page_content='2.1.1\\nBrownian Dynamics Simulation\\nMicron-sized colloidal particles are subjected to Brownian motion. The random move-\\nment of each particle is the result of the collision between the particles and the\\nsurrounding molecules. In other words, the motion of the particle is subjected to\\nstochastic forces on the system. Therefore, using Newton’s second law to analyze\\nthe forces each particle experiences in the system enables the simulation of particle\\nmovements. One such an example is the Brownian dynamics simulation.\\nThe Brownian dynamics simulation framework is usually built on a diﬀerential\\nequation, such as the Langevin equation, which is integrated forward in time to\\ndescribe the motion of the Brownian particles.\\nThe general form of a Langevin equation to describe a particle with mass M that\\nundergoes stochastic forces is given as [31]:\\nM¨r = −(r) −ζM ˙r + ζMκ(r) + F(b)\\n(1)\\nwhere r is the particle position, e.g. Cartesian coordinates, ζ is the speciﬁc friction\\ncoeﬃcient, U is the net particle interaction potential, κ is the homogeneous velocity\\ngradient, and F(b) is the Brownian force experienced by the particle. Assuming a\\nGaussian process behavior, F(b) can be further deﬁned as:\\nFt\\n(b) =\\np\\n2kBTζM d(W)t\\ndt\\n(2)\\nwith kB being the Boltzmann’s constant, T being the absolute temperature, and (W)t\\na Wiener process at time instant t.\\nNeglecting the inertia eﬀects on the particle, the Brownian dynamics equation of\\na Brownian particle is then described as:\\n0 = −(r) −ζM ˙r + ζMκ(r) +'),\n",
       " Document(metadata={'producer': 'Springer-i', 'format': 'PDF 1.4', 'moddate': '2023-05-06T15:03:12+05:30', 'creator': '', 'title': '', 'source': '../data/raw/files/539/Shiraishi - 2023 - An Introduction to Stochastic Thermodynamics From.pdf', 'creationdate': '2023-05-03T18:35:20+05:30', 'file_path': '../data/raw/files/539/Shiraishi - 2023 - An Introduction to Stochastic Thermodynamics From.pdf', 'author': '', 'keywords': '', 'subject': '', 'creationDate': \"D:20230503183520+05'30'\", 'trapped': '', 'page': 15, 'modDate': \"D:20230506150312+05'30'\", 'total_pages': 437}, page_content='which is mainly divided into two roots.\\nThe ﬁrst is based on experimental observations of small ﬂuctuating systems, from\\nbiochemicalsystemstoquantummesoscopicsystems.Weheretakemolecularmotors\\nin biological systems as prominent examples. From the viewpoint of thermodynamics\\nand statistical mechanics, molecular motors can be regarded as engines converting the\\nchemical potential of resources such as ATP to mechanical force. However, molecular\\nmotors apparently differ from conventional heat engines in many aspects: Molecular\\nmotors are so small that thermal ﬂuctuation affects them, which sometimes disturbs\\n1 For example, Feyerabend [7] states that the Brownian particle can violate the second law of\\nthermodynamics.\\n© Springer Nature Singapore Pte Ltd. 2023\\nN. Shiraishi, An Introduction to Stochastic Thermodynamics, Fundamental\\nTheories of Physics 212, https://doi.org/10.1007/978-981-19-8186-9_1\\n1'),\n",
       " Document(metadata={'page': 0, 'file_path': '../data/raw/files/541/Crooks - 1999 - Entropy production fluctuation theorem and the non.pdf', 'trapped': '', 'producer': 'Acrobat Distiller Daemon 3.02b for Solaris 2.3 and later (SPARC)', 'modDate': 'D:19990902083433', 'title': 'USING STANDARD SYSTE', 'source': '../data/raw/files/541/Crooks - 1999 - Entropy production fluctuation theorem and the non.pdf', 'creator': 'Parlance Publisher 5.0/(Xyvision Postscript Formatter) 3.0 3', 'format': 'PDF 1.2', 'creationdate': 'D:19990830145800', 'keywords': '', 'creationDate': 'D:19990830145800', 'subject': '', 'moddate': 'D:19990902083433', 'author': '', 'total_pages': 6}, page_content='theorem is valid, consider a classical gas conﬁned in a cyl-\\ninder by a movable piston. The walls of this cylinder are\\ndiathermal so that the gas is in thermal contact with the sur-\\nroundings, which therefore act as the constant temperature\\nheat bath. The gas is initially in equilibrium with a ﬁxed\\npiston. The piston is then moved inwards at a uniform rate,\\ncompressing the gas to some new, smaller volume. In the\\ncorresponding time-reversed process, the gas starts in equi-\\nlibrium at the ﬁnal volume of the forward process, and is\\nthen expanded back to the original volume at the same rate\\nthat it was compressed by the forward process. The micro-\\nscopic dynamics of the system will differ for each repetition\\nof this process, as will the entropy production, the heat trans-\\nfer, and the work performed on the system. The probability\\ndistribution of the entropy production is measured over the\\nensemble of repetitions.\\nAnother\\nexpression\\nthat\\nis\\nvalid\\nin\\nthe\\nfar-from-\\nequilibrium regime is the recently discovered relationship\\nbetween the difference in free energies of two equilibrium\\nensembles, DF, and the amount of work, W, expended in\\nswitching between ensembles in a ﬁnite amount of time @15–\\n19#,\\n^e2bW&5e2bDF.\\n~3!\\nHere b51/kBT, kB is the Boltzmann constant, T is the tem-\\nperature of the heat bath that is coupled to the system, and ^ &\\nindicates an average over many repetitions of the switching\\nprocess. For the conﬁned gas considered above, the free en-')]"
      ]
     },
     "execution_count": 23,
     "metadata": {},
     "output_type": "execute_result"
    }
   ],
   "source": [
    "retrieval_chain.invoke({\"question\": \"What is Brownian motion?\"})"
   ]
  },
  {
   "cell_type": "markdown",
   "id": "722cd732",
   "metadata": {},
   "source": [
    "Updated RAG chain featuring this multi-query approach. "
   ]
  },
  {
   "cell_type": "code",
   "execution_count": 28,
   "id": "cf4a56b7",
   "metadata": {},
   "outputs": [],
   "source": [
    "# Update the RAG chain\n",
    "\n",
    "messages = [\n",
    "    MessagesPlaceholder(variable_name=\"history\"),\n",
    "    SystemMessage(\n",
    "        content=\"You are a helpful scientific assistant. Answer using only the context provided.\"\n",
    "    ),\n",
    "    HumanMessagePromptTemplate.from_template(\n",
    "        \"Context:\\n{context}\\n\\nQuestion: {question}\"\n",
    "    ),\n",
    "]\n",
    "\n",
    "prompt = ChatPromptTemplate.from_messages(messages)\n",
    "\n",
    "rag_chain_multi_query = (\n",
    "    {\n",
    "        \"history\": RunnableLambda(lambda x: (x[\"history\"])),\n",
    "        \"context\": RunnableLambda(\n",
    "            lambda x: retrieval_chain.invoke({\"question\": x[\"question\"]})\n",
    "        ),\n",
    "        \"question\": RunnableLambda(lambda x: (x[\"question\"])),\n",
    "    }\n",
    "    | prompt\n",
    "    | llm\n",
    "    | StrOutputParser()\n",
    ")"
   ]
  },
  {
   "cell_type": "code",
   "execution_count": 30,
   "id": "9c3e10bd",
   "metadata": {},
   "outputs": [
    {
     "name": "stderr",
     "output_type": "stream",
     "text": [
      "/home/sfnavas-f/Projects/DomainMind/.venv/lib/python3.13/site-packages/torch/nn/modules/module.py:1762: FutureWarning: `encoder_attention_mask` is deprecated and will be removed in version 4.55.0 for `BertSdpaSelfAttention.forward`.\n",
      "  return forward_call(*args, **kwargs)\n"
     ]
    },
    {
     "data": {
      "text/plain": [
       "'<think>\\nOkay, I need to answer the question: \"What are colloidal particles?\" based on the provided context. Let me start by going through the given documents to find relevant information.\\n\\nFirst, looking at the first document from Dhont, it mentions that colloidal particles are \"large, but not too large.\" The lower and upper size limits aren\\'t sharply defined. The minimum size is determined by the requirement that the solvent\\'s molecular structure interacts with the particle in an averaged way. The upper limit is around 10 nm, but it\\'s not a strict cutoff. The text also talks about Brownian motion being a macroscopic property related to the solvent\\'s viscosity and temperature.\\n\\nAnother part of the same document mentions that colloidal particles are in a solution where they are large enough for the solvent\\'s structure to affect their interactions, but not so large that they are considered macroscopic. The example given is that particles in a solution are colloidal when they are \"large, but not too large,\" which suggests that colloidal particles are intermediate in size between molecules and macroscopic particles.\\n\\nIn the second document from Dhont, it\\'s stated that the lower limit is when the solvent\\'s structure on a molecular scale starts to influence the particle\\'s interactions. The upper limit is beyond 10 nm, which is the size typically considered colloidal. The text also mentions that colloidal particles can be metallic or non-metallic, like gold, silver, carbon, etc.\\n\\nAnother document from Lotito and Zambelli discusses colloidal assemblies and mentions colloidal particles in the context of their morphology and patterns, but it doesn\\'t directly define what they are. The other documents mention colloidal gels, which are states of colloidal systems, but again, not the definition of particles themselves.\\n\\nPutting this together, colloidal particles are particles that are intermediate in size between molecules and macroscopic particles. They are typically in the range of 1 to 1000 nanometers in diameter. The lower limit is when their size is large enough that the solvent\\'s molecular structure affects their interactions, and the upper limit is when they are too large to be considered colloidal. They are suspended in a medium (like a liquid) and exhibit phenomena like Brownian motion. The exact size range isn\\'t strictly defined, but they are distinct from both individual molecules and macroscopic particles.\\n</think>\\n\\nColloidal particles are intermediate-sized particles suspended in a medium (typically a liquid or gas), with sizes ranging from **1 nanometer (nm) to 1 micrometer (μm)**. Key characteristics include:\\n\\n1. **Size Range**:  \\n   - **Lower limit**: Particles are large enough for the **molecular structure of the solvent** to influence their interactions (e.g., Brownian motion).  \\n   - **Upper limit**: Typically **less than 1000 nm** (or 1 μm), beyond which they are classified as macroscopic particles.  \\n\\n2. **Behavior**:  \\n   - Exhibit **Brownian motion** due to collisions with solvent molecules.  \\n   - Interactions with the solvent are described using **macroscopic equations** (e.g., viscosity, temperature), as their size prevents direct molecular-level interactions.  \\n\\n3. **Classification**:  \\n   - **Non-metallic**: Examples include carbon, sulfur, selenium, etc.  \\n   - **Metallic**: Such as gold, silver, copper, iron, and platinum particles.  \\n   - **Shapes**: Can be spherical, anisotropic (non-spherical), or patchy (with surface charge variations).  \\n\\n4. **Applications**:  \\n   - Used in industrial systems, nanotechnology, and colloidal assemblies (e.g., gels, patterns).  \\n   - Their properties (e.g., size, shape, surface chemistry) influence phenomena like self-assembly, stability, and functional behavior.  \\n\\nColloidal particles are distinct from molecules (too small to exhibit macroscopic interactions) and macroscopic particles (too large to remain suspended in a medium). Their size range and behavior make them critical in fields like materials science, chemistry, and engineering.'"
      ]
     },
     "execution_count": 30,
     "metadata": {},
     "output_type": "execute_result"
    }
   ],
   "source": [
    "rag_chain_multi_query.invoke(\n",
    "    {\n",
    "        \"question\": \"What are colloidal particles?\",\n",
    "        \"history\": [],  # or previous conversation as LangChain messages\n",
    "    }\n",
    ")"
   ]
  },
  {
   "cell_type": "markdown",
   "id": "4b9d7c07",
   "metadata": {},
   "source": [
    "Gradio app"
   ]
  },
  {
   "cell_type": "code",
   "execution_count": 31,
   "id": "f18398a5",
   "metadata": {},
   "outputs": [
    {
     "name": "stdout",
     "output_type": "stream",
     "text": [
      "* Running on local URL:  http://127.0.0.1:7864\n",
      "* Running on public URL: https://33803a44b0142cac27.gradio.live\n",
      "\n",
      "This share link expires in 1 week. For free permanent hosting and GPU upgrades, run `gradio deploy` from the terminal in the working directory to deploy to Hugging Face Spaces (https://huggingface.co/spaces)\n"
     ]
    },
    {
     "data": {
      "text/plain": []
     },
     "execution_count": 31,
     "metadata": {},
     "output_type": "execute_result"
    },
    {
     "name": "stdout",
     "output_type": "stream",
     "text": [
      "Gradio history: []\n"
     ]
    },
    {
     "name": "stderr",
     "output_type": "stream",
     "text": [
      "/home/sfnavas-f/Projects/DomainMind/.venv/lib/python3.13/site-packages/torch/nn/modules/module.py:1762: FutureWarning: `encoder_attention_mask` is deprecated and will be removed in version 4.55.0 for `BertSdpaSelfAttention.forward`.\n",
      "  return forward_call(*args, **kwargs)\n"
     ]
    },
    {
     "name": "stdout",
     "output_type": "stream",
     "text": [
      "Gradio history: [{'role': 'user', 'metadata': None, 'content': 'What is Brownian motion? ', 'options': None}, {'role': 'assistant', 'metadata': None, 'content': '<details><summary><b>🤔 Thinking</b></summary><pre>Okay, I need to figure out what Brownian motion is based on the provided documents. Let me start by scanning through the content to find relevant information.\\n\\nFirst, there\\'s a mention in the Bungartz document: \"diffusion and thermal conduction are triggered due to the Brownian motion.\" That suggests Brownian motion is related to the movement of particles causing diffusion and heat transfer. Another part says, \"the process is driven through a concentration or temperature gradient,\" which might indicate that Brownian motion is a result of particles moving from areas of high concentration to low concentration, or due to thermal energy.\\n\\nLooking at the Dhont document, it refers to Brownian particles and their motion caused by collisions with surrounding molecules. The Tang dissertation explains that micron-sized colloidal particles undergo Brownian motion due to collisions with surrounding molecules, leading to random movement. The Langevin equation is mentioned there, which models the motion with stochastic forces. The equation includes terms for friction, potential, and the Brownian force, which is a random force due to molecular collisions.\\n\\nThe document by Evangelou et al. talks about Brownian Dynamics simulations, which are used to model the motion of particles under stochastic forces, again linking Brownian motion to random movements caused by collisions with molecules. The term \"stochastic forces\" and \"Wiener process\" are used, indicating randomness in the motion.\\n\\nPutting this together, Brownian motion seems to be the random movement of particles suspended in a fluid (liquid or gas) resulting from collisions with the molecules of the fluid. This motion is driven by thermal energy, leading to diffusion and other phenomena. The documents also mention that this motion can be modeled using equations like the Langevin equation, which incorporates both deterministic forces (like friction and potential) and random forces (Brownian force). The key points are the random, continuous movement, caused by molecular collisions, and its role in diffusion and thermal conduction.</pre></details>\\n\\nBrownian motion refers to the random movement of particles suspended in a fluid (liquid or gas) caused by collisions with the molecules of the fluid. This phenomenon arises due to the thermal energy of the fluid molecules, which transfer kinetic energy to the suspended particles, resulting in erratic, continuous motion. Key characteristics and context from the provided documents include:\\n\\n1. **Cause**:  \\n   - Particles (e.g., colloids, micron-sized objects) experience random collisions with surrounding molecules, leading to stochastic (probabilistic) motion.  \\n   - Thermal energy drives this movement, as described in the Tang dissertation and Bungartz document.\\n\\n2. **Role in Physical Processes**:  \\n   - Brownian motion underlies diffusion and thermal conduction. For example, the Bungartz document notes that diffusion and heat transfer are triggered by this motion.  \\n   - It explains how concentration or temperature gradients drive particle movement, as seen in the Bungartz and Dhont texts.\\n\\n3. **Mathematical Modeling**:  \\n   - The motion is often modeled using the **Langevin equation**, which incorporates deterministic forces (e.g., friction, potential energy) and stochastic forces (e.g., Brownian force, modeled as a Wiener process).  \\n   - The Tang dissertation details this equation, highlighting terms like the friction coefficient (ζ), potential energy (U), and the Brownian force (F(b)).\\n\\n4. **Applications**:  \\n   - Brownian dynamics simulations (e.g., in the Tang and Evangelou documents) are used to study systems like colloidal particles or micelle formation, where stochastic forces dominate.\\n\\nIn summary, Brownian motion is a fundamental manifestation of the kinetic theory of matter, illustrating how microscopic interactions between particles and fluid molecules result in observable macroscopic phenomena like diffusion.', 'options': None}]\n"
     ]
    },
    {
     "name": "stderr",
     "output_type": "stream",
     "text": [
      "/home/sfnavas-f/Projects/DomainMind/.venv/lib/python3.13/site-packages/torch/nn/modules/module.py:1762: FutureWarning: `encoder_attention_mask` is deprecated and will be removed in version 4.55.0 for `BertSdpaSelfAttention.forward`.\n",
      "  return forward_call(*args, **kwargs)\n"
     ]
    }
   ],
   "source": [
    "import gradio as gr\n",
    "\n",
    "import re\n",
    "\n",
    "\n",
    "def split_think_and_answer(response):\n",
    "    \"\"\"Extracts text after </think>.\"\"\"\n",
    "    match = re.search(r\"</think>\\s*(.*)\", response, re.DOTALL)\n",
    "    if match:\n",
    "        return match.group(1).strip()\n",
    "    return response.strip()\n",
    "\n",
    "\n",
    "def get_thought(response):\n",
    "    \"\"\"Extracts text inside <think>...</think>.\"\"\"\n",
    "    match = re.search(r\"<think>(.*?)</think>\", response, re.DOTALL)\n",
    "    if match:\n",
    "        return match.group(1).strip()\n",
    "    return None\n",
    "\n",
    "\n",
    "def rag_qa_multi_query(message, history):\n",
    "    # Convert Gradio history format to LangChain message format\n",
    "    history_langchain_format = []\n",
    "    print(\"Gradio history:\", history)\n",
    "    # Convert Gradio history (list of {\"role\": ..., \"content\": ...}) to LangChain format\n",
    "    for turn in history:\n",
    "        if turn[\"role\"] == \"user\":\n",
    "            history_langchain_format.append(HumanMessage(content=turn[\"content\"]))\n",
    "        elif turn[\"role\"] == \"assistant\":\n",
    "            history_langchain_format.append(AIMessage(content=turn[\"content\"]))\n",
    "\n",
    "    history_langchain_format.append(HumanMessage(content=message))\n",
    "\n",
    "    try:\n",
    "        # Pass both current message and history to the chain\n",
    "        response = rag_chain_multi_query.invoke(\n",
    "            {\"history\": history_langchain_format, \"question\": message}\n",
    "        )\n",
    "        thought = get_thought(response)\n",
    "        final_answer = split_think_and_answer(response)\n",
    "\n",
    "        if thought:\n",
    "            # Add collapsible section with the <think> content\n",
    "            final_answer = f\"<details><summary><b>🤔 Thinking</b></summary><pre>{thought}</pre></details>\\n\\n{final_answer}\"\n",
    "        return {\"role\": \"assistant\", \"content\": final_answer}\n",
    "    except Exception as e:\n",
    "        return {\"role\": \"assistant\", \"content\": f\"❌ Error: {str(e)}\"}\n",
    "\n",
    "\n",
    "# Create and launch the chat interface with memory\n",
    "demo = gr.ChatInterface(\n",
    "    fn=rag_qa_multi_query,\n",
    "    type=\"messages\",\n",
    "    title=\"📄 Scientific PDF Chatbot\",\n",
    "    description=\"Ask questions about your scientific PDFs. Powered by RAG + Qwen3:8B\",\n",
    "    examples=[\"What are colloidal particles?\", \"Tell me more about that\"],\n",
    ")\n",
    "\n",
    "demo.launch(share=True, inline=False, inbrowser=False)"
   ]
  }
 ],
 "metadata": {
  "kernelspec": {
   "display_name": "domainmind",
   "language": "python",
   "name": "python3"
  },
  "language_info": {
   "codemirror_mode": {
    "name": "ipython",
    "version": 3
   },
   "file_extension": ".py",
   "mimetype": "text/x-python",
   "name": "python",
   "nbconvert_exporter": "python",
   "pygments_lexer": "ipython3",
   "version": "3.13.5"
  }
 },
 "nbformat": 4,
 "nbformat_minor": 5
}
