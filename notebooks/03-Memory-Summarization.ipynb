{
 "cells": [
  {
   "cell_type": "code",
   "execution_count": 1,
   "id": "7278c0a2",
   "metadata": {},
   "outputs": [],
   "source": [
    "from dotenv import load_dotenv\n",
    "\n",
    "# Load environment variables from .env file\n",
    "load_dotenv()\n",
    "\n",
    "# Import required modules\n",
    "from langchain_community.document_loaders import PyMuPDFLoader\n",
    "from langchain.text_splitter import RecursiveCharacterTextSplitter\n",
    "from langchain_community.embeddings import HuggingFaceEmbeddings\n",
    "from langchain_community.vectorstores import Chroma\n",
    "from langchain.prompts import (\n",
    "    ChatPromptTemplate,\n",
    "    MessagesPlaceholder,\n",
    "    HumanMessagePromptTemplate,\n",
    ")\n",
    "from langchain.schema import SystemMessage, HumanMessage, AIMessage\n",
    "from langchain_core.runnables import RunnableLambda, RunnableMap\n",
    "from langchain_core.output_parsers import StrOutputParser\n",
    "from langchain.load import dumps, loads\n",
    "from langchain_community.chat_models import ChatOllama\n",
    "from fastapi.responses import StreamingResponse\n",
    "\n",
    "\n",
    "from tqdm import tqdm\n",
    "import torch\n",
    "import re\n",
    "import os\n",
    "\n",
    "import gradio as gr"
   ]
  },
  {
   "cell_type": "markdown",
   "id": "68372cd1",
   "metadata": {},
   "source": [
    "Embedding Config"
   ]
  },
  {
   "cell_type": "code",
   "execution_count": 2,
   "id": "dfc85403",
   "metadata": {},
   "outputs": [
    {
     "name": "stderr",
     "output_type": "stream",
     "text": [
      "/tmp/ipykernel_2770485/542832890.py:2: LangChainDeprecationWarning: The class `HuggingFaceEmbeddings` was deprecated in LangChain 0.2.2 and will be removed in 1.0. An updated version of the class exists in the :class:`~langchain-huggingface package and should be used instead. To use it run `pip install -U :class:`~langchain-huggingface` and import as `from :class:`~langchain_huggingface import HuggingFaceEmbeddings``.\n",
      "  embedding_model = HuggingFaceEmbeddings(\n",
      "/home/sfnavas-f/Projects/DomainMind/.venv/lib/python3.13/site-packages/transformers/utils/hub.py:111: FutureWarning: Using `TRANSFORMERS_CACHE` is deprecated and will be removed in v5 of Transformers. Use `HF_HOME` instead.\n",
      "  warnings.warn(\n"
     ]
    }
   ],
   "source": [
    "# Embed the text content in split_docs\n",
    "embedding_model = HuggingFaceEmbeddings(\n",
    "    model_name=\"intfloat/e5-base-v2\",\n",
    "    model_kwargs={\"device\": \"cuda\" if torch.cuda.is_available() else \"cpu\"},\n",
    "    encode_kwargs={\"normalize_embeddings\": True},\n",
    ")"
   ]
  },
  {
   "cell_type": "markdown",
   "id": "ba40d29c",
   "metadata": {},
   "source": [
    "Load Existing Vector DB"
   ]
  },
  {
   "cell_type": "code",
   "execution_count": 3,
   "id": "0667c1e8",
   "metadata": {},
   "outputs": [
    {
     "name": "stderr",
     "output_type": "stream",
     "text": [
      "/tmp/ipykernel_2770485/360242083.py:2: LangChainDeprecationWarning: The class `Chroma` was deprecated in LangChain 0.2.9 and will be removed in 1.0. An updated version of the class exists in the :class:`~langchain-chroma package and should be used instead. To use it run `pip install -U :class:`~langchain-chroma` and import as `from :class:`~langchain_chroma import Chroma``.\n",
      "  vectorstore = Chroma(\n"
     ]
    }
   ],
   "source": [
    "# Load the vector store\n",
    "vectorstore = Chroma(\n",
    "    persist_directory=\"../data/doc_vectordb\",\n",
    "    embedding_function=embedding_model,\n",
    ")"
   ]
  },
  {
   "cell_type": "markdown",
   "id": "57af8257",
   "metadata": {},
   "source": [
    "Retriever Config"
   ]
  },
  {
   "cell_type": "code",
   "execution_count": 4,
   "id": "08eaa3a7",
   "metadata": {},
   "outputs": [],
   "source": [
    "retriever = vectorstore.as_retriever(search_kwargs={\"k\": 3})"
   ]
  },
  {
   "cell_type": "markdown",
   "id": "11bdfd77",
   "metadata": {},
   "source": [
    "Setting up Local LLM with Ollama. "
   ]
  },
  {
   "cell_type": "code",
   "execution_count": 5,
   "id": "d36b65bb",
   "metadata": {},
   "outputs": [
    {
     "name": "stderr",
     "output_type": "stream",
     "text": [
      "/tmp/ipykernel_2770485/1280228933.py:1: LangChainDeprecationWarning: The class `ChatOllama` was deprecated in LangChain 0.3.1 and will be removed in 1.0.0. An updated version of the class exists in the :class:`~langchain-ollama package and should be used instead. To use it run `pip install -U :class:`~langchain-ollama` and import as `from :class:`~langchain_ollama import ChatOllama``.\n",
      "  llm = ChatOllama(model=\"qwen3:8b\", base_url=\"http://localhost:11434\", streaming=True)\n"
     ]
    }
   ],
   "source": [
    "llm = ChatOllama(model=\"qwen3:8b\", base_url=\"http://localhost:11434\", streaming=True)"
   ]
  },
  {
   "cell_type": "markdown",
   "id": "85b73b06",
   "metadata": {},
   "source": [
    "MultiQuery Generation Chain."
   ]
  },
  {
   "cell_type": "code",
   "execution_count": null,
   "id": "35f58c21",
   "metadata": {},
   "outputs": [],
   "source": [
    "# Prompt\n",
    "template = \"\"\"You are an AI scientific research assistant. Your task is to generate two \n",
    "different versions of the given user question and the conversation history so far to retrieve relevant documents from a vector \n",
    "database. The vector database consists of scientific papers, articles, books and other academic \n",
    "resources related to the field of Statistical Physics, Computational Physics, Statistics, Soft-Matter Physics\n",
    "and other related fields. By generating multiple perspectives on the user question, your goal is to help\n",
    "the user overcome some of the limitations of the distance-based similarity search. \n",
    "Provide these alternative questions separated by newlines. If the below question is unrelated or does not require\n",
    "additional context, you can respond with \"No relevant questions found.\"\n",
    "Original question: {question}\n",
    "Conversation history: {history}\"\"\"\n",
    "multi_prompt = ChatPromptTemplate.from_template(template)\n",
    "\n",
    "\n",
    "def remove_think_blocks(text):\n",
    "    # Remove all <think>...</think> blocks from the text\n",
    "    return re.sub(r\"<think>.*?</think>\", \"\", text, flags=re.DOTALL).strip()\n",
    "\n",
    "\n",
    "# Query generation cHAIN\n",
    "generate_query_chain = (\n",
    "    multi_prompt\n",
    "    | llm\n",
    "    | StrOutputParser()\n",
    "    | remove_think_blocks\n",
    "    | (lambda x: x.split(\"\\n\"))\n",
    ")"
   ]
  },
  {
   "cell_type": "markdown",
   "id": "4db59746",
   "metadata": {},
   "source": [
    "Retrieval Chain for multiple queries."
   ]
  },
  {
   "cell_type": "code",
   "execution_count": 7,
   "id": "f36e02ec",
   "metadata": {},
   "outputs": [],
   "source": [
    "# Function to make a single list of the retrieved documents\n",
    "def get_unique_union(documents: list[list]):\n",
    "    \"\"\"Unique union of retrieved docs\"\"\"\n",
    "    # Flatten list of lists, and convert each Document to string\n",
    "    flattened_docs = [dumps(doc) for sublist in documents for doc in sublist]\n",
    "    # Get unique documents\n",
    "    unique_docs = list(set(flattened_docs))\n",
    "    # Return\n",
    "    return [loads(doc) for doc in unique_docs]\n",
    "\n",
    "\n",
    "# Retrieval Chain\n",
    "retrieval_chain = generate_query_chain | retriever.map() | get_unique_union"
   ]
  },
  {
   "cell_type": "markdown",
   "id": "4421c7e8",
   "metadata": {},
   "source": [
    "# Summary Chain "
   ]
  },
  {
   "cell_type": "code",
   "execution_count": 8,
   "id": "3d4ac8e1",
   "metadata": {},
   "outputs": [],
   "source": [
    "# Prompt\n",
    "template = \"\"\"\n",
    "You are an AI scientific research assistant. Summarize the following conversation between a user and an assistant.\n",
    "- Focus on the key points, main ideas, and any important questions and answers.\n",
    "- Exclude irrelevant, repetitive, or off-topic content.\n",
    "- Use your own words; do not copy the conversation verbatim.\n",
    "- Keep the summary concise and within 512-1024 tokens.\n",
    "- Format the summary as a narration of how the conversation between the user and the assistant unfolded.\n",
    "\n",
    "Original conversation:\n",
    "{history}\n",
    "\"\"\"\n",
    "summarization_prompt = ChatPromptTemplate.from_template(template)\n",
    "\n",
    "# Summarization chain\n",
    "summarization_chain = (\n",
    "    summarization_prompt | llm | StrOutputParser() | remove_think_blocks\n",
    ")"
   ]
  },
  {
   "cell_type": "markdown",
   "id": "a982fe82",
   "metadata": {},
   "source": [
    "Testing the working of the summarization chain. "
   ]
  },
  {
   "cell_type": "code",
   "execution_count": 9,
   "id": "fdfb3516",
   "metadata": {},
   "outputs": [],
   "source": [
    "# Example conversation history\n",
    "history = [\n",
    "    HumanMessage(content=\"What is self-aggregation?\"),\n",
    "    AIMessage(\n",
    "        content=\"Self-aggregation is the process by which molecules or particles spontaneously organize into ordered structures.\"\n",
    "    ),\n",
    "    HumanMessage(content=\"Why is it important in materials science?\"),\n",
    "    AIMessage(\n",
    "        content=\"It's important because it can lead to new material properties and functionalities.\"\n",
    "    ),\n",
    "]"
   ]
  },
  {
   "cell_type": "code",
   "execution_count": 23,
   "id": "b8a609fa",
   "metadata": {},
   "outputs": [
    {
     "name": "stdout",
     "output_type": "stream",
     "text": [
      "Summary: The conversation begins with the user asking for a definition of \"self-aggregation,\" to which the assistant responds by explaining it as a process where molecules or particles spontaneously form ordered structures. The user then inquires about its importance in materials science, and the assistant highlights its significance in enabling novel material properties and functionalities. The exchange focuses on clarifying the concept and its relevance, with the assistant providing concise, direct answers to the user’s questions. No extraneous details are included, and the summary captures the core ideas and progression of the dialogue.\n"
     ]
    }
   ],
   "source": [
    "# See what summary is produced\n",
    "summary = summarization_chain.invoke({\"history\": history})\n",
    "print(\"Summary:\", summary)"
   ]
  },
  {
   "cell_type": "code",
   "execution_count": 10,
   "id": "9f90470b",
   "metadata": {},
   "outputs": [],
   "source": [
    "# Can be used to print the prompt  within the RAG chain\n",
    "def debug_prompt(messages):\n",
    "    print(\"Prompt to LLM:\")\n",
    "    for m in messages:\n",
    "        print(f\"{type(m).__name__}: {getattr(m, 'content', m)}\")\n",
    "    return messages\n",
    "\n",
    "\n",
    "# | RunnableLambda(debug_prompt) Insert this right after the prompt prep and right before the llm call"
   ]
  },
  {
   "cell_type": "markdown",
   "id": "e1b24dd4",
   "metadata": {},
   "source": [
    "# RAG Chain \n",
    "\n",
    "Prompt "
   ]
  },
  {
   "cell_type": "code",
   "execution_count": 9,
   "id": "7cf06ac5",
   "metadata": {},
   "outputs": [],
   "source": [
    "messages = [\n",
    "    SystemMessage(\n",
    "        content=\"\"\"\n",
    "        You are a helpful scientific assistant.  \n",
    "        You need to answer the question in a scientifically sound manner, combining your own knowledge and the \n",
    "        provided context and the conversation history. If you use information from the provided context, cite it. \n",
    "        If the answer is based on your own knowledge, state so.\n",
    "        The conversation history is provided above. You also have further context regarding the current question \n",
    "        below from snippets from various scientific papers. \n",
    "        \"\"\"\n",
    "    ),\n",
    "    HumanMessagePromptTemplate.from_template(\n",
    "        \"Context:\\n{context}\\n\\nQuestion: {question}\\n\\n History: {history}\"\n",
    "    ),\n",
    "]\n",
    "\n",
    "prompt = ChatPromptTemplate.from_messages(messages)\n",
    "\n",
    "\n",
    "rag_chain_multi_query = (\n",
    "    {\n",
    "        \"history\": RunnableLambda(lambda x: (x[\"history\"])),\n",
    "        \"context\": RunnableLambda(\n",
    "            lambda x: retrieval_chain.invoke(\n",
    "                {\n",
    "                    \"question\": x[\"question\"],\n",
    "                    \"history\": summarization_chain.invoke({\"history\": x[\"history\"]}),\n",
    "                }\n",
    "            )\n",
    "        ),\n",
    "        \"question\": RunnableLambda(lambda x: (x[\"question\"])),\n",
    "    }\n",
    "    | prompt\n",
    "    | llm\n",
    "    | StrOutputParser()\n",
    ")"
   ]
  },
  {
   "cell_type": "code",
   "execution_count": null,
   "id": "e070bfaf",
   "metadata": {},
   "outputs": [
    {
     "name": "stdout",
     "output_type": "stream",
     "text": [
      "* Running on local URL:  http://127.0.0.1:7860\n",
      "* To create a public link, set `share=True` in `launch()`.\n"
     ]
    },
    {
     "data": {
      "text/plain": []
     },
     "execution_count": 10,
     "metadata": {},
     "output_type": "execute_result"
    },
    {
     "name": "stdout",
     "output_type": "stream",
     "text": [
      "Gradio history: []\n"
     ]
    },
    {
     "name": "stderr",
     "output_type": "stream",
     "text": [
      "/home/sfnavas-f/Projects/DomainMind/.venv/lib/python3.13/site-packages/torch/nn/modules/module.py:1762: FutureWarning: `encoder_attention_mask` is deprecated and will be removed in version 4.55.0 for `BertSdpaSelfAttention.forward`.\n",
      "  return forward_call(*args, **kwargs)\n",
      "/tmp/ipykernel_2770485/3087458109.py:9: LangChainBetaWarning: The function `loads` is in beta. It is actively being worked on, so the API may change.\n",
      "  return [loads(doc) for doc in unique_docs]\n"
     ]
    },
    {
     "name": "stdout",
     "output_type": "stream",
     "text": [
      "Gradio history: [{'role': 'user', 'metadata': None, 'content': 'What are colloidal particles?', 'options': None}, {'role': 'assistant', 'metadata': None, 'content': '<details><summary><b>🤔 Thinking</b></summary><pre>Okay, so I need to figure out what colloidal particles are based on the provided documents. Let me start by looking through the context given. \\n\\nFirst, there\\'s a mention of colloidal particles in the context of interactions. The user\\'s question is about defining colloidal particles, so I should look for definitions or descriptions in the documents.\\n\\nLooking at the first document, it talks about active colloidal particles and their interactions. Another document by Dhont discusses dynamics of colloids, which might have a definition. There\\'s also a mention of colloidal particles in the context of hydrodynamic interactions and Brownian motion.\\n\\nFrom the Dhont document, there\\'s a part that says, \"These particles can be coated with polymers... The disadvantage here is the relatively large spread in size...\" This suggests colloidal particles are particles in a colloidal system, which are larger than molecules but small enough to remain suspended. \\n\\nAnother part in the same document mentions that colloidal particles induce fluid flow in the solvent, affecting other Brownian particles. This implies they are suspended in a fluid medium and interact through hydrodynamic forces. \\n\\nThe document also refers to colloidal particles as macroscopic objects in terms of their interaction with the fluid, meaning they are larger than the solvent molecules. The term \"colloidal systems\" is mentioned, which typically refers to systems where particles are dispersed in a continuous phase, like a liquid.\\n\\nAdditionally, there\\'s a mention of direct and indirect interactions, where direct interactions are potential (like electrostatic or van der Waals forces), and indirect are hydrodynamic interactions mediated by the solvent. This highlights that colloidal particles are entities that interact both through their own forces and through the fluid they\\'re suspended in.\\n\\nPutting this together, colloidal particles are small, suspended particles in a fluid medium, typically ranging in size between 1 nanometer to 1 micrometer. They are large enough to remain suspended but small enough to exhibit unique properties due to their size and interactions with the surrounding fluid. They can have various coatings or structures, and their behavior is influenced by both direct interparticle forces and hydrodynamic interactions.</pre></details>\\n\\nColloidal particles are small, suspended entities in a fluid medium, typically ranging in size from **1 nanometer to 1 micrometer**. They are **larger than individual molecules** but **smaller than macroscopic objects**, which allows them to remain dispersed in a continuous phase (e.g., liquid or gas) without settling under gravity. Key characteristics include:\\n\\n1. **Suspension in a Medium**: Colloidal particles are suspended in a liquid, gas, or solid matrix, forming a **colloidal system**. For example, milk (liquid droplets in water) or smoke (solid particles in air) are colloidal systems.\\n\\n2. **Interactions**: \\n   - **Direct Interactions**: These include potential forces like electrostatic, van der Waals, or steric interactions between particles.\\n   - **Hydrodynamic Interactions**: These arise from the fluid flow induced by the motion of particles, affecting their Brownian motion and collective behavior.\\n\\n3. **Hydrodynamic Behavior**: Due to their size, colloidal particles induce **fluid flow** in their surrounding medium, leading to complex dynamics such as **Brownian motion**, **diffusion**, and **viscoelastic responses**. These interactions are often modeled using macroscopic hydrodynamics.\\n\\n4. **Applications and Complexity**: Colloidal systems exhibit phenomena like **flocculation** (aggregation due to strong attractions), **phase separation**, and **self-assembly**, which are critical in materials science, biology, and soft matter physics. Computational modeling is often used to predict their behavior due to the complexity of interactions.\\n\\nIn summary, colloidal particles are intermediate-sized entities suspended in a medium, whose behavior is governed by both direct interparticle forces and hydrodynamic effects, making them central to understanding complex systems in physics and engineering.', 'options': None}]\n"
     ]
    },
    {
     "name": "stderr",
     "output_type": "stream",
     "text": [
      "/home/sfnavas-f/Projects/DomainMind/.venv/lib/python3.13/site-packages/torch/nn/modules/module.py:1762: FutureWarning: `encoder_attention_mask` is deprecated and will be removed in version 4.55.0 for `BertSdpaSelfAttention.forward`.\n",
      "  return forward_call(*args, **kwargs)\n"
     ]
    },
    {
     "name": "stdout",
     "output_type": "stream",
     "text": [
      "Gradio history: [{'role': 'user', 'metadata': None, 'content': 'What are colloidal particles?', 'options': None}, {'role': 'assistant', 'metadata': None, 'content': '<details><summary><b>🤔 Thinking</b></summary><pre>Okay, so I need to figure out what colloidal particles are based on the provided documents. Let me start by looking through the context given. \\n\\nFirst, there\\'s a mention of colloidal particles in the context of interactions. The user\\'s question is about defining colloidal particles, so I should look for definitions or descriptions in the documents.\\n\\nLooking at the first document, it talks about active colloidal particles and their interactions. Another document by Dhont discusses dynamics of colloids, which might have a definition. There\\'s also a mention of colloidal particles in the context of hydrodynamic interactions and Brownian motion.\\n\\nFrom the Dhont document, there\\'s a part that says, \"These particles can be coated with polymers... The disadvantage here is the relatively large spread in size...\" This suggests colloidal particles are particles in a colloidal system, which are larger than molecules but small enough to remain suspended. \\n\\nAnother part in the same document mentions that colloidal particles induce fluid flow in the solvent, affecting other Brownian particles. This implies they are suspended in a fluid medium and interact through hydrodynamic forces. \\n\\nThe document also refers to colloidal particles as macroscopic objects in terms of their interaction with the fluid, meaning they are larger than the solvent molecules. The term \"colloidal systems\" is mentioned, which typically refers to systems where particles are dispersed in a continuous phase, like a liquid.\\n\\nAdditionally, there\\'s a mention of direct and indirect interactions, where direct interactions are potential (like electrostatic or van der Waals forces), and indirect are hydrodynamic interactions mediated by the solvent. This highlights that colloidal particles are entities that interact both through their own forces and through the fluid they\\'re suspended in.\\n\\nPutting this together, colloidal particles are small, suspended particles in a fluid medium, typically ranging in size between 1 nanometer to 1 micrometer. They are large enough to remain suspended but small enough to exhibit unique properties due to their size and interactions with the surrounding fluid. They can have various coatings or structures, and their behavior is influenced by both direct interparticle forces and hydrodynamic interactions.</pre></details>\\n\\nColloidal particles are small, suspended entities in a fluid medium, typically ranging in size from **1 nanometer to 1 micrometer**. They are **larger than individual molecules** but **smaller than macroscopic objects**, which allows them to remain dispersed in a continuous phase (e.g., liquid or gas) without settling under gravity. Key characteristics include:\\n\\n1. **Suspension in a Medium**: Colloidal particles are suspended in a liquid, gas, or solid matrix, forming a **colloidal system**. For example, milk (liquid droplets in water) or smoke (solid particles in air) are colloidal systems.\\n\\n2. **Interactions**: \\n   - **Direct Interactions**: These include potential forces like electrostatic, van der Waals, or steric interactions between particles.\\n   - **Hydrodynamic Interactions**: These arise from the fluid flow induced by the motion of particles, affecting their Brownian motion and collective behavior.\\n\\n3. **Hydrodynamic Behavior**: Due to their size, colloidal particles induce **fluid flow** in their surrounding medium, leading to complex dynamics such as **Brownian motion**, **diffusion**, and **viscoelastic responses**. These interactions are often modeled using macroscopic hydrodynamics.\\n\\n4. **Applications and Complexity**: Colloidal systems exhibit phenomena like **flocculation** (aggregation due to strong attractions), **phase separation**, and **self-assembly**, which are critical in materials science, biology, and soft matter physics. Computational modeling is often used to predict their behavior due to the complexity of interactions.\\n\\nIn summary, colloidal particles are intermediate-sized entities suspended in a medium, whose behavior is governed by both direct interparticle forces and hydrodynamic effects, making them central to understanding complex systems in physics and engineering.', 'options': None}, {'role': 'user', 'metadata': None, 'content': 'What is Brownian motion?', 'options': None}, {'role': 'assistant', 'metadata': None, 'content': '<details><summary><b>🤔 Thinking</b></summary><pre>Okay, so the user asked, \"What is Brownian motion?\" and provided some context about colloidal particles. Let me start by recalling what I know about Brownian motion. From what I remember, Brownian motion refers to the random movement of particles suspended in a fluid. This movement is caused by collisions with the molecules of the fluid. \\n\\nLooking at the history, the user previously asked about colloidal particles, and the assistant explained that they are between 1 nm to 1 micrometer, suspended in a medium, and their behavior involves both direct interactions and hydrodynamic effects. The user might be connecting the two concepts here, so I need to make sure I link Brownian motion to colloidal particles properly.\\n\\nThe context provided includes mentions of hydrodynamic interactions, which are important for colloidal particles. The assistant\\'s previous answer mentioned that colloidal particles induce fluid flow, leading to Brownian motion. So, the user\\'s question is likely building on that. \\n\\nI should define Brownian motion clearly, perhaps starting with its historical context, like Robert Brown\\'s observation of pollen particles in water. Then explain that it\\'s the result of molecular collisions. It\\'s important to note that this motion is random and continuous, and it\\'s a key evidence for the existence of atoms and molecules.\\n\\nSince the user is asking about colloidal particles, I should also connect Brownian motion to their behavior. Colloidal particles are large enough to be seen under a microscope but small enough to exhibit Brownian motion. The movement is due to the thermal energy causing the fluid molecules to collide with the particles, making them move in a zigzag path.\\n\\nI need to make sure the answer is concise but covers the essential points: definition, cause (molecular collisions), and relevance to colloidal particles. Also, maybe mention that this motion is a result of the kinetic theory of matter. Avoid getting too technical unless necessary, but ensure clarity. Let me check if there\\'s any specific aspect from the provided context that needs emphasis. The user\\'s history includes hydrodynamic interactions and computational modeling, but the question is more fundamental. So focus on the basic definition and its relation to colloidal particles.</pre></details>\\n\\nBrownian motion refers to the **random, continuous movement** of microscopic particles (such as colloidal particles) suspended in a fluid (liquid or gas). This motion arises from **collisions** between the suspended particles and the individual molecules of the fluid, which are in constant thermal motion. \\n\\n### Key Aspects of Brownian Motion:\\n1. **Cause**:  \\n   - The motion is driven by **thermal energy**. Fluid molecules (e.g., water molecules) move randomly and collide with the colloidal particles, imparting small, random forces. These collisions are uneven in direction and magnitude, leading to the erratic movement observed.\\n\\n2. **Observation**:  \\n   - First observed by **Robert Brown** in 1827, who noted the jittery motion of pollen grains in water. Later, **Albert Einstein** provided a theoretical explanation in 1905, linking it to the kinetic theory of matter and confirming the existence of atoms.\\n\\n3. **Relevance to Colloidal Particles**:  \\n   - Colloidal particles (typically 1–1000 nm in size) are large enough to be visible under a microscope but small enough to experience significant Brownian motion. Their movement is influenced by:  \\n     - **Hydrodynamic interactions** (fluid flow around particles).  \\n     - **Thermal fluctuations** (random collisions with fluid molecules).  \\n   - Brownian motion is a key mechanism for **diffusion** of colloidal particles in a fluid and plays a critical role in their **stability** and **dynamic behavior** in suspensions.\\n\\n4. **Applications**:  \\n   - Understanding Brownian motion is essential in fields like **soft matter physics**, **materials science**, and **biophysics**, where colloidal systems (e.g., emulsions, gels, or self-assembled structures) exhibit complex behaviors governed by thermal and hydrodynamic forces.\\n\\nIn summary, Brownian motion is a direct consequence of thermal energy and molecular collisions, and it governs the dynamics of colloidal particles in fluids.', 'options': None}]\n"
     ]
    },
    {
     "name": "stderr",
     "output_type": "stream",
     "text": [
      "/home/sfnavas-f/Projects/DomainMind/.venv/lib/python3.13/site-packages/torch/nn/modules/module.py:1762: FutureWarning: `encoder_attention_mask` is deprecated and will be removed in version 4.55.0 for `BertSdpaSelfAttention.forward`.\n",
      "  return forward_call(*args, **kwargs)\n"
     ]
    }
   ],
   "source": [
    "def split_think_and_answer(response):\n",
    "    \"\"\"Extracts text after </think>.\"\"\"\n",
    "    match = re.search(r\"</think>\\s*(.*)\", response, re.DOTALL)\n",
    "    if match:\n",
    "        return match.group(1).strip()\n",
    "    return response.strip()\n",
    "\n",
    "\n",
    "def get_thought(response):\n",
    "    \"\"\"Extracts text inside <think>...</think>.\"\"\"\n",
    "    match = re.search(r\"<think>(.*?)</think>\", response, re.DOTALL)\n",
    "    if match:\n",
    "        return match.group(1).strip()\n",
    "    return None\n",
    "\n",
    "\n",
    "def remove_details_blocks(text):\n",
    "    # Remove all <details>...</details> blocks, including nested tags and multiline content\n",
    "    return re.sub(r\"<details[\\s\\S]*?</details>\", \"\", text, flags=re.DOTALL).strip()\n",
    "\n",
    "\n",
    "def rag_qa_multi_query(message, history):\n",
    "    # Convert Gradio history format to LangChain message format\n",
    "    history_langchain_format = []\n",
    "    print(\"Gradio history:\", history)\n",
    "    # Convert Gradio history (list of {\"role\": ..., \"content\": ...}) to LangChain format\n",
    "    for turn in history:\n",
    "        if turn[\"role\"] == \"user\":\n",
    "            history_langchain_format.append(HumanMessage(content=turn[\"content\"]))\n",
    "        elif turn[\"role\"] == \"assistant\":\n",
    "            cleaned_content = remove_details_blocks(turn[\"content\"])\n",
    "            history_langchain_format.append(AIMessage(content=cleaned_content))\n",
    "\n",
    "    try:\n",
    "        # Pass both current message and history to the chain\n",
    "        response = rag_chain_multi_query.invoke(\n",
    "            {\"history\": history_langchain_format, \"question\": message}\n",
    "        )\n",
    "        thought = get_thought(response)\n",
    "        final_answer = split_think_and_answer(response)\n",
    "\n",
    "        if thought:\n",
    "            # Add collapsible section with the <think> content\n",
    "            final_answer = f\"<details><summary><b>🤔 Thinking</b></summary><pre>{thought}</pre></details>\\n\\n{final_answer}\"\n",
    "        return {\"role\": \"assistant\", \"content\": final_answer}\n",
    "    except Exception as e:\n",
    "        return {\"role\": \"assistant\", \"content\": f\"❌ Error: {str(e)}\"}\n",
    "\n",
    "\n",
    "# Create and launch the chat interface with memory\n",
    "demo = gr.ChatInterface(\n",
    "    fn=rag_qa_multi_query,\n",
    "    type=\"messages\",\n",
    "    title=\"📄 Scientific PDF Chatbot\",\n",
    "    description=\"Ask questions about your scientific PDFs. Powered by RAG + Qwen3:8B\",\n",
    "    examples=[\"What are colloidal particles?\", \"Tell me more about that\"],\n",
    ")\n",
    "\n",
    "demo.launch(share=False, inline=False, inbrowser=False)"
   ]
  }
 ],
 "metadata": {
  "kernelspec": {
   "display_name": "domainmind",
   "language": "python",
   "name": "python3"
  },
  "language_info": {
   "codemirror_mode": {
    "name": "ipython",
    "version": 3
   },
   "file_extension": ".py",
   "mimetype": "text/x-python",
   "name": "python",
   "nbconvert_exporter": "python",
   "pygments_lexer": "ipython3",
   "version": "3.13.5"
  }
 },
 "nbformat": 4,
 "nbformat_minor": 5
}
