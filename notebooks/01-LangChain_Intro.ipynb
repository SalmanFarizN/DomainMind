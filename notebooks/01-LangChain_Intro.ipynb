{
 "cells": [
  {
   "cell_type": "markdown",
   "id": "8d8b154a",
   "metadata": {},
   "source": [
    "# Intro to LangChain"
   ]
  },
  {
   "cell_type": "code",
   "execution_count": 3,
   "id": "3e8c6d4b",
   "metadata": {},
   "outputs": [],
   "source": [
    "import json\n",
    "from langchain_core.messages import HumanMessage, SystemMessage, AIMessage\n",
    "from langchain_community.chat_models import ChatOllama\n",
    "\n",
    "from langchain_core.globals import set_verbose, set_debug\n",
    "\n",
    "set_verbose(False)\n",
    "set_debug(False)\n",
    "\n",
    "import logging\n",
    "\n",
    "logging.getLogger().setLevel(logging.ERROR)\n",
    "\n",
    "import warnings\n",
    "\n",
    "warnings.filterwarnings(\"ignore\")"
   ]
  },
  {
   "cell_type": "code",
   "execution_count": null,
   "id": "d702ee8c",
   "metadata": {},
   "outputs": [
    {
     "name": "stdout",
     "output_type": "stream",
     "text": [
      "<think>\n",
      "Okay, the user is asking about the first law of thermodynamics. Let me recall what I know. The first law is about energy conservation, right? It states that energy can't be created or destroyed, only transformed. But I need to be precise.\n",
      "\n",
      "Wait, the user might be a student or someone starting to learn thermodynamics. They probably want a clear, concise statement without too much jargon. Let me check the exact wording. The law is often phrased as the change in internal energy equals heat added minus work done. So ΔU = Q - W. But maybe they want it in terms of conservation. Alternatively, sometimes it's presented as energy conservation in thermodynamic systems. I should mention both perspectives to cover different ways it's taught. Also, make sure to define the terms briefly. Let me confirm the formula. Yes, ΔU = Q - W is correct, where Q is heat added and W is work done by the system. Alternatively, sometimes work is considered as work done on the system, which would flip the sign. But the key is the conservation aspect. The user might not need the formula unless specified, but since they asked for the first law, including the equation adds clarity. I should keep it simple and to the point as per the user's instruction. Alright, that should cover it.\n",
      "</think>\n",
      "\n",
      "The first law of thermodynamics states that energy cannot be created or destroyed in an isolated system; it can only be transformed from one form to another. Mathematically, it is expressed as:  \n",
      "**ΔU = Q - W**,  \n",
      "where **ΔU** is the change in internal energy, **Q** is the heat added to the system, and **W** is the work done by the system.\n"
     ]
    }
   ],
   "source": [
    "llm = ChatOllama(model=\"qwen3:8b\", base_url=\"http://localhost:11434\")\n",
    "\n",
    "messages = [\n",
    "    SystemMessage(\n",
    "        content=\"You are an assistant to a PhD researcher in physics. You keep answers concise and to the point.\"\n",
    "    ),\n",
    "    HumanMessage(content=\"What is the first law of thermodynamics?\"),\n",
    "]\n",
    "\n",
    "response = llm.invoke(messages)\n",
    "\n",
    "print(response.content)"
   ]
  }
 ],
 "metadata": {
  "kernelspec": {
   "display_name": "doc-chat",
   "language": "python",
   "name": "python3"
  },
  "language_info": {
   "codemirror_mode": {
    "name": "ipython",
    "version": 3
   },
   "file_extension": ".py",
   "mimetype": "text/x-python",
   "name": "python",
   "nbconvert_exporter": "python",
   "pygments_lexer": "ipython3",
   "version": "3.13.5"
  }
 },
 "nbformat": 4,
 "nbformat_minor": 5
}
