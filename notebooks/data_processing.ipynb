{
 "cells": [
  {
   "cell_type": "code",
   "execution_count": 2,
   "id": "7c2706bd",
   "metadata": {},
   "outputs": [],
   "source": [
    "# from dotenv import load_dotenv\n",
    "\n",
    "# Load environment variables from .env file\n",
    "# load_dotenv()\n",
    "\n",
    "# Import required modules\n",
    "import os\n",
    "from langchain_community.document_loaders import PyMuPDFLoader\n",
    "from langchain.text_splitter import RecursiveCharacterTextSplitter\n",
    "from langchain_community.embeddings import HuggingFaceEmbeddings\n",
    "from tqdm import tqdm\n",
    "import torch\n",
    "from langchain_community.vectorstores import Chroma"
   ]
  },
  {
   "cell_type": "markdown",
   "id": "6386b614",
   "metadata": {},
   "source": [
    "# Embedding the PDF files"
   ]
  },
  {
   "cell_type": "markdown",
   "id": "46866d9d",
   "metadata": {},
   "source": [
    "Testing the output after loading of a single PDF file using PyMuPDFLoader()."
   ]
  },
  {
   "cell_type": "code",
   "execution_count": 2,
   "id": "d448f785",
   "metadata": {},
   "outputs": [
    {
     "name": "stdout",
     "output_type": "stream",
     "text": [
      "page_content='Induced-Charge Electrophoresis of Metallodielectric Particles\n",
      "Sumit Gangwal,1 Olivier J. Cayre,1 Martin Z. Bazant,2 and Orlin D. Velev1,*\n",
      "1Department of Chemical and Biomolecular Engineering, North Carolina State University, Raleigh, North Carolina, 27695, USA\n",
      "2Department of Mathematics and Institute for Soldier Nanotechnologies, Massachusetts Institute of Technology,\n",
      "Cambridge, Massachusetts, 02139, USA\n",
      "(Received 27 April 2007; published 4 February 2008)\n",
      "The application of ac electric ﬁelds in aqueous suspensions of anisotropic particles leads to unbalanced\n",
      "liquid ﬂows and nonlinear, induced-charge electrophoretic motion. We report experimental observations\n",
      "of the motion of Janus microparticles with one dielectric and one metal-coated hemisphere induced by\n",
      "uniform ﬁelds of frequency 100 Hz–10 kHz in NaCl solutions. The motion is perpendicular to the ﬁeld\n",
      "axis and persists after particles are attracted to a glass wall. This phenomenon may ﬁnd applications in\n",
      "microactuators, microsensors, and microﬂuidic devices.\n",
      "DOI: 10.1103/PhysRevLett.100.058302\n",
      "PACS numbers: 47.57.jd, 47.57.J\u0001, 81.05.Zx\n",
      "Nonlinear electrokinetic phenomena are widely used to\n",
      "manipulate colloids and drive ﬂows in microﬂuidic de-\n",
      "vices. The liquid and particle velocities typically depend\n",
      "on the strength of the applied ﬁeld squared and are com-\n",
      "monly driven by alternating current (ac) to avoid Faradaic\n",
      "reactions. The classical example is dielectrophoresis\n",
      "(DEP), where a net electrostatic force causes particle mo-\n",
      "tion in a nonuniform ac ﬁeld. Polarization of the ionic\n",
      "double layers can also lead to nonlinear electro-osmotic\n",
      "ﬂows at low frequencies (kHz), as ﬁrst described by\n",
      "Murtsovkin and co-workers [1,2]. Bazant and Squires\n",
      "[3,4] conceptually uniﬁed this phenomenon with ac\n",
      "electro-osmosis at electrodes, ﬁrst described by Ramos\n",
      "et al. [5] and Ajdari [6], and suggested the term\n",
      "‘‘induced-charge electro-osmosis’’ (ICEO) to describe all\n",
      "ﬂows resulting from the action of an applied electric ﬁeld\n",
      "on its own induced diffuse charge near a polarizable sur-\n",
      "face. They also predicted how broken symmetries could\n",
      "cause polarizable particles to move in electric ﬁelds by\n",
      "‘‘induced-charge electrophoresis’’ (ICEP) [3,7].\n",
      "Although ICEO ﬂows have been observed in diverse\n",
      "settings [1,5,8,9], ICEP motion of colloids is largely unex-\n",
      "plored. In what may be the only prior experimental work,\n",
      "Murtsovkin and Mantrov [10] observed that the motion of\n",
      "quartz particles of irregular shapes varies with the square of\n",
      "the applied ﬁeld, but did not provide a theory. General\n",
      "mobility relations for homogenous nonspherical conduct-\n",
      "ing particles have been derived [11] and ICEP motion has\n",
      "been calculated for arbitrary shape perturbations [7], as\n",
      "well as rodlike spheroidal shapes [12].\n",
      "The synthesis of ‘‘Janus’’ particles (whose halves are\n",
      "physically or chemically different) and their application in\n",
      "novel materials is a relatively new but rapidly expanding\n",
      "research ﬁeld [13–17]. Anisotropic particles with two\n",
      "hemispheres of different polarizabily or conductance\n",
      "have been produced by thermal evaporation [18] or gold\n",
      "sputtering [19]. The mobility of such particles in external\n",
      "ﬁelds, however, has not been investigated systematically.\n",
      "In this Letter, we report how metallodielectric Janus\n",
      "particles suspended in water perform ICEP motion in\n",
      "directions perpendicular to a uniform ac ﬁeld. This unusual\n",
      "phenomenon, which cannot be attributed to DEP, is the ﬁrst\n",
      "experimental observation of an effect predicted theoreti-\n",
      "cally by Squires and Bazant [7], although we ﬁnd impor-\n",
      "tant differences as well. Using the standard low-voltage\n",
      "model for thin double layers, Squires and Bazant predicted\n",
      "that a metallic sphere with a hemispherical dielectric coat-\n",
      "ing oriented perpendicular to the ﬁeld will move by ICEP\n",
      "in the direction of its dielectric end at a velocity,\n",
      " UICEP \u0002 9\n",
      "64\n",
      "\"RE2\n",
      "0\n",
      "\u0001\u00031 \u0004 \u0002\u0005 ;\n",
      "(1)\n",
      "where \" is the permittivity and \u0001 the viscosity of the bulk\n",
      "solvent, R is the radius of the sphere, E0 is the ﬁeld\n",
      "amplitude, and \u0002 is the ratio of the differential capacitances\n",
      "of the compact and diffuse layers. Equation (1) also de-\n",
      "scribes the time-averaged velocity in a square-wave ac\n",
      "ﬁeld at low frequency, as in our experiments.\n",
      "The Janus particles studied were prepared by partially\n",
      "coating dielectric microspheres with a conductive layer of\n",
      "gold. Aqueous suspensions of surfactant-free sulfate-\n",
      "stabilized polystyrene latex spheres (diameter, D \u0002 4:0,\n",
      "5.7, and 8:7 \u0003m) were purchased from Interfacial Dynam-\n",
      "ics Corporation (OR). After centrifuging and washing with\n",
      "ultrapure milli-Q water the particles were concentrated and\n",
      "deposited in monolayers on precleaned glass slides by our\n",
      "convective assembly method [20]. The top sides of the\n",
      "dried particle monolayers were coated with 10 nm of\n",
      "chromium followed by 20 nm of gold in a metal evaporator.\n",
      "The Janus particles formed [Fig. 1(a)] were then redis-\n",
      "persed in milli-Q water by mild sonication.\n",
      "Diluted particle suspensions (approximately \u00060:01%\n",
      "solids) were injected in the thin chamber of an experimen-\n",
      "tal cell facing two electrodes [Fig. 1(b)]. The ﬁeld-driven\n",
      "motion of the particles in the chamber was recorded with a\n",
      "digital camera from above using an Olympus BX-61 opti-\n",
      "PRL 100, 058302 (2008)\n",
      "P H Y S I C A L\n",
      "R E V I E W\n",
      "L E T T E R S\n",
      "week ending\n",
      "8 FEBRUARY 2008\n",
      "0031-9007=08=100(5)=058302(4)\n",
      "058302-1\n",
      "© 2008 The American Physical Society' metadata={'producer': 'Acrobat Distiller 6.0.1 (Windows)', 'creator': '3B2 Total Publishing System 8.07g/W', 'creationdate': '2008-01-31T15:53:54-05:00', 'source': '../data/raw/files/417/Gangwal et al. - 2008 - Induced-Charge Electrophoresis of Metallodielectri.pdf', 'file_path': '../data/raw/files/417/Gangwal et al. - 2008 - Induced-Charge Electrophoresis of Metallodielectri.pdf', 'total_pages': 4, 'format': 'PDF 1.4', 'title': 'untitled', 'author': '', 'subject': '', 'keywords': '', 'moddate': '2008-01-31T15:53:54-05:00', 'trapped': '', 'modDate': \"D:20080131155354-05'00'\", 'creationDate': \"D:20080131155354-05'00'\", 'page': 0}\n",
      "page_content='cal microscope. The average particle velocities were cal-\n",
      "culated for 15–25 particles for each experimental condi-\n",
      "tion. The standard error of each average is reported in all\n",
      "plots.\n",
      "The Janus particles were subjected to ac ﬁelds between\n",
      "100–320 V=cm at a frequency between 0.1–10 kHz. When\n",
      "the electric ﬁeld in the cell was turned on, the particles\n",
      "oriented such that the plane between their hemispheres\n",
      "(gold-coated or conductive hemisphere appearing dark\n",
      "and bare or dielectric hemisphere appearing light) aligned\n",
      "in the direction of the electric ﬁeld. The rotation of the\n",
      "particles to this stable orientation can be caused at least\n",
      "partly by DEP, since it results in the largest induced dipole\n",
      "moment, aligned with the electric ﬁeld direction. ICEO\n",
      "ﬂows may also contribute, however, since the associated\n",
      "hydrodynamic torque is predicted to rotate the particle to\n",
      "the same orientation as DEP [7]. The particles then moved\n",
      "normal to the applied electric ﬁeld with their polystyrene\n",
      "hemisphere forward [Fig. 2(a)]. This motion cannot be\n",
      "attributed to DEP. The larger particles moved at a higher\n",
      "velocity than the smaller ones [Fig. 2(a)]. The phenomenon\n",
      "is nicely illustrated in the movies provided as supplemen-\n",
      "tary material [21].\n",
      "These observations of a new mode of particle mobility\n",
      "are qualitatively consistent with ICEP [7]. At low ac fre-\n",
      "quency, there is ample time for double-layer charging to\n",
      "screen the electric ﬁeld, leading to the induced-charge\n",
      "distribution sketched in Fig. 2(b). In each half cycle of\n",
      "the ac ﬁeld, all of the induced charges change sign in phase\n",
      "with the ﬁeld, thus yielding the same ICEO ﬂow, varying as\n",
      "E2. For a homogeneous particle, the ﬂow proﬁle is quad-\n",
      "rupolar, drawing ﬂuid in along the ﬁeld axis and ejecting it\n",
      "FIG. 2.\n",
      "(a) Optical micrographs from different frames of a\n",
      "recording of the position and orientation of Janus particles of\n",
      "three different diameters (4.0, 5.7 and 8:7 \u0003m) in an ac ﬁeld of\n",
      "amplitude 140 V=cm and frequency 1 kHz. The two particles on\n",
      "the right side in the top image have moved out of the ﬁeld of\n",
      "view and another particle has moved into view in the bottom\n",
      "image approximately 5 s later. (b) Schematic of a particle in one-\n",
      "half cycle of ac electric ﬁeld in the stable conﬁguration. The\n",
      "electric double layer on the gold side (black hemisphere) is more\n",
      "strongly polarized and thus drives a stronger ICEO slip (arrows)\n",
      "than the polystyrene side, resulting in ICEP motion in the\n",
      "direction of the dielectric side.\n",
      "FIG. 1.\n",
      "(a) SEM image of 4:0 \u0003m polystyrene particles par-\n",
      "tially coated with gold. The gold-coated hemispheres appear\n",
      "brighter due to their higher conductance. (b) Schematic of the\n",
      "experimental set-up (not drawn to scale). Two gold electrodes\n",
      "are deposited on the bottom plate. A Teﬂon spacer sustains a\n",
      "60–80 \u0003m gap between the bottom and the top microscope\n",
      "cover slip. The particle suspension is surrounded by a hydro-\n",
      "phobic ring and conﬁned in this thin chamber by capillarity.\n",
      "PRL 100, 058302 (2008)\n",
      "P H Y S I C A L\n",
      "R E V I E W\n",
      "L E T T E R S\n",
      "week ending\n",
      "8 FEBRUARY 2008\n",
      "058302-2' metadata={'producer': 'Acrobat Distiller 6.0.1 (Windows)', 'creator': '3B2 Total Publishing System 8.07g/W', 'creationdate': '2008-01-31T15:53:54-05:00', 'source': '../data/raw/files/417/Gangwal et al. - 2008 - Induced-Charge Electrophoresis of Metallodielectri.pdf', 'file_path': '../data/raw/files/417/Gangwal et al. - 2008 - Induced-Charge Electrophoresis of Metallodielectri.pdf', 'total_pages': 4, 'format': 'PDF 1.4', 'title': 'untitled', 'author': '', 'subject': '', 'keywords': '', 'moddate': '2008-01-31T15:53:54-05:00', 'trapped': '', 'modDate': \"D:20080131155354-05'00'\", 'creationDate': \"D:20080131155354-05'00'\", 'page': 1}\n",
      "page_content='radially from the equator [3]. For our Janus particles in the\n",
      "stable orientation, however, the induced charge, and hence\n",
      "the ICEO ﬂow, are much stronger around the metal-coated\n",
      "hemisphere, driving the particle to move by ICEP in the\n",
      "direction of the dielectric hemisphere, normal to the elec-\n",
      "tric ﬁeld.\n",
      "Surprisingly, the moving Janus spheres appear to be\n",
      "dynamically attracted to the glass walls. While the parti-\n",
      "cles performed transverse motion they remained in stable\n",
      "trajectories, apparently within a few particle diameters of\n",
      "the top or bottom walls. The experimentally observed\n",
      "behavior is likely due to the asymmetry of the Janus\n",
      "particles, since homogenous particles are expected to\n",
      "push away from insulating walls due to ICEO ﬂows [22].\n",
      "The near-wall trajectories allowed convenient experimen-\n",
      "tal measurements of the velocity of particles moving along\n",
      "the top wall of the cell. Since Eq. (1) was derived for a\n",
      "particle in an inﬁnite ﬂuid, we mainly test the velocity\n",
      "scaling with E0, R, and electrolyte concentration, c0. We\n",
      "were not able to measure precisely the velocity of particles\n",
      "moving freely in the liquid (before encountering either\n",
      "wall) because of experimental difﬁculties with keeping\n",
      "the particles in focus and estimating the vertical compo-\n",
      "nent of their velocity.\n",
      "The data for the dependence of the particle velocity on\n",
      "the ﬁeld strength and salt concentration are plotted in\n",
      "Fig. 3. In ultrapure water and in 0.1 mM NaCl, the particle\n",
      "velocity scales as UICEP \u0002 k\u00039\"R\n",
      "64\u0001\u0005E0\n",
      "2, in accordance with\n",
      "Eq. (1). The ﬁtted coefﬁcient k \u0002 0:090 \u0007 0:002 for c0 \u0002\n",
      "0:1 mM implies \u0002 10. This value is somewhat larger\n",
      "than in prior work on ICEO ﬂow in KCl [9], but the ﬁt must\n",
      "be corrected for wall interactions, which reduce the ICEP\n",
      "velocity (see below). With increasing NaCl concentration,\n",
      "the ﬁeld scaling displays an apparent offset for a critical\n",
      "ﬁeld required to drive the motion, which is not predicted by\n",
      "the theory. More importantly, the ICEP velocity decreases\n",
      "rapidly as the electrolyte concentration is gradually in-\n",
      "creased from 0.1 to 3 mM, extrapolating to zero velocity\n",
      "at approximately 10 mM. The weak concentration depen-\n",
      "dence in (1) through \u0002 /\n",
      "\u0001\u0001\u0001\u0001c0\n",
      "p\n",
      "(via the Debye length)\n",
      "cannot explain this dramatic ﬂow suppression.\n",
      "The existing ICEO theory can only be justiﬁed for dilute\n",
      "solutions at ‘‘small’’ applied voltages [4], where the in-\n",
      "duced potential drop across the diffuse layer is less than the\n",
      "thermal voltage kT=e \u0002 25 mV. It assumes that the veloc-\n",
      "ity will follow Smoluchowski’s formula for electro-\n",
      "osmotic slip mobility,\n",
      " us \u0002 \u0001 \"\u0004\u0003E\u0005E\n",
      "\u0001\n",
      ";\n",
      "(2)\n",
      "where \u0004\u0003E\u0005 is the (induced) potential drop  at the no-slip\n",
      "plane, relative to the neutral bulk solution just outside the\n",
      "double layer. For the 5:7 \u0003m particles, the background\n",
      "voltage Vb \u0002 ER across each hemisphere varies from\n",
      "1.33 to 3:55 kT=e, so our experiments probe the transition\n",
      "to ‘‘large’’ applied voltages. The functional dependence of\n",
      "such ICEO ﬂows on the induced double-layer voltage has\n",
      "been recently expressed by Bazant et al. considering steric\n",
      "effects of counterion crowding [23]. The ICEP velocity of\n",
      "the 5:7 \u0003m Janus particles decayed at NaCl concentrations\n",
      "above 0.1 mM (Fig. 3). The critical concentration where\n",
      "the velocity extrapolates to zero is remarkably small,\n",
      "cmax 10 mM. Similar strong concentration dependence\n",
      "FIG. 3.\n",
      "Velocity of 5:7 \u0003m Janus particles as a function of\n",
      "electric ﬁeld intensity squared (E0\n",
      "2) for various NaCl concen-\n",
      "trations at 1 kHz. The linear ﬁts generally agree with the\n",
      "experimental values for low intensities and start deviating for\n",
      "E0 > 280 V=cm.\n",
      "FIG. 4.\n",
      "Average velocity of different size particles as a func-\n",
      "tion of their average diameter at 300 V=cm in 0.1 mM NaCl at a\n",
      "ﬁeld frequency of 1 kHz. The data points were obtained by\n",
      "determining the velocity of 286 particles grouped by diameters\n",
      "within a 1:5 \u0003m range. The line is a ﬁt to Eq. (1) described in the\n",
      "main text.\n",
      "PRL 100, 058302 (2008)\n",
      "P H Y S I C A L\n",
      "R E V I E W\n",
      "L E T T E R S\n",
      "week ending\n",
      "8 FEBRUARY 2008\n",
      "058302-3' metadata={'producer': 'Acrobat Distiller 6.0.1 (Windows)', 'creator': '3B2 Total Publishing System 8.07g/W', 'creationdate': '2008-01-31T15:53:54-05:00', 'source': '../data/raw/files/417/Gangwal et al. - 2008 - Induced-Charge Electrophoresis of Metallodielectri.pdf', 'file_path': '../data/raw/files/417/Gangwal et al. - 2008 - Induced-Charge Electrophoresis of Metallodielectri.pdf', 'total_pages': 4, 'format': 'PDF 1.4', 'title': 'untitled', 'author': '', 'subject': '', 'keywords': '', 'moddate': '2008-01-31T15:53:54-05:00', 'trapped': '', 'modDate': \"D:20080131155354-05'00'\", 'creationDate': \"D:20080131155354-05'00'\", 'page': 2}\n",
      "page_content='has been observed in microﬂuidic pumping by ac electro-\n",
      "osmosis [24], but we are not aware of any prior observation\n",
      "in colloids. It might be a universal feature of ICEO ﬂows\n",
      "[23].\n",
      "We also investigated the dependence of the ICEP veloc-\n",
      "ity on the ac ﬁeld frequency. ICEO ﬂows around polar-\n",
      "izable objects persist only in a certain band of driving\n",
      "frequencies, \u0005\u00011\n",
      "e\n",
      "\t ! \t \u0005\u00011\n",
      "p\n",
      "[4]. The upper limit is set\n",
      "by the characteristic ‘‘RC time’’ \u0005p \u0002 \u0006R\n",
      "D for the formation\n",
      "of the induced screening cloud on the particle, where \u0006 is\n",
      "the Debye length and D is the ion diffusion coefﬁcient. The\n",
      "lower limit is set by the analogous charging time of the\n",
      "electrodes, \u0005e \u0002 \u0006L\n",
      "D , where 2L is the electrode separation.\n",
      "The estimated upper and lower characteristic frequencies\n",
      "for this experiment are \u0005\u00011\n",
      "e\n",
      "\b 20 Hz and \u0005\u00011\n",
      "p\n",
      "\b 12 kHz.\n",
      "The particle velocities measured indeed decreased when\n",
      "approaching both characteristic frequencies (supplemen-\n",
      "tary Fig. 1 [21]). Finally, we characterized the dependence\n",
      "of the ICEP velocity on particle size. At E0 \u0002 300 V=cm,\n",
      "c0 \u0002 0:1 mM, and !\u0005p \n",
      " 1 the average velocity in-\n",
      "creases roughly linearly with particle diameter at small\n",
      "sizes but seems to reach a constant value around 8 \u0003m\n",
      "(Fig. 4), which corresponds to an induced voltage E0R \u0002\n",
      "0:24 V 10 kT=e, well into the nonlinear regime. The\n",
      "linear ﬁt from Eq. (1) yields k \u0002 0:073 \u0007 0:002 or \u0002\n",
      "12, which is consistent with the ﬁt of \u0002 10 obtained from\n",
      "the E0\n",
      "2 scaling in Fig. 3.\n",
      "The strong ICEP effect observed here is in semiquanti-\n",
      "tative agreement with the theory. The results for velocity\n",
      "for low electrolyte concentrations are consistent with the\n",
      "scalings of Eq. (1), though smaller by up to an order of\n",
      "magnitude k\u00011 \u0002 11–13 (for \u0002 \u0002 0). The smaller veloc-\n",
      "ities are likely a result of wall-particle interactions. The\n",
      "Janus particles motion in stable near-wall trajectories may\n",
      "be due to tilting of the dielectric hemisphere to face the\n",
      "wall, caused by asymmetric ICEO ﬂow [25]. If double-\n",
      "layer repulsion between latex and glass is present, the\n",
      "model yielding Eq. (1) can predict ICEP translation at tilt\n",
      "angles up to 45\u000b and at velocities30% smaller than in the\n",
      "bulk, in which case the experimental data can be ﬁt with\n",
      "\u0002 \u0002 7. Indications of tilting can be seen in the experiment,\n",
      "but detecting and measuring small tilt angles from the\n",
      "images is not possible. Other effects may be present as\n",
      "well. Complex ICEO (electrohydrodynamic) ﬂows on elec-\n",
      "trodes are known to attract particles and drive their self-\n",
      "assembly [26,27], but their importance in this different\n",
      "geometry is yet to be evaluated.\n",
      "In summary, we demonstrated that metallodielectric\n",
      "Janus particles move perpendicular to a uniform ac electric\n",
      "ﬁeld as a result of induced-charge electrophoretic force.\n",
      "This is, to our knowledge, the ﬁrst report of this fascinating\n",
      "phenomenon that can now guide further development of\n",
      "the theory. The propelling metallodielectric particles could\n",
      "eventually be used as microscopic mixers, ‘‘shuttles,’’ self-\n",
      "propelling on-chip sensors, microactuators and microsen-\n",
      "sors in MEMS devices, optoelectronic devices or for sep-\n",
      "arations in microﬂuidic devices.\n",
      "This research was supported by an NSF-NIRT grant and\n",
      "Camille\n",
      "and\n",
      "Henry\n",
      "Dreyfus\n",
      "Teacher-Scholar\n",
      "grant\n",
      "(NCSU) and by the U.S. Army through the Institute for\n",
      "Soldier Nanotechnologies (ARO contract No. DAAD-19-\n",
      "02-0002, MIT).\n",
      "*odvelev@unity.ncsu.edu\n",
      "[1] V. A. Murtsovkin, Colloid J. 58, 341 (1996).\n",
      "[2] N. I. Gamayunov, V. A. Murtsovkin, and A. S. Dukhin,\n",
      "Colloid J. USSR 48, 197 (1986).\n",
      "[3] M. Z. Bazant and T. M. Squires, Phys. Rev. Lett. 92,\n",
      "066101 (2004).\n",
      "[4] T. M. Squires and M. Z. Bazant, J. Fluid Mech. 509, 217\n",
      "(2004).\n",
      "[5] A. Ramos, H. Morgan, N. G. Green, and A. Castellanos,\n",
      "J. Phys. D 31, 2338 (1998).\n",
      "[6] A. Ajdari, Phys. Rev. E 61, R45 (2000).\n",
      "[7] T. M. Squires and M. Z. Bazant, J. Fluid Mech. 560, 65\n",
      "(2006).\n",
      "[8] A. Ramos, H. Morgan, N. G. Green, and A. Castellanos,\n",
      "J. Colloid Interface Sci. 217, 420 (1999).\n",
      "[9] J. A. Levitan, S. Devasenathipathy, V. Studer, Y. Ben,\n",
      "T. Thorsen, T. M. Squires, and M. Z. Bazant, Colloids\n",
      "Surf. A, 267, 122 (2005).\n",
      "[10] V. A. Murtsovkin and G. I. Mantrov, Colloid J. USSR 52,\n",
      "933 (1990).\n",
      "[11] E. Yariv, Phys. Fluids 17, 051702 (2005).\n",
      "[12] D. E. Saintillan, E. Darve, and E. S. G. Shaqfeh, J. Fluid\n",
      "Mech. 563, 223 (2006).\n",
      "[13] O. D. Velev, A. M. Lenhoff, and E. W. Kaler, Science 287,\n",
      "2240 (2000).\n",
      "[14] O. Cayre, V. N. Paunov, and O. D. Velev, J. Mater. Chem.\n",
      "13, 2445 (2003).\n",
      "[15] Z. Nie, W. Li, M. Seo, S. Xu, and E. J. Kumacheva, J. Am.\n",
      "Chem. Soc. 128, 9408 (2006).\n",
      "[16] K. Roh, D. C. Martin, and J. Lahann, Nat. Mater. 4, 759\n",
      "(2005).\n",
      "[17] S. C. Glotzer and M. J. Soloman, Nat. Mater. 6, 557\n",
      "(2007).\n",
      "[18] H. Takei and N. Shimizu, Langmuir 13, 1865 (1997).\n",
      "[19] V. N. Paunov and O. J. Cayre, Adv. Mater. 16, 788 (2004).\n",
      "[20] B. G. Prevo and O. D. Velev, Langmuir 20, 2099 (2004).\n",
      "[21] See EPAPS Document No. E-PRLTAO-100-007806 for\n",
      "supplementary movies and ﬁgures. For more information\n",
      "on EPAPS, see http://www.aip.org/pubservs/epaps.html.\n",
      "[22] H. Zhao and H. H. Bau, Langmuir 23, 4053 (2007).\n",
      "[23] M. Z. Bazant, M. S. Kilic, B. Storey, and A. Ajdari,\n",
      "arXiv:cond-mat/0703035.\n",
      "[24] V. Studer, A. Pe´pin, Y. Chen, and A. Ajdari, Analyst 129,\n",
      "944 (2004).\n",
      "[25] M. S. Kilic and M. Z. Bazant, arXiv:0712.0453.\n",
      "[26] M. Trau, D. A. Saville, and I. A. Aksay, Science 272, 706\n",
      "(1996).\n",
      "[27] W. D. Ristenpart, I. A. Aksay, and D. A. Saville, J. Fluid\n",
      "Mech. 575, 83 (2007).\n",
      "PRL 100, 058302 (2008)\n",
      "P H Y S I C A L\n",
      "R E V I E W\n",
      "L E T T E R S\n",
      "week ending\n",
      "8 FEBRUARY 2008\n",
      "058302-4' metadata={'producer': 'Acrobat Distiller 6.0.1 (Windows)', 'creator': '3B2 Total Publishing System 8.07g/W', 'creationdate': '2008-01-31T15:53:54-05:00', 'source': '../data/raw/files/417/Gangwal et al. - 2008 - Induced-Charge Electrophoresis of Metallodielectri.pdf', 'file_path': '../data/raw/files/417/Gangwal et al. - 2008 - Induced-Charge Electrophoresis of Metallodielectri.pdf', 'total_pages': 4, 'format': 'PDF 1.4', 'title': 'untitled', 'author': '', 'subject': '', 'keywords': '', 'moddate': '2008-01-31T15:53:54-05:00', 'trapped': '', 'modDate': \"D:20080131155354-05'00'\", 'creationDate': \"D:20080131155354-05'00'\", 'page': 3}\n"
     ]
    }
   ],
   "source": [
    "loader = PyMuPDFLoader(\n",
    "    \"../data/raw/files/417/Gangwal et al. - 2008 - Induced-Charge Electrophoresis of Metallodielectri.pdf\"\n",
    ")\n",
    "doc = loader.load()\n",
    "# Display the entire PDF\n",
    "for page in doc:\n",
    "    print(page)"
   ]
  },
  {
   "cell_type": "code",
   "execution_count": 12,
   "id": "06ec8574",
   "metadata": {},
   "outputs": [
    {
     "data": {
      "text/plain": [
       "{'producer': 'Acrobat Distiller 6.0.1 (Windows)',\n",
       " 'creator': '3B2 Total Publishing System 8.07g/W',\n",
       " 'creationdate': '2008-01-31T15:53:54-05:00',\n",
       " 'source': '../data/raw/files/417/Gangwal et al. - 2008 - Induced-Charge Electrophoresis of Metallodielectri.pdf',\n",
       " 'file_path': '../data/raw/files/417/Gangwal et al. - 2008 - Induced-Charge Electrophoresis of Metallodielectri.pdf',\n",
       " 'total_pages': 4,\n",
       " 'format': 'PDF 1.4',\n",
       " 'title': 'untitled',\n",
       " 'author': '',\n",
       " 'subject': '',\n",
       " 'keywords': '',\n",
       " 'moddate': '2008-01-31T15:53:54-05:00',\n",
       " 'trapped': '',\n",
       " 'modDate': \"D:20080131155354-05'00'\",\n",
       " 'creationDate': \"D:20080131155354-05'00'\",\n",
       " 'page': 0}"
      ]
     },
     "execution_count": 12,
     "metadata": {},
     "output_type": "execute_result"
    }
   ],
   "source": [
    "doc[0].metadata"
   ]
  },
  {
   "cell_type": "markdown",
   "id": "8d5b1b02",
   "metadata": {},
   "source": [
    "Loading all the PDF files in a directory and splitting each of them into chunks. "
   ]
  },
  {
   "cell_type": "code",
   "execution_count": 2,
   "id": "09790a06",
   "metadata": {},
   "outputs": [
    {
     "name": "stdout",
     "output_type": "stream",
     "text": [
      "Total PDF files found: 286\n"
     ]
    }
   ],
   "source": [
    "# Loop through all folders in the specified directory\n",
    "root_dir = \"../data/raw/files\"  # Change to your target directory\n",
    "file_count = 0\n",
    "\n",
    "# Initialize the text splitter\n",
    "text_splitter = RecursiveCharacterTextSplitter(\n",
    "    chunk_size=1500, chunk_overlap=50  # or 1000 depending on your LLM\n",
    ")\n",
    "\n",
    "split_docs = []\n",
    "\n",
    "for dirpath, dirnames, filenames in os.walk(root_dir):\n",
    "    for filename in filenames:\n",
    "        if filename.lower().endswith(\".pdf\"):\n",
    "            pdf_path = os.path.join(dirpath, filename)\n",
    "            loader = PyMuPDFLoader(pdf_path)\n",
    "            doc = loader.load()\n",
    "            chunks = text_splitter.split_documents(doc)\n",
    "            split_docs.extend(chunks)\n",
    "            file_count += 1\n",
    "\n",
    "print(f\"Total PDF files found: {file_count}\")"
   ]
  },
  {
   "cell_type": "markdown",
   "id": "ab18115d",
   "metadata": {},
   "source": [
    "Configuring the Embedding model e5-base-v2.  "
   ]
  },
  {
   "cell_type": "code",
   "execution_count": 2,
   "id": "b888f852",
   "metadata": {},
   "outputs": [
    {
     "name": "stderr",
     "output_type": "stream",
     "text": [
      "/tmp/ipykernel_3725048/542832890.py:2: LangChainDeprecationWarning: The class `HuggingFaceEmbeddings` was deprecated in LangChain 0.2.2 and will be removed in 1.0. An updated version of the class exists in the :class:`~langchain-huggingface package and should be used instead. To use it run `pip install -U :class:`~langchain-huggingface` and import as `from :class:`~langchain_huggingface import HuggingFaceEmbeddings``.\n",
      "  embedding_model = HuggingFaceEmbeddings(\n",
      "/home/sfnavas-f/Projects/doc_chat/.venv/lib/python3.13/site-packages/tqdm/auto.py:21: TqdmWarning: IProgress not found. Please update jupyter and ipywidgets. See https://ipywidgets.readthedocs.io/en/stable/user_install.html\n",
      "  from .autonotebook import tqdm as notebook_tqdm\n"
     ]
    }
   ],
   "source": [
    "# Embed the text content in split_docs\n",
    "embedding_model = HuggingFaceEmbeddings(\n",
    "    model_name=\"intfloat/e5-base-v2\",\n",
    "    model_kwargs={\"device\": \"cuda\" if torch.cuda.is_available() else \"cpu\"},\n",
    "    encode_kwargs={\"normalize_embeddings\": True},\n",
    ")"
   ]
  },
  {
   "cell_type": "markdown",
   "id": "68bc3d75",
   "metadata": {},
   "source": [
    "Compute the embeddings in memory. "
   ]
  },
  {
   "cell_type": "code",
   "execution_count": null,
   "id": "39010197",
   "metadata": {},
   "outputs": [],
   "source": [
    "embeddings = []\n",
    "for doc in tqdm(split_docs, desc=\"Embedding documents\"):\n",
    "    emb = embedding_model.embed_documents([doc.page_content])\n",
    "    embeddings.append(emb)"
   ]
  },
  {
   "cell_type": "markdown",
   "id": "2e2b5e8f",
   "metadata": {},
   "source": [
    "Compute the embeddings as a ChromaDB and store them as a Chroma VectorDB locally. "
   ]
  },
  {
   "cell_type": "code",
   "execution_count": null,
   "id": "4cf6f5a9",
   "metadata": {},
   "outputs": [],
   "source": [
    "# Compute the embeddings and store it into a FAISS vector store\n",
    "vectorstore = Chroma.from_documents(\n",
    "    split_docs,\n",
    "    embedding_model,\n",
    "    persist_directory=\"../data/doc_vectordb\",\n",
    ")"
   ]
  },
  {
   "cell_type": "markdown",
   "id": "69854bd0",
   "metadata": {},
   "source": [
    "Load an existing, local Chroma Vector DB."
   ]
  },
  {
   "cell_type": "code",
   "execution_count": 3,
   "id": "0a2f9618",
   "metadata": {},
   "outputs": [
    {
     "name": "stderr",
     "output_type": "stream",
     "text": [
      "/tmp/ipykernel_3725048/360242083.py:2: LangChainDeprecationWarning: The class `Chroma` was deprecated in LangChain 0.2.9 and will be removed in 1.0. An updated version of the class exists in the :class:`~langchain-chroma package and should be used instead. To use it run `pip install -U :class:`~langchain-chroma` and import as `from :class:`~langchain_chroma import Chroma``.\n",
      "  vectorstore = Chroma(\n"
     ]
    }
   ],
   "source": [
    "# Load the vector store\n",
    "vectorstore = Chroma(\n",
    "    persist_directory=\"../data/doc_vectordb\",\n",
    "    embedding_function=embedding_model,\n",
    ")"
   ]
  },
  {
   "cell_type": "markdown",
   "id": "50b3c92c",
   "metadata": {},
   "source": [
    "## Retrieval "
   ]
  },
  {
   "cell_type": "markdown",
   "id": "02ae8f38",
   "metadata": {},
   "source": [
    "Configuring the retriever on the vectorstore object. "
   ]
  },
  {
   "cell_type": "code",
   "execution_count": 4,
   "id": "80437db1",
   "metadata": {},
   "outputs": [],
   "source": [
    "retriever = vectorstore.as_retriever(search_kwargs={\"k\": 3})"
   ]
  },
  {
   "cell_type": "markdown",
   "id": "61ca4323",
   "metadata": {},
   "source": [
    "Checking the retriver. "
   ]
  },
  {
   "cell_type": "code",
   "execution_count": 21,
   "id": "b112c87f",
   "metadata": {},
   "outputs": [
    {
     "name": "stderr",
     "output_type": "stream",
     "text": [
      "/home/sfnavas-f/Projects/doc_chat/.venv/lib/python3.13/site-packages/torch/nn/modules/module.py:1762: FutureWarning: `encoder_attention_mask` is deprecated and will be removed in version 4.55.0 for `BertSdpaSelfAttention.forward`.\n",
      "  return forward_call(*args, **kwargs)\n"
     ]
    },
    {
     "data": {
      "text/plain": [
       "'self-assembly are one-dimensional (1D) chains,9–13 2D- and 3D-\\ncrystals9,12–15 as well as sheet- and membrane-like structures16,17\\nformed by polarizable (superparamagnetic) particles in electric\\n(magnetic) \\ue103elds. Microscopically, all of these structures origi-\\nnate from the \\ue103eld-induced, anisotropic dipole–dipole interac-\\ntions and their interplay with the external \\ue103eld. The resulting\\nstructural eﬀects have been extensively studied by theory (see\\ne.g., ref. 18–21) and simulations (see e.g., ref. 10, 22 and 23).\\nCompared to the structures formed by “simple” particles\\nwith permanent or induced dipole moments, our theoretical\\nunderstanding of (\\ue103eld-driven) assembly of particles with\\nmultipolar interactions is in its infancy.24 This is in contrast to\\nthe signi\\ue103cant experimental progress that has been made in\\nsynthesizing novel colloidal particles with tunable directional\\ninteractions. If such systems are, in addition, susceptible to an\\nexternal \\ue103eld, new and unexpected structures can be formed. A\\nprime\\nexample\\nis\\nthe\\nassembly\\nof\\nJanus\\nand\\npatchy\\nmetallodielectric particles25 recently characterized by one of us\\nusing optical microscopy.26 Due to induced multipolar (rather\\nthan dipolar) interactions which are frequency-dependent, such\\nmetallodielectric particles can form not only \\ue103eld-aligned\\nchains but also chains and long clusters perpendicular to the\\n\\ue103eld.26 In other words, a uniaxial electric \\ue103eld induces here a 2D'"
      ]
     },
     "execution_count": 21,
     "metadata": {},
     "output_type": "execute_result"
    }
   ],
   "source": [
    "docs = retriever.get_relevant_documents(\n",
    "    \"What are some explaes of anisotropic self-assembly?\"\n",
    ")\n",
    "docs[0].page_content"
   ]
  },
  {
   "cell_type": "markdown",
   "id": "b1c27d23",
   "metadata": {},
   "source": [
    "# LangChain"
   ]
  },
  {
   "cell_type": "markdown",
   "id": "5a58a15b",
   "metadata": {},
   "source": [
    "Configuring a prompt template using LangChain"
   ]
  },
  {
   "cell_type": "code",
   "execution_count": 5,
   "id": "14fdcdcd",
   "metadata": {},
   "outputs": [
    {
     "data": {
      "text/plain": [
       "ChatPromptTemplate(input_variables=['context', 'question'], input_types={}, partial_variables={}, messages=[HumanMessagePromptTemplate(prompt=PromptTemplate(input_variables=['context', 'question'], input_types={}, partial_variables={}, template='Answer the question based only on the following context:\\n{context}\\n\\nQuestion: {question}\\n'), additional_kwargs={})])"
      ]
     },
     "execution_count": 5,
     "metadata": {},
     "output_type": "execute_result"
    }
   ],
   "source": [
    "from langchain.prompts import ChatPromptTemplate\n",
    "\n",
    "# Prompt\n",
    "template = \"\"\"Answer the question based only on the following context:\n",
    "{context}\n",
    "\n",
    "Question: {question}\n",
    "\"\"\"\n",
    "\n",
    "prompt = ChatPromptTemplate.from_template(template)\n",
    "prompt"
   ]
  },
  {
   "cell_type": "markdown",
   "id": "5d1ecbdb",
   "metadata": {},
   "source": [
    "Setting up a locally running LLM using Ollama."
   ]
  },
  {
   "cell_type": "code",
   "execution_count": 7,
   "id": "5e224a1e",
   "metadata": {},
   "outputs": [
    {
     "name": "stderr",
     "output_type": "stream",
     "text": [
      "/tmp/ipykernel_3725048/3711433035.py:6: LangChainDeprecationWarning: The class `ChatOllama` was deprecated in LangChain 0.3.1 and will be removed in 1.0.0. An updated version of the class exists in the :class:`~langchain-ollama package and should be used instead. To use it run `pip install -U :class:`~langchain-ollama` and import as `from :class:`~langchain_ollama import ChatOllama``.\n",
      "  llm = ChatOllama(model=\"qwen3:8b\", base_url=\"http://localhost:11434\", streaming=True)\n"
     ]
    }
   ],
   "source": [
    "# LLM\n",
    "from langchain_community.chat_models import ChatOllama\n",
    "from fastapi.responses import StreamingResponse\n",
    "\n",
    "\n",
    "llm = ChatOllama(model=\"qwen3:8b\", base_url=\"http://localhost:11434\", streaming=True)"
   ]
  },
  {
   "cell_type": "markdown",
   "id": "6995ced3",
   "metadata": {},
   "source": [
    "A basic LangChain combining a prompt to an LLM. Retrieval is performed above (separately). "
   ]
  },
  {
   "cell_type": "code",
   "execution_count": null,
   "id": "ba259df0",
   "metadata": {},
   "outputs": [],
   "source": [
    "# Chain\n",
    "chain = prompt | llm\n",
    "\n",
    "# Run\n",
    "chain.invoke(\n",
    "    {\n",
    "        \"context\": docs,\n",
    "        \"question\": \"What are some examples of anisotropic self-assembly?\",\n",
    "    }\n",
    ")"
   ]
  },
  {
   "cell_type": "markdown",
   "id": "2e833de0",
   "metadata": {},
   "source": [
    "Sample RAG prompts can also be imported from LangChain hub. "
   ]
  },
  {
   "cell_type": "code",
   "execution_count": null,
   "id": "3f6817b6",
   "metadata": {},
   "outputs": [],
   "source": [
    "# Sample RAG prompt from LangChain Hub\n",
    "from langchain import hub\n",
    "\n",
    "prompt_hub_rag = hub.pull(\"rlm/rag-prompt\")\n",
    "prompt_hub_rag"
   ]
  },
  {
   "cell_type": "markdown",
   "id": "68c211fb",
   "metadata": {},
   "source": [
    "Chain combining Retrieval (happening internally now) and the generation. "
   ]
  },
  {
   "cell_type": "code",
   "execution_count": 8,
   "id": "afd8dd27",
   "metadata": {},
   "outputs": [
    {
     "name": "stderr",
     "output_type": "stream",
     "text": [
      "/home/sfnavas-f/Projects/doc_chat/.venv/lib/python3.13/site-packages/torch/nn/modules/module.py:1762: FutureWarning: `encoder_attention_mask` is deprecated and will be removed in version 4.55.0 for `BertSdpaSelfAttention.forward`.\n",
      "  return forward_call(*args, **kwargs)\n"
     ]
    },
    {
     "data": {
      "text/plain": [
       "'<think>\\nOkay, let\\'s try to figure out what the answer is. The user is asking, \"What are colloidal particles?\" and they want me to answer based only on the provided context.\\n\\nFirst, I need to look through the given documents to find relevant information. Let me start by scanning each document\\'s page content.\\n\\nThe first document mentions colloidal particles in the context of their interactions. It talks about particles coated with polymers, like spherical silica particles. It also discusses hydrodynamic interactions and direct interactions between colloidal particles. However, it doesn\\'t give a clear definition of what colloidal particles are, just their properties and interactions.\\n\\nThe second document is about colloidal self-assembly and mentions colloidal particles in various contexts, like Janus particles and their behavior under light. Again, it\\'s more about their interactions and applications rather than defining them.\\n\\nThe third document refers to colloidal particles in the context of structures formed with water fractions, like micelles and emulsion droplets. It also mentions colloidosomes of Pickering emulsions. But again, it\\'s about the structures they form, not their definition.\\n\\nLooking through all the provided text, none of the documents explicitly define colloidal particles. They discuss interactions, behaviors, and applications but not the fundamental definition. However, there\\'s a mention in the first document that colloidal particles are \"large in comparison to the size of the solvent molecules,\" which is a key characteristic. Also, the context talks about their motion being affected by hydrodynamic interactions, implying they are suspended in a fluid.\\n\\nPutting that together, even though the documents don\\'t directly state the definition, they do mention that colloidal particles are larger than solvent molecules and interact with the fluid, which is a common characteristic. Since the user wants the answer based only on the context provided, I can infer that colloidal particles are particles suspended in a fluid, larger than the solvent molecules, and their motion is influenced by hydrodynamic interactions. However, the exact definition isn\\'t directly given, so I need to make sure I don\\'t add external knowledge. The answer should be based strictly on the context provided.\\n</think>\\n\\nThe provided context does not explicitly define colloidal particles. However, it describes their characteristics and interactions, such as:  \\n- Being **larger than solvent molecules** (e.g., \"colloidal particles are large in comparison to the size of the solvent molecules\").  \\n- Exhibiting **hydrodynamic interactions** with the surrounding fluid, which influence their Brownian motion.  \\n- Forming structures like micelles, emulsion droplets, or colloidosomes under specific conditions (e.g., varying water fractions).  \\n\\nWhile the documents focus on interactions and behaviors rather than a formal definition, colloidal particles are implicitly described as **suspended particles in a fluid** with distinct size and dynamic properties.'"
      ]
     },
     "execution_count": 8,
     "metadata": {},
     "output_type": "execute_result"
    }
   ],
   "source": [
    "from langchain_core.output_parsers import StrOutputParser\n",
    "from langchain_core.runnables import RunnablePassthrough, RunnableLambda\n",
    "\n",
    "rag_chain = (\n",
    "    {\"context\": retriever, \"question\": RunnablePassthrough()}\n",
    "    | prompt\n",
    "    | llm\n",
    "    | StrOutputParser()  # Parse the LLM output into a string\n",
    ")\n",
    "\n",
    "rag_chain.invoke(\"What are colloidal particles?\")"
   ]
  },
  {
   "cell_type": "markdown",
   "id": "dfa17126",
   "metadata": {},
   "source": [
    "Text output streaming. "
   ]
  },
  {
   "cell_type": "code",
   "execution_count": null,
   "id": "087aa4c4",
   "metadata": {},
   "outputs": [],
   "source": [
    "question = \"\"\n",
    "\n",
    "response = \"\"\n",
    "for chunk in rag_chain.stream(question):\n",
    "    text = chunk.content if hasattr(chunk, \"content\") else str(chunk)\n",
    "    print(text, end=\"\", flush=True)  # ✅ Print as it streams\n",
    "    response += text"
   ]
  },
  {
   "cell_type": "markdown",
   "id": "3918a458",
   "metadata": {},
   "source": [
    "Basic gradio interface implementation."
   ]
  },
  {
   "cell_type": "code",
   "execution_count": null,
   "id": "43a39c74",
   "metadata": {},
   "outputs": [],
   "source": [
    "import gradio as gr\n",
    "\n",
    "\n",
    "def rag_qa(user_question):\n",
    "    try:\n",
    "        answer = rag_chain.invoke(user_question)\n",
    "        return answer\n",
    "    except Exception as e:\n",
    "        return f\"❌ Error: {str(e)}\"\n",
    "\n",
    "\n",
    "demo = gr.Interface(\n",
    "    fn=rag_qa,\n",
    "    inputs=gr.Textbox(label=\"Ask a question about your PDFs\"),\n",
    "    outputs=gr.Textbox(label=\"LLM Answer\"),\n",
    "    title=\"📄 Scientific PDF Chatbot\",\n",
    "    description=\"Ask any question based on your local documents. Powered by RAG + Qwen3:8B\",\n",
    ")\n",
    "\n",
    "demo.launch(share=True, inline=False, inbrowser=False)"
   ]
  },
  {
   "cell_type": "markdown",
   "id": "121eb917",
   "metadata": {},
   "source": [
    "Complicated prompt for continued chats. "
   ]
  },
  {
   "cell_type": "code",
   "execution_count": null,
   "id": "758e6059",
   "metadata": {},
   "outputs": [],
   "source": [
    "from langchain.schema import SystemMessage, HumanMessage, AIMessage\n",
    "from langchain.prompts import ChatPromptTemplate, MessagesPlaceholder\n",
    "from langchain.prompts.chat import HumanMessagePromptTemplate\n",
    "\n",
    "messages = [\n",
    "    MessagesPlaceholder(variable_name=\"history\"),\n",
    "    SystemMessage(\n",
    "        content=\"You are a helpful scientific assistant. Answer using only the context provided.\"\n",
    "    ),\n",
    "    HumanMessagePromptTemplate.from_template(\n",
    "        \"Context:\\n{context}\\n\\nQuestion: {question}\"\n",
    "    ),\n",
    "]\n",
    "\n",
    "prompt = ChatPromptTemplate.from_messages(messages)"
   ]
  },
  {
   "cell_type": "code",
   "execution_count": 47,
   "id": "4cbe4792",
   "metadata": {},
   "outputs": [
    {
     "name": "stderr",
     "output_type": "stream",
     "text": [
      "/home/sfnavas-f/Projects/doc_chat/.venv/lib/python3.13/site-packages/torch/nn/modules/module.py:1762: FutureWarning: `encoder_attention_mask` is deprecated and will be removed in version 4.55.0 for `BertSdpaSelfAttention.forward`.\n",
      "  return forward_call(*args, **kwargs)\n"
     ]
    }
   ],
   "source": [
    "from langchain_core.runnables import RunnableLambda, RunnableMap\n",
    "\n",
    "\n",
    "# Update the RAG chain\n",
    "rag_chain = (\n",
    "    {\n",
    "        \"history\": RunnableLambda(lambda x: (x[\"history\"])),\n",
    "        \"context\": RunnableLambda(\n",
    "            lambda x: retriever.get_relevant_documents(x[\"question\"])\n",
    "        ),\n",
    "        \"question\": RunnableLambda(lambda x: (x[\"question\"])),\n",
    "    }\n",
    "    | prompt\n",
    "    | llm\n",
    "    | StrOutputParser()\n",
    ")\n",
    "\n",
    "\n",
    "response = rag_chain.invoke(\n",
    "    {\n",
    "        \"question\": \"What are colloidal particles?\",\n",
    "        \"history\": [],  # or previous conversation as LangChain messages\n",
    "    }\n",
    ")"
   ]
  },
  {
   "cell_type": "code",
   "execution_count": 48,
   "id": "7ed14700",
   "metadata": {},
   "outputs": [
    {
     "data": {
      "text/plain": [
       "'<think>\\nOkay, the user is asking, \"What are colloidal particles?\" Let me check the provided context to find the answer.\\n\\nLooking at the first document, there\\'s a mention of colloidal particles in the context of dynamics. It says, \"colloidal particles are large in comparison to the size of the solvent molecules,\" which implies they\\'re larger than solvent molecules but still small enough to be suspended. The text also talks about hydrodynamic interactions, which are interactions mediated through the solvent. \\n\\nIn the second document, there\\'s a reference to colloidal particles in the context of self-assembly, mentioning Janus particles and their behavior. The third document discusses colloidosomes and structures formed with colloidal particles, like micelles and emulsion droplets. \\n\\nPutting this together, colloidal particles are small particles suspended in a fluid, larger than molecules but small enough to remain dispersed. They interact via direct potential interactions and hydrodynamic interactions. The examples given include things like silica particles, Janus particles, and colloidosomes. The key points are their size relative to the solvent, their suspension in a medium, and the types of interactions they undergo.\\n</think>\\n\\nColloidal particles are small particles suspended in a fluid medium, typically larger than individual molecules but small enough to remain dispersed and not settle under gravity. They are characterized by their size (much larger than solvent molecules) and their ability to interact via **direct potential interactions** (e.g., electrostatic, van der Waals forces) and **hydrodynamic interactions** (mediated through the surrounding fluid). These particles can form complex structures, such as micelles, worm-like micelles, or colloidosomes, and exhibit unique dynamic behaviors, including Brownian motion and self-assembly. Examples include spherical silica particles, Janus particles (asymmetric particles with distinct surface properties), and colloidal systems in emulsions. Their interactions with the solvent and other particles are critical in determining their collective dynamics and phase behavior.'"
      ]
     },
     "execution_count": 48,
     "metadata": {},
     "output_type": "execute_result"
    }
   ],
   "source": [
    "response"
   ]
  },
  {
   "cell_type": "code",
   "execution_count": 64,
   "id": "62e8bd2e",
   "metadata": {},
   "outputs": [
    {
     "name": "stdout",
     "output_type": "stream",
     "text": [
      "* Running on local URL:  http://127.0.0.1:7877\n",
      "* Running on public URL: https://0cd97ed4c2e84c7b11.gradio.live\n",
      "\n",
      "This share link expires in 1 week. For free permanent hosting and GPU upgrades, run `gradio deploy` from the terminal in the working directory to deploy to Hugging Face Spaces (https://huggingface.co/spaces)\n"
     ]
    },
    {
     "data": {
      "text/plain": []
     },
     "execution_count": 64,
     "metadata": {},
     "output_type": "execute_result"
    },
    {
     "name": "stdout",
     "output_type": "stream",
     "text": [
      "Gradio history: []\n"
     ]
    },
    {
     "name": "stderr",
     "output_type": "stream",
     "text": [
      "/home/sfnavas-f/Projects/doc_chat/.venv/lib/python3.13/site-packages/torch/nn/modules/module.py:1762: FutureWarning: `encoder_attention_mask` is deprecated and will be removed in version 4.55.0 for `BertSdpaSelfAttention.forward`.\n",
      "  return forward_call(*args, **kwargs)\n"
     ]
    },
    {
     "name": "stdout",
     "output_type": "stream",
     "text": [
      "Gradio history: [{'role': 'user', 'metadata': None, 'content': 'List some works by Sabine Klapp', 'options': None}, {'role': 'assistant', 'metadata': None, 'content': \"<details><summary><b>🤔 Thinking</b></summary><pre>Okay, let's see. The user is asking for works by Sabine Klapp. I need to check the provided context to find any mentions of her. The context includes several documents. Let me go through each one.\\n\\nFirst document: It's about the Fokker-Planck equation, authored by someone else, no mention of Sabine Klapp. Second document is from Bungartz, discussing molecular dynamics simulation. The third document is another entry from Bungartz, same as the second. None of these documents mention Sabine Klapp. \\n\\nWait, maybe I missed something. Let me check again. The first document's page content lists the book title and publishers, but no author. The other two are about algorithms and molecular dynamics, authored by Bungartz. There's no mention of Sabine Klapp in any of the metadata or page content. \\n\\nSo, based on the given context, there are no works by Sabine Klapp listed. The user might have a different context in mind, but with the provided documents, I can't find any references to her. I should inform them that none of the listed works are by Sabine Klapp.</pre></details>\\n\\nBased on the provided context, there are no works listed by Sabine Klapp. The documents referenced in the context are authored by others, such as Hans-Joachim Bungartz and mention topics like the Fokker-Planck equation and molecular dynamics simulations, but none attribute works to Sabine Klapp.\", 'options': None}]\n"
     ]
    },
    {
     "name": "stderr",
     "output_type": "stream",
     "text": [
      "/home/sfnavas-f/Projects/doc_chat/.venv/lib/python3.13/site-packages/torch/nn/modules/module.py:1762: FutureWarning: `encoder_attention_mask` is deprecated and will be removed in version 4.55.0 for `BertSdpaSelfAttention.forward`.\n",
      "  return forward_call(*args, **kwargs)\n"
     ]
    },
    {
     "name": "stdout",
     "output_type": "stream",
     "text": [
      "Gradio history: [{'role': 'user', 'metadata': None, 'content': 'List some works by Sabine Klapp', 'options': None}, {'role': 'assistant', 'metadata': None, 'content': \"<details><summary><b>🤔 Thinking</b></summary><pre>Okay, let's see. The user is asking for works by Sabine Klapp. I need to check the provided context to find any mentions of her. The context includes several documents. Let me go through each one.\\n\\nFirst document: It's about the Fokker-Planck equation, authored by someone else, no mention of Sabine Klapp. Second document is from Bungartz, discussing molecular dynamics simulation. The third document is another entry from Bungartz, same as the second. None of these documents mention Sabine Klapp. \\n\\nWait, maybe I missed something. Let me check again. The first document's page content lists the book title and publishers, but no author. The other two are about algorithms and molecular dynamics, authored by Bungartz. There's no mention of Sabine Klapp in any of the metadata or page content. \\n\\nSo, based on the given context, there are no works by Sabine Klapp listed. The user might have a different context in mind, but with the provided documents, I can't find any references to her. I should inform them that none of the listed works are by Sabine Klapp.</pre></details>\\n\\nBased on the provided context, there are no works listed by Sabine Klapp. The documents referenced in the context are authored by others, such as Hans-Joachim Bungartz and mention topics like the Fokker-Planck equation and molecular dynamics simulations, but none attribute works to Sabine Klapp.\", 'options': None}, {'role': 'user', 'metadata': None, 'content': 'What about Sabine H. L. Klapp', 'options': None}, {'role': 'assistant', 'metadata': None, 'content': '<details><summary><b>🤔 Thinking</b></summary><pre>Okay, the user is asking about Sabine H. L. Klapp. Let me check the provided context again. \\n\\nLooking at the first document, the page_content mentions \"Sabine H. L. Klapp, Orlin D. Velev et al.\" in the context of a paper titled \"Multidirectional colloidal assembly in concurrent electric and magnetic fields\" published in Soft Matter in 2016. The metadata for that document lists the author as Bhuvnesh Bharti, but the page content includes Sabine H. L. Klapp as a co-author. \\n\\nThe other documents don\\'t mention Sabine H. L. Klapp. The second document has references to other authors and papers but not her. The third document is about Gaussian processes and doesn\\'t relate to her. \\n\\nSo, based on the context, Sabine H. L. Klapp is a co-author on the 2016 paper in Soft Matter. The user might be looking for more works by her, but the provided context only lists that one paper. I should mention that specific work and note that no other works are listed in the given context.</pre></details>\\n\\nBased on the provided context, **Sabine H. L. Klapp** is mentioned as a co-author in the paper **\"Multidirectional colloidal assembly in concurrent electric and magnetic fields\"** (2016), published in *Soft Matter* (volume 12, pages 7701–7874). The document lists her alongside Orlin D. Velev and others as contributors to this work. \\n\\nNo other works by Sabine H. L. Klapp are explicitly referenced in the provided context.', 'options': None}]\n"
     ]
    },
    {
     "name": "stderr",
     "output_type": "stream",
     "text": [
      "/home/sfnavas-f/Projects/doc_chat/.venv/lib/python3.13/site-packages/torch/nn/modules/module.py:1762: FutureWarning: `encoder_attention_mask` is deprecated and will be removed in version 4.55.0 for `BertSdpaSelfAttention.forward`.\n",
      "  return forward_call(*args, **kwargs)\n"
     ]
    }
   ],
   "source": [
    "import gradio as gr\n",
    "\n",
    "import re\n",
    "\n",
    "\n",
    "def split_think_and_answer(response):\n",
    "    \"\"\"Extracts text after </think>.\"\"\"\n",
    "    match = re.search(r\"</think>\\s*(.*)\", response, re.DOTALL)\n",
    "    if match:\n",
    "        return match.group(1).strip()\n",
    "    return response.strip()\n",
    "\n",
    "\n",
    "def get_thought(response):\n",
    "    \"\"\"Extracts text inside <think>...</think>.\"\"\"\n",
    "    match = re.search(r\"<think>(.*?)</think>\", response, re.DOTALL)\n",
    "    if match:\n",
    "        return match.group(1).strip()\n",
    "    return None\n",
    "\n",
    "\n",
    "def rag_qa(message, history):\n",
    "    # Convert Gradio history format to LangChain message format\n",
    "    history_langchain_format = []\n",
    "    print(\"Gradio history:\", history)\n",
    "    # Convert Gradio history (list of {\"role\": ..., \"content\": ...}) to LangChain format\n",
    "    for turn in history:\n",
    "        if turn[\"role\"] == \"user\":\n",
    "            history_langchain_format.append(HumanMessage(content=turn[\"content\"]))\n",
    "        elif turn[\"role\"] == \"assistant\":\n",
    "            history_langchain_format.append(AIMessage(content=turn[\"content\"]))\n",
    "\n",
    "    history_langchain_format.append(HumanMessage(content=message))\n",
    "\n",
    "    try:\n",
    "        # Pass both current message and history to the chain\n",
    "        response = rag_chain.invoke(\n",
    "            {\"history\": history_langchain_format, \"question\": message}\n",
    "        )\n",
    "        thought = get_thought(response)\n",
    "        final_answer = split_think_and_answer(response)\n",
    "\n",
    "        if thought:\n",
    "            # Add collapsible section with the <think> content\n",
    "            final_answer = f\"<details><summary><b>🤔 Thinking</b></summary><pre>{thought}</pre></details>\\n\\n{final_answer}\"\n",
    "        return {\"role\": \"assistant\", \"content\": final_answer}\n",
    "    except Exception as e:\n",
    "        return {\"role\": \"assistant\", \"content\": f\"❌ Error: {str(e)}\"}\n",
    "\n",
    "\n",
    "# Create and launch the chat interface with memory\n",
    "demo = gr.ChatInterface(\n",
    "    fn=rag_qa,\n",
    "    type=\"messages\",\n",
    "    title=\"📄 Scientific PDF Chatbot\",\n",
    "    description=\"Ask questions about your scientific PDFs. Powered by RAG + Qwen3:8B\",\n",
    "    examples=[\"What are colloidal particles?\", \"Tell me more about that\"],\n",
    ")\n",
    "\n",
    "demo.launch(share=True, inline=False, inbrowser=False)"
   ]
  },
  {
   "cell_type": "markdown",
   "id": "a9901370",
   "metadata": {},
   "source": [
    "## MultiQuery Generating prompts "
   ]
  },
  {
   "cell_type": "markdown",
   "id": "6a0ef2c1",
   "metadata": {},
   "source": [
    "Prompt template for retrieval multi-query generation from the users question. "
   ]
  },
  {
   "cell_type": "code",
   "execution_count": null,
   "id": "7c314a47",
   "metadata": {},
   "outputs": [],
   "source": [
    "template = \"\"\"You are an AI language model assistant. Your task is to generate five \n",
    "different versions of the given user question to retrieve relevant documents from a vector \n",
    "database. By generating multiple perspectives on the user question, your goal is to help\n",
    "the user overcome some of the limitations of the distance-based similarity search. \n",
    "Provide these alternative questions separated by newlines. Original question: {question}\"\"\""
   ]
  }
 ],
 "metadata": {
  "kernelspec": {
   "display_name": "domainmind",
   "language": "python",
   "name": "python3"
  },
  "language_info": {
   "codemirror_mode": {
    "name": "ipython",
    "version": 3
   },
   "file_extension": ".py",
   "mimetype": "text/x-python",
   "name": "python",
   "nbconvert_exporter": "python",
   "pygments_lexer": "ipython3",
   "version": "3.13.5"
  }
 },
 "nbformat": 4,
 "nbformat_minor": 5
}
