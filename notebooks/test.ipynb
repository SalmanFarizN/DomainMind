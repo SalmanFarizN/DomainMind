{
 "cells": [
  {
   "cell_type": "code",
   "execution_count": null,
   "id": "c404dd64",
   "metadata": {},
   "outputs": [],
   "source": [
    "import sys\n",
    "\n",
    "sys.path.append(\"../\")\n",
    "\n",
    "from src.DataLoad import DataLoader"
   ]
  },
  {
   "cell_type": "code",
   "execution_count": null,
   "id": "1a4bb6d9",
   "metadata": {},
   "outputs": [],
   "source": [
    "load_pdf = DataLoader(\"../data/raw/files/\")\n",
    "load_pdf.load_pdf()"
   ]
  }
 ],
 "metadata": {
  "kernelspec": {
   "display_name": "doc-chat",
   "language": "python",
   "name": "python3"
  },
  "language_info": {
   "codemirror_mode": {
    "name": "ipython",
    "version": 3
   },
   "file_extension": ".py",
   "mimetype": "text/x-python",
   "name": "python",
   "nbconvert_exporter": "python",
   "pygments_lexer": "ipython3",
   "version": "3.13.5"
  }
 },
 "nbformat": 4,
 "nbformat_minor": 5
}
